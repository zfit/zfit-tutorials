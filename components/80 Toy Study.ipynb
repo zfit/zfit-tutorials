{
 "cells": [
  {
   "cell_type": "markdown",
   "metadata": {},
   "source": [
    "# Toy studies\n",
    "\n",
    "Having a model, it can be convenient to do sensitivity studies and checks of the fit by doing a \"toy study\": sampling from the model and fitting to the generated sample. The fitted values and the spread characterize whether the fit is biased or not. The difference to the \"actual\" value divided by the uncertainty (the pulls) should follow a standard Gaussian distribution"
   ]
  },
  {
   "cell_type": "code",
   "execution_count": 1,
   "metadata": {},
   "outputs": [
    {
     "name": "stderr",
     "output_type": "stream",
     "text": [
      "/home/jonas/Documents/physics/software/zfit_project/zfit_repo/zfit/__init__.py:37: UserWarning: TensorFlow warnings are by default suppressed by zfit. In order to show them, set the environment variable ZFIT_DISABLE_TF_WARNINGS=0. In order to suppress the TensorFlow warnings AND this warning, set ZFIT_DISABLE_TF_WARNINGS=1.\n",
      "  warnings.warn(\"TensorFlow warnings are by default suppressed by zfit.\"\n"
     ]
    }
   ],
   "source": [
    "import matplotlib.pyplot as plt\n",
    "import numpy as np\n",
    "import progressbar\n",
    "import tensorflow as tf\n",
    "import zfit\n",
    "from zfit import z"
   ]
  },
  {
   "cell_type": "markdown",
   "metadata": {},
   "source": [
    "We gonna build a simple model, just a Gaussian. But, given the well defined workflow of zfit, `model` can be exchanged by _any_ complicated composition or custom model."
   ]
  },
  {
   "cell_type": "code",
   "execution_count": 2,
   "metadata": {},
   "outputs": [],
   "source": [
    "obs = zfit.Space('x', (-5, 5))\n",
    "\n",
    "sigma = zfit.Parameter('sigma', 1, 0.1, 10)\n",
    "mu = zfit.Parameter('mu', 0, -1, 1)\n",
    "model = zfit.pdf.Gauss(obs=obs, mu=mu, sigma=sigma)"
   ]
  },
  {
   "cell_type": "markdown",
   "metadata": {},
   "source": [
    "Instead of using `sample` as before, we will first build our loss with a more efficient `Data`, a \"sampler\", created by `create_sampler`. This has like `sample` the arguments for limits and the number of samples, but also supports `fixed_params`, which is true by default. This means that whenever this object is _resampled_, it will be resampled with the parameter values that it had when we created the sampler."
   ]
  },
  {
   "cell_type": "code",
   "execution_count": 3,
   "metadata": {},
   "outputs": [],
   "source": [
    "sampler = model.create_sampler(n=3000, fixed_params=True)"
   ]
  },
  {
   "cell_type": "markdown",
   "metadata": {},
   "source": [
    "So far, no sampling happened yet. But first, we build our whole chain, just using our sampler as `data`."
   ]
  },
  {
   "cell_type": "code",
   "execution_count": 4,
   "metadata": {},
   "outputs": [
    {
     "name": "stderr",
     "output_type": "stream",
     "text": [
      "/home/jonas/Documents/physics/software/zfit_project/zfit_repo/zfit/minimizers/baseminimizer.py:200: ChangedFeatureWarning: The behavior of this functionality recently changed.To turn this warning off, use `zfit.settings.changed_warnings.strategies_in_minimizers.` = False`  or 'all' with `zfit.settings.changed_warnings.all = False\n",
      "A strategy should now be a class, not an instance. The minimizer will at the beginning of the minimization create an instance that can be stateful during the minimization and will be stored in the FitResult.\n",
      "  warn_changed_feature(message=\"A strategy should now be a class, not an instance. The minimizer will\"\n"
     ]
    }
   ],
   "source": [
    "nll = zfit.loss.UnbinnedNLL(model, sampler)\n",
    "\n",
    "from zfit.minimize import \\\n",
    "    DefaultToyStrategy  # this stategy does not raise an error with NaNs but returns a non-converged `FitResult`\n",
    "\n",
    "minimizer = zfit.minimize.Minuit(strategy=DefaultToyStrategy(), verbosity=0, tol=1e-3, use_minuit_grad=True)"
   ]
  },
  {
   "cell_type": "code",
   "execution_count": 5,
   "metadata": {},
   "outputs": [],
   "source": [
    "fit_results = []\n",
    "ntoys = 20"
   ]
  },
  {
   "cell_type": "code",
   "execution_count": 6,
   "metadata": {},
   "outputs": [
    {
     "name": "stderr",
     "output_type": "stream",
     "text": [
      "100% (20 of 20) |########################| Elapsed Time: 0:00:01 Time:  0:00:01\n"
     ]
    }
   ],
   "source": [
    "params = nll.get_params()\n",
    "\n",
    "with progressbar.ProgressBar(max_value=ntoys) as bar:\n",
    "\n",
    "    while len(fit_results) < ntoys:\n",
    "\n",
    "        # Generate toys\n",
    "        sampler.resample()  # this is where the sampling happens\n",
    "\n",
    "        # Randomise initial values. They can put the pdf in an unphysical region, making it negative at points.\n",
    "        # This will produce NaNs in the log of the NLL. Therefore, we randomize until we got no NaNs anymore.\n",
    "        for param in params:\n",
    "            param.randomize()  # or smarter, use `set_value` for your own method\n",
    "\n",
    "# The following can be used if the loss may returns NaNs, to test. Repeat in a while loop until it matches\n",
    "#            try:\n",
    "#                is_nan = np.isnan(zfit.run(nll.value()))\n",
    "#            except tf.errors.InvalidArgumentError:  # NaNs produced, check_numerics raises this error\n",
    "#                # print(\"nan error, try again\")  # try again\n",
    "#                is_nan = True\n",
    "#            else:\n",
    "#                break\n",
    "\n",
    "        # Minimise the NLL\n",
    "        result = minimizer.minimize(nll)\n",
    "\n",
    "        if result.converged:\n",
    "            # Calculate uncertainties\n",
    "            result.hesse()\n",
    "            fit_results.append(result)\n",
    "            bar.update(len(fit_results))"
   ]
  },
  {
   "cell_type": "code",
   "execution_count": 7,
   "metadata": {},
   "outputs": [
    {
     "name": "stdout",
     "output_type": "stream",
     "text": [
      "[<zfit.minimizers.fitresult.FitResult object at 0x7f6af04313a0>, <zfit.minimizers.fitresult.FitResult object at 0x7f6af0431ee0>, <zfit.minimizers.fitresult.FitResult object at 0x7f6af0431a30>, <zfit.minimizers.fitresult.FitResult object at 0x7f6af0431190>, <zfit.minimizers.fitresult.FitResult object at 0x7f6af0431d30>, <zfit.minimizers.fitresult.FitResult object at 0x7f6af0451130>, <zfit.minimizers.fitresult.FitResult object at 0x7f6af0451070>, <zfit.minimizers.fitresult.FitResult object at 0x7f6af044acd0>, <zfit.minimizers.fitresult.FitResult object at 0x7f6af044adf0>, <zfit.minimizers.fitresult.FitResult object at 0x7f6af0482eb0>]\n"
     ]
    }
   ],
   "source": [
    "print(fit_results[:10])"
   ]
  },
  {
   "cell_type": "markdown",
   "metadata": {},
   "source": [
    "## Evaluate results\n",
    "\n",
    "From here on, we can use the fit_results to compare against the true value, make plots, etc."
   ]
  },
  {
   "cell_type": "code",
   "execution_count": null,
   "metadata": {},
   "outputs": [],
   "source": []
  }
 ],
 "metadata": {
  "kernelspec": {
   "display_name": "Python 3",
   "language": "python",
   "name": "python3"
  },
  "language_info": {
   "codemirror_mode": {
    "name": "ipython",
    "version": 3
   },
   "file_extension": ".py",
   "mimetype": "text/x-python",
   "name": "python",
   "nbconvert_exporter": "python",
   "pygments_lexer": "ipython3",
   "version": "3.8.10"
  }
 },
 "nbformat": 4,
 "nbformat_minor": 4
}
