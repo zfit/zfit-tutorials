{
 "cells": [
  {
   "cell_type": "markdown",
   "source": [
    "\n",
    "# FitResult\n",
    "\n",
    "In this tutorial, we will explore the `FitResult`of zfit. Specifically, we will examine the error methods hesse and errors as well as attributes like info, valid etc. We will also provide an example with weighted data to demonstrate how FitResult works with weighted datasets.\n",
    "\n"
   ],
   "metadata": {
    "collapsed": false
   }
  },
  {
   "cell_type": "markdown",
   "source": [
    "We will start out by creating a simple gaussian model and sampling some data from it. We will then fit the data with the same model and explore the `FitResult`."
   ],
   "metadata": {
    "collapsed": false
   }
  },
  {
   "cell_type": "code",
   "execution_count": null,
   "outputs": [],
   "source": [
    "import numpy as np\n",
    "import zfit\n",
    "\n",
    "obs = zfit.Space('x', limits=(0, 10))\n",
    "mu = zfit.Parameter('mu', 5, 0, 10)\n",
    "sigma = zfit.Parameter('sigma', 1, 0, 10)\n",
    "nsig = zfit.Parameter('nsig', 1000, 0, 10000)\n",
    "gauss = zfit.pdf.Gauss(obs=obs, mu=mu, sigma=sigma,\n",
    "                       # extended=nsig  # requires zfit>=0.13\n",
    "                       )\n",
    "gauss = gauss.create_extended(nsig)\n",
    "\n",
    "data = gauss.sample()\n",
    "print(f\"The sampled data (poisson fluctuated) has {data.nevents} events.\")"
   ],
   "metadata": {
    "collapsed": false
   }
  },
  {
   "cell_type": "markdown",
   "source": [
    "We use an extended likelihood to fit the data."
   ],
   "metadata": {
    "collapsed": false
   }
  },
  {
   "cell_type": "code",
   "execution_count": null,
   "outputs": [],
   "source": [
    "nll = zfit.loss.ExtendedUnbinnedNLL(model=gauss, data=data)\n",
    "minimizer = zfit.minimize.Minuit()\n",
    "result = minimizer.minimize(nll)"
   ],
   "metadata": {
    "collapsed": false
   }
  },
  {
   "cell_type": "markdown",
   "source": [
    "The `FitResult` has a lot of attributes and methods. We will now explore some of them.\n",
    "Simply printing the result will give you a nice overview of the fit result.\n",
    "\n",
    "All the displayed information can be accessed via the attributes of the `FitResult` object, namely\n",
    "- valid: whether the fit converged and is in general valid\n",
    "- converged: whether the fit converged\n",
    "- param at limit: whether any parameter is at its limit (approximate, hard to estimate)\n",
    "- edm: estimated distance to minimum\n",
    "- fmin: the minimum of the function, i.e. the negative log likelihood"
   ],
   "metadata": {
    "collapsed": false
   }
  },
  {
   "cell_type": "code",
   "execution_count": null,
   "outputs": [],
   "source": [
    "print(result)"
   ],
   "metadata": {
    "collapsed": false
   }
  },
  {
   "cell_type": "code",
   "execution_count": null,
   "outputs": [],
   "source": [
    "print(f\"\"\"\n",
    "valid: {result.valid}\n",
    "converged: {result.converged}\n",
    "param at limit: {result.params_at_limit}\n",
    "edm: {result.edm}\n",
    "fmin: {result.fmin}\n",
    "\"\"\")"
   ],
   "metadata": {
    "collapsed": false
   }
  },
  {
   "cell_type": "markdown",
   "source": [
    "## Error methods\n",
    "\n",
    "There are two main ways to estimate the uncertainties: Either using a profiling method that varies the parameters one by one and finds\n",
    "the point of 1 sigma (or the specified n sigma), resulting in asymmetric errors, or using a matrix inversion method that calculates\n",
    "an approximation of the former by using a second derivative matrix.\n",
    "\n",
    "The first method is called `hesse` and the second `errors`. Both methods are available in the `FitResult` object.\n",
    "\n",
    "### Pitfall weights\n",
    "\n",
    "For weighted likelihoods, the `errors` method will not report the correct uncertainties. Instead, `hesse` should be used\n",
    "as it will, by default, calculate the asymptotic correct approximations for weigths.\n",
    "\n",
    "### Arguments\n",
    "\n",
    "Both methods take some common arguments:\n",
    "- `params`: the parameters to calculate the errors for. If `None`, all parameters will be used. (this can be expensive!)\n",
    "- `name`: the name of the new result. If `None`, the name will be chosen automatically.\n",
    "- `cl`: the confidence level for the errors. The default is 0.68, which corresponds to 1 sigma.\n",
    "- `method`: the method to use. The default is `None` which will use the default method of the uncertainty estimator."
   ],
   "metadata": {
    "collapsed": false
   }
  },
  {
   "cell_type": "code",
   "execution_count": null,
   "outputs": [],
   "source": [
    "errors, new_result = result.errors(name=\"errors\")\n",
    "print(f\"New result: {new_result}\")\n",
    "print(result)"
   ],
   "metadata": {
    "collapsed": false
   }
  },
  {
   "cell_type": "markdown",
   "source": [
    "The uncertainties are added to the fit result. The `new_result` is usually `None` but in case a new minimum was found, it will be returned\n",
    "as the new result. In this case, the old result will be rendered invalid.\n",
    "\n",
    "There are currently two implementations, the minos method from `iminuit` (as `minuit_minos`) and a completely independent implementation\n",
    "(`zfit_errors`)."
   ],
   "metadata": {
    "collapsed": false
   }
  },
  {
   "cell_type": "code",
   "execution_count": null,
   "outputs": [],
   "source": [
    "errors2, _ = result.errors(name=\"zfit_unc\", method=\"zfit_errors\")\n",
    "print(result)"
   ],
   "metadata": {
    "collapsed": false
   }
  },
  {
   "cell_type": "markdown",
   "source": [
    "As we see, they both agree well. We can also change the confidence level to 0.95, which corresponds to 2 sigma and recalculate the errors."
   ],
   "metadata": {
    "collapsed": false
   }
  },
  {
   "cell_type": "code",
   "execution_count": null,
   "outputs": [],
   "source": [
    "errors3, _ = result.errors(name=\"zfit_2sigma\", method=\"zfit_errors\", cl=0.95)\n",
    "print(result)"
   ],
   "metadata": {
    "collapsed": false
   }
  },
  {
   "cell_type": "markdown",
   "source": [
    "### Hesse\n",
    "\n",
    "The hesse method approximates the errors by calculating the second derivative matrix of the function and inverting it.\n",
    "As for `errors` there are two implementations, one from `iminuit` (`minuit_hesse`) and one from `zfit` (`hesse_np`).\n",
    "\n",
    "Additionally, the `hesse` has a third option, `approx`: this is the approximation of the hessian estimated by the minimizer\n",
    "during the minimization procedure. This however *can* be `None`! Also, the accuracy can be low, especially if the\n",
    "fit converged rapidly."
   ],
   "metadata": {
    "collapsed": false
   }
  },
  {
   "cell_type": "code",
   "execution_count": null,
   "outputs": [],
   "source": [
    "hesse = result.hesse(name=\"h minuit\", method=\"minuit_hesse\", cl=0.95)  # can also take the cl argument\n",
    "hesse2 = result.hesse(name=\"h zfit\", method=\"hesse_np\")\n",
    "hesse3 = result.hesse(name=\"h approx\", method=\"approx\")\n",
    "print(result)"
   ],
   "metadata": {
    "collapsed": false
   }
  },
  {
   "cell_type": "markdown",
   "source": [
    "Internally, zfit uses by default a numerical approximation of the hessian, which is usually sufficient and good for one-time use.\n",
    "However, if you want to use the hessian for multiple fits, it is recommended to force it to use the exact gradient provided by the\n",
    "backend. To make sure one or the other is used, you can set `zfit.run.set_autograd_mode(False)` or `zfit.run.set_autograd_mode(True)`."
   ],
   "metadata": {
    "collapsed": false
   },
   "execution_count": null
  },
  {
   "cell_type": "code",
   "execution_count": null,
   "outputs": [],
   "source": [
    "with zfit.run.set_autograd_mode(True):\n",
    "    hesse4 = result.hesse(name=\"h autograd\", method=\"hesse_np\")\n",
    "print(result)"
   ],
   "metadata": {
    "collapsed": false
   }
  },
  {
   "cell_type": "code",
   "execution_count": null,
   "outputs": [],
   "source": [],
   "metadata": {
    "collapsed": false
   }
  },
  {
   "cell_type": "markdown",
   "source": [
    "## Attributes\n",
    "\n",
    "The `FitResult` has a lot of attributes. We will now explore some of them.\n",
    "- `info`: the information returned by the minimizer. This is a dictionary and can be different for different minimizers. THe standardized keys can always be accessed in other ways."
   ],
   "metadata": {
    "collapsed": false
   },
   "execution_count": null
  },
  {
   "cell_type": "code",
   "execution_count": null,
   "outputs": [],
   "source": [
    "result.info.keys()"
   ],
   "metadata": {
    "collapsed": false
   }
  },
  {
   "cell_type": "code",
   "execution_count": null,
   "outputs": [],
   "source": [
    "result.info[\"original\"]"
   ],
   "metadata": {
    "collapsed": false
   }
  },
  {
   "cell_type": "code",
   "execution_count": null,
   "outputs": [],
   "source": [
    "result.info[\"minuit\"]"
   ],
   "metadata": {
    "collapsed": false
   }
  },
  {
   "cell_type": "code",
   "execution_count": null,
   "outputs": [],
   "source": [],
   "metadata": {
    "collapsed": false
   }
  }
 ],
 "metadata": {
  "kernelspec": {
   "display_name": "Python 3",
   "language": "python",
   "name": "python3"
  },
  "language_info": {
   "codemirror_mode": {
    "name": "ipython",
    "version": 2
   },
   "file_extension": ".py",
   "mimetype": "text/x-python",
   "name": "python",
   "nbconvert_exporter": "python",
   "pygments_lexer": "ipython2",
   "version": "2.7.6"
  }
 },
 "nbformat": 4,
 "nbformat_minor": 0
}
