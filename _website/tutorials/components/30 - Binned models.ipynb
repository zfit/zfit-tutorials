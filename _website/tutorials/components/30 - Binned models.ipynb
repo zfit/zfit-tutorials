{
 "cells": [
  {
   "cell_type": "markdown",
   "metadata": {
    "pycharm": {
     "name": "#%% md\n"
    }
   },
   "source": [
    "# Binned fits\n",
    "\n",
    "Binned models and data can be created in two ways:\n",
    "- from an unbinned model to a binned model or an unbinned dataset to a binned dataset\n",
    "- directly from a binned object"
   ]
  },
  {
   "cell_type": "code",
   "execution_count": null,
   "metadata": {
    "jupyter": {
     "outputs_hidden": false
    },
    "pycharm": {
     "name": "#%%\n"
    }
   },
   "outputs": [],
   "source": [
    "import hist as hist\n",
    "import mplhep\n",
    "import numpy as np\n",
    "import zfit\n",
    "import zfit.z.numpy as znp"
   ]
  },
  {
   "cell_type": "code",
   "execution_count": null,
   "metadata": {
    "jupyter": {
     "outputs_hidden": false
    },
    "pycharm": {
     "name": "#%%\n"
    }
   },
   "outputs": [],
   "source": [
    "from matplotlib import pyplot as plt\n",
    "\n",
    "normal_np = np.random.normal(loc=2., scale=3., size=10000)\n",
    "\n",
    "obs = zfit.Space(\"x\", limits=(-10, 10))\n",
    "\n",
    "mu = zfit.Parameter(\"mu\", 1., -4, 6)\n",
    "sigma = zfit.Parameter(\"sigma\", 1., 0.1, 10)\n",
    "model_nobin = zfit.pdf.Gauss(mu, sigma, obs)\n",
    "\n",
    "data_nobin = zfit.Data.from_numpy(obs, normal_np)\n",
    "\n",
    "loss_nobin = zfit.loss.UnbinnedNLL(model_nobin, data_nobin)"
   ]
  },
  {
   "cell_type": "code",
   "execution_count": null,
   "metadata": {
    "jupyter": {
     "outputs_hidden": false
    },
    "pycharm": {
     "name": "#%%\n"
    }
   },
   "outputs": [],
   "source": [
    "# make binned\n",
    "binning = zfit.binned.RegularBinning(50, -8, 10, name=\"x\")\n",
    "obs_bin = zfit.Space(\"x\", binning=binning)\n",
    "\n",
    "data = data_nobin.to_binned(obs_bin)\n",
    "model = zfit.pdf.BinnedFromUnbinnedPDF(model_nobin, obs_bin)\n",
    "loss = zfit.loss.BinnedNLL(model, data)"
   ]
  },
  {
   "cell_type": "markdown",
   "metadata": {
    "pycharm": {
     "name": "#%% md\n"
    }
   },
   "source": [
    "## Minimization\n",
    "\n",
    "Both loss look the same to a minimizer and from here on, the whole minimization process is the same.\n",
    "\n",
    "The following is the same as in the most simple case."
   ]
  },
  {
   "cell_type": "code",
   "execution_count": null,
   "metadata": {
    "pycharm": {
     "name": "#%%\n"
    }
   },
   "outputs": [],
   "source": [
    "minimizer = zfit.minimize.Minuit()\n",
    "result = minimizer.minimize(loss)"
   ]
  },
  {
   "cell_type": "code",
   "execution_count": null,
   "metadata": {
    "pycharm": {
     "name": "#%%\n"
    }
   },
   "outputs": [],
   "source": [
    "result.hesse()\n",
    "print(result)"
   ]
  },
  {
   "cell_type": "markdown",
   "metadata": {
    "pycharm": {
     "name": "#%% md\n"
    }
   },
   "source": [
    "## Plotting the PDF\n",
    "\n",
    "Since both PDFs are histograms, they can both be converted to histograms and plotted.\n",
    "\n",
    "Using the `to_hist` method of the model and the `BinnedData` respectively, the data can be converted to a histogram."
   ]
  },
  {
   "cell_type": "code",
   "execution_count": null,
   "metadata": {
    "pycharm": {
     "name": "#%%\n"
    }
   },
   "outputs": [],
   "source": [
    "model_hist = model.to_hist()\n",
    "\n",
    "plt.figure()\n",
    "mplhep.histplot(model_hist, density=1, label=\"model\")\n",
    "mplhep.histplot(data.to_hist(), density=1, label=\"data\")\n",
    "plt.legend()\n",
    "plt.title(\"After fit\")\n"
   ]
  },
  {
   "cell_type": "markdown",
   "metadata": {},
   "source": [
    "## To and from histograms\n",
    "\n",
    "zfit interoperates with the Scikit-HEP histogram packages [hist](https://hist.readthedocs.io/en/latest/) and\n",
    "[boost-histogram](https://boost-histogram.readthedocs.io/en/latest/), most notably with the `NamedHist`\n",
    " (or `Hist` if axes have a name) class.\n",
    "\n",
    "We can create a `BinnedData` from a `(Named)Hist` and vice versa."
   ]
  },
  {
   "cell_type": "code",
   "execution_count": null,
   "metadata": {
    "pycharm": {
     "name": "#%%\n"
    }
   },
   "outputs": [],
   "source": [
    "h = hist.Hist(hist.axis.Regular(bins=15, start=-8, stop=10, name=\"x\"))\n",
    "h.fill(x=normal_np)\n",
    "mplhep.histplot(h)"
   ]
  },
  {
   "cell_type": "code",
   "execution_count": null,
   "metadata": {
    "pycharm": {
     "name": "#%%\n"
    }
   },
   "outputs": [],
   "source": [
    "binned_data = zfit.data.BinnedData.from_hist(h)\n",
    "binned_data"
   ]
  },
  {
   "cell_type": "code",
   "execution_count": null,
   "metadata": {
    "pycharm": {
     "name": "#%%\n"
    }
   },
   "outputs": [],
   "source": [
    "# convert back to hist\n",
    "h_back = binned_data.to_hist()\n",
    "\n",
    "plt.figure()\n",
    "mplhep.histplot(h, label=\"original\")\n",
    "mplhep.histplot(h_back, label=\"back\", alpha=0.5)\n",
    "plt.legend()"
   ]
  },
  {
   "cell_type": "markdown",
   "metadata": {},
   "source": [
    "## Binned models from histograms\n",
    "\n",
    "With a binned dataset, we can directly create a model from it using `HistogramPDF`. In fact, we could even\n",
    "directly use the histogram to create a `HistogramPDF` from it."
   ]
  },
  {
   "cell_type": "code",
   "execution_count": null,
   "metadata": {
    "pycharm": {
     "name": "#%%\n"
    }
   },
   "outputs": [],
   "source": [
    "histpdf = zfit.pdf.HistogramPDF(h)"
   ]
  },
  {
   "cell_type": "markdown",
   "metadata": {
    "pycharm": {
     "name": "#%% md\n"
    }
   },
   "source": [
    "As previous models, this is a Binned PDF, so we can:\n",
    "- use the `to_hist` method to get a `(Named)Hist` back.\n",
    "- use the `to_binned` method to get a `BinnedData` back.\n",
    "- use the `counts` method to get the `counts` of the histogram.\n",
    "- use the `rel_counts` method to get the `relative counts` of the histogram.\n",
    "\n",
    "Furthermore, `HistogramPDF` also has the `pdf` and `ext_pdf` method like an unbined PDF. They return a\n",
    "`BinnedData` if a `BinnedData` is passed to them (where no evaluation is done on the data passed, just\n",
    "the axes are used). Both methods, `pdf` and `ext_pdf`, can also handle unbinned data."
   ]
  },
  {
   "cell_type": "code",
   "execution_count": null,
   "metadata": {
    "pycharm": {
     "name": "#%%\n"
    }
   },
   "outputs": [],
   "source": [
    "x = znp.linspace(-8, 10, 100)\n",
    "plt.plot(histpdf.pdf(x), 'x')"
   ]
  },
  {
   "cell_type": "markdown",
   "metadata": {},
   "source": [
    "We can also go the other way around and produce a `Hist` from a `HistogramPDF`.\n",
    "There are two distinct ways to do this:\n",
    "- using the `to_hist` or `to_binneddata` method of the `HistogramPDF` to create a `Hist` or a `BinnedData`\n",
    "  respectively that represents the exact shape of the PDF.\n",
    "- draw a sample from the histogram using the `sample` method. This will not result in an exact match to the\n",
    "  PDFs shape but will have random fluctuations. This functionality can be used for example to perform\n",
    "  toy studies."
   ]
  },
  {
   "cell_type": "code",
   "execution_count": null,
   "metadata": {
    "pycharm": {
     "name": "#%%\n"
    }
   },
   "outputs": [],
   "source": [
    "azimov_hist = model.to_hist()\n",
    "azimov_data = model.to_binneddata()\n",
    "sampled_data = model.sample(1000)"
   ]
  },
  {
   "cell_type": "code",
   "execution_count": null,
   "metadata": {
    "jupyter": {
     "outputs_hidden": false
    },
    "pycharm": {
     "name": "#%%\n"
    }
   },
   "outputs": [],
   "source": [
    "# The exact histogram from the PDF\n",
    "azimov_data"
   ]
  },
  {
   "cell_type": "code",
   "execution_count": null,
   "metadata": {
    "jupyter": {
     "outputs_hidden": false
    },
    "pycharm": {
     "name": "#%%\n"
    }
   },
   "outputs": [],
   "source": [
    "# A sample from the histogram\n",
    "sampled_data\n"
   ]
  },
  {
   "cell_type": "code",
   "execution_count": null,
   "metadata": {
    "pycharm": {
     "name": "#%%\n"
    }
   },
   "outputs": [],
   "source": []
  },
  {
   "cell_type": "code",
   "execution_count": null,
   "metadata": {
    "pycharm": {
     "name": "#%%\n"
    }
   },
   "outputs": [],
   "source": []
  }
 ],
 "metadata": {
  "kernelspec": {
   "display_name": "Python 3 (ipykernel)",
   "language": "python",
   "name": "python3"
  },
  "language_info": {
   "codemirror_mode": {
    "name": "ipython",
    "version": 3
   },
   "file_extension": ".py",
   "mimetype": "text/x-python",
   "name": "python",
   "nbconvert_exporter": "python",
   "pygments_lexer": "ipython3",
   "version": "3.10.4"
  }
 },
 "nbformat": 4,
 "nbformat_minor": 4
}
