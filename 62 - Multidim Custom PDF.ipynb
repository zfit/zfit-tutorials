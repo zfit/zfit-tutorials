{
 "cells": [
  {
   "cell_type": "markdown",
   "metadata": {},
   "source": [
    "# Multidimensional PDFs\n",
    "\n",
    "This tutorial is about handling multiple dimensions when creating a custom PDF.\n",
    "\n",
    "The differences are marginal since the ordering is handled automatically. It is on the other hand crucial to understand the concept of a `Space`, most notably `obs` and `axes`.\n",
    "\n",
    "A user (1someone who instantiates the PDF) only knows and handles observables. The relative order does not matter, if a data has observables a and b and a pdf has observables b and a, the data will be reordered automatically.  Inside a PDF on the other hand, we do not care at all about observables but only about the ordering of the data, the *axis*. So any data tensor we have, and limits for integration, normalization etc. **inside** the PDF is order based and uses *axes*. \n",
    "\n",
    "When passing the observables to the init of the PDF (as a user), each observable is automatically assigned to an axis corresponding to the order of the observable. The crucial point is therefore to communicate to the user which *axis* corresponds to what. The naming of the observables is completely up to the user, but the order of the observables depends on the pdf. Therefore, the correspondance of each axis to it's meaning has to be stated in the docs."
   ]
  },
  {
   "cell_type": "code",
   "execution_count": 1,
   "metadata": {},
   "outputs": [],
   "source": [
    "import zfit\n",
    "from zfit import ztf\n",
    "import numpy as np"
   ]
  },
  {
   "cell_type": "markdown",
   "metadata": {},
   "source": [
    "## Axes, not obs\n",
    "\n",
    "Since we create a pdf here, we now can completely forget about observables. We can assume that all the data is axes based (order based).We simply need to write down what each axis means.\n",
    "\n",
    "An example pdf is implemented below. It calculates the lenght of a vector shifted by some number (dummy example)."
   ]
  },
  {
   "cell_type": "code",
   "execution_count": 2,
   "metadata": {},
   "outputs": [],
   "source": [
    "class AbsVectorShifted(zfit.pdf.ZPDF):\n",
    "    _N_OBS = 3  # dimension, can be omitted\n",
    "    _PARAMS = ['xshift', 'yshift']  # the name of the parameters\n",
    "    \n",
    "    def _unnormalized_pdf(self, x):\n",
    "        x = ztf.unstack_x(x)  # returns a list with the columns: do x, y, z = ztf.unstack_x(x) for 3D\n",
    "        mean = self.params['mean']\n",
    "        std = self.params['std']\n",
    "        return ztf.exp(- ((x - mean)/std)**2)\n",
    "        "
   ]
  },
  {
   "cell_type": "markdown",
   "metadata": {},
   "source": [
    "Done. Now we can use our pdf already!"
   ]
  },
  {
   "cell_type": "code",
   "execution_count": 3,
   "metadata": {},
   "outputs": [],
   "source": [
    "obs = zfit.Space('obs1', limits=(-3, 6))\n",
    "\n",
    "data_np = np.random.random(size=1000)\n",
    "data = zfit.data.Data.from_numpy(array=data_np, obs=obs)"
   ]
  },
  {
   "cell_type": "markdown",
   "metadata": {},
   "source": [
    "Create two parameters and an instance of your own pdf"
   ]
  },
  {
   "cell_type": "code",
   "execution_count": 4,
   "metadata": {},
   "outputs": [
    {
     "name": "stdout",
     "output_type": "stream",
     "text": [
      "WARNING:tensorflow:From /home/jonas/anaconda3/envs/zfit36/lib/python3.6/site-packages/tensorflow/python/ops/resource_variable_ops.py:435: colocate_with (from tensorflow.python.framework.ops) is deprecated and will be removed in a future version.\n",
      "Instructions for updating:\n",
      "Colocations handled automatically by placer.\n"
     ]
    }
   ],
   "source": [
    "mean = zfit.Parameter(\"mean\", 1.)\n",
    "std = zfit.Parameter(\"std\", 1.)\n",
    "my_gauss = MyGauss(obs='obs1', mean=mean, std=std)"
   ]
  },
  {
   "cell_type": "code",
   "execution_count": 5,
   "metadata": {},
   "outputs": [],
   "source": [
    "probs = my_gauss.pdf(data, norm_range=(-3, 4))"
   ]
  },
  {
   "cell_type": "code",
   "execution_count": 6,
   "metadata": {},
   "outputs": [
    {
     "name": "stdout",
     "output_type": "stream",
     "text": [
      "[0.54061221 0.26987065 0.55748768 0.55287316 0.35744102 0.56147295\n",
      " 0.24496626 0.27563618 0.469028   0.50871657 0.2807743  0.23819832\n",
      " 0.28492248 0.56415543 0.49875545 0.25174901 0.5481325  0.21933145\n",
      " 0.33557439 0.48277319]\n"
     ]
    }
   ],
   "source": [
    "probs_np = zfit.run(probs)\n",
    "print(probs_np[:20])"
   ]
  },
  {
   "cell_type": "markdown",
   "metadata": {},
   "source": [
    "We could improve our PDF by registering an integral"
   ]
  },
  {
   "cell_type": "code",
   "execution_count": 7,
   "metadata": {},
   "outputs": [],
   "source": [
    "def gauss_integral_from_any_to_any(limits, params, model):\n",
    "    lower, upper = limits.limit1d\n",
    "    mean = params['mean']\n",
    "    std = params['std']\n",
    "    # write your integral here\n",
    "    return 42.  # dummy integral, must be a scalar!"
   ]
  },
  {
   "cell_type": "code",
   "execution_count": 8,
   "metadata": {},
   "outputs": [],
   "source": [
    "limits = zfit.Space.from_axes(axes=0, limits=(zfit.Space.ANY_LOWER, zfit.Space.ANY_UPPER))\n",
    "MyGauss.register_analytic_integral(func=gauss_integral_from_any_to_any, limits=limits)"
   ]
  },
  {
   "cell_type": "markdown",
   "metadata": {},
   "source": [
    "### n-dimensional"
   ]
  },
  {
   "cell_type": "markdown",
   "metadata": {},
   "source": [
    "## Advanced Custom PDF\n",
    "\n",
    "Subclass BasePDF. The `_unnormalized_pdf` has to be overriden and, in addition, the `__init__`.\n",
    "\n",
    "Any of the public main methods (`pdf`, `integrate`, `partial_integrate` etc.) can **always** be overriden by implementing the function with a leading underscore, e.g. implement `_pdf` to directly controls `pdf`, the API is the same as the public function without the name. In case, during execution of your own method, it is found to be a bad idea to have overridden the default methods, throwing a `NotImplementedError` will restore the default behavior."
   ]
  },
  {
   "cell_type": "code",
   "execution_count": 9,
   "metadata": {},
   "outputs": [],
   "source": [
    "# TOBEDONE"
   ]
  }
 ],
 "metadata": {
  "kernelspec": {
   "display_name": "Python 3",
   "language": "python",
   "name": "python3"
  },
  "language_info": {
   "codemirror_mode": {
    "name": "ipython",
    "version": 3
   },
   "file_extension": ".py",
   "mimetype": "text/x-python",
   "name": "python",
   "nbconvert_exporter": "python",
   "pygments_lexer": "ipython3",
   "version": "3.6.8"
  }
 },
 "nbformat": 4,
 "nbformat_minor": 2
}
