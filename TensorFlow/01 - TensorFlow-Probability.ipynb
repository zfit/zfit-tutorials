{
 "cells": [
  {
   "cell_type": "markdown",
   "metadata": {},
   "source": [
    "## Tutorial 2: Statistics\n",
    "\n",
    "While TensorFlow offers some support for statistical inference, TensorFlow-Probability is very strong at this and provides MCMC methods, probability distributions and more."
   ]
  },
  {
   "cell_type": "code",
   "execution_count": 1,
   "metadata": {},
   "outputs": [
    {
     "name": "stderr",
     "output_type": "stream",
     "text": [
      "/home/jonas/Documents/physics/software/zfit_project/zfit_repo/zfit/__init__.py:35: UserWarning: TensorFlow warnings are by default suppressed by zfit. In order to show them, set the environment variable ZFIT_DISABLE_TF_WARNINGS=0. In order to suppress the TensorFlow warnings AND this warning, set ZFIT_DISABLE_TF_WARNINGS=1.\n",
      "  warnings.warn(\"TensorFlow warnings are by default suppressed by zfit.\"\n"
     ]
    }
   ],
   "source": [
    "import matplotlib.pyplot as plt\n",
    "import numpy as np\n",
    "import tensorflow as tf\n",
    "import zfit\n",
    "from zfit import z"
   ]
  },
  {
   "cell_type": "markdown",
   "metadata": {},
   "source": [
    "## Distributions\n",
    "\n",
    "There is a whole collection of different distributions to be found in TFP. They have a minimal and well designed interface, which is similar to the SciPy distributions."
   ]
  },
  {
   "cell_type": "code",
   "execution_count": 2,
   "metadata": {},
   "outputs": [],
   "source": [
    "tfd = tfp.distributions"
   ]
  },
  {
   "cell_type": "code",
   "execution_count": 3,
   "metadata": {},
   "outputs": [],
   "source": [
    "cauchy = tfd.Cauchy(loc=1., scale=10.)"
   ]
  },
  {
   "cell_type": "code",
   "execution_count": 4,
   "metadata": {},
   "outputs": [],
   "source": [
    "sample = cauchy.sample(10)"
   ]
  },
  {
   "cell_type": "code",
   "execution_count": 5,
   "metadata": {},
   "outputs": [
    {
     "data": {
      "text/plain": "<tf.Tensor: shape=(10,), dtype=float32, numpy=\narray([0.00139813, 0.02871551, 0.02431434, 0.01461342, 0.00756948,\n       0.00053465, 0.00532917, 0.00023775, 0.00022804, 0.00726295],\n      dtype=float32)>"
     },
     "execution_count": 5,
     "metadata": {},
     "output_type": "execute_result"
    }
   ],
   "source": [
    "cauchy.prob(sample)"
   ]
  },
  {
   "cell_type": "markdown",
   "metadata": {},
   "source": [
    "### Mixtures of PDFs\n",
    "\n",
    "TensorFlow-Probability also supports creating mixtures of different distributions."
   ]
  },
  {
   "cell_type": "code",
   "execution_count": 6,
   "metadata": {},
   "outputs": [],
   "source": [
    "mix = 0.3\n",
    "mix_gauss_cauchy = tfd.Mixture(\n",
    "  cat=tfd.Categorical(probs=[mix, 1.-mix]),\n",
    "  components=[\n",
    "    cauchy,\n",
    "    tfd.Normal(loc=+1., scale=0.5),\n",
    "])"
   ]
  },
  {
   "cell_type": "code",
   "execution_count": 7,
   "metadata": {},
   "outputs": [],
   "source": [
    "sample_mixed = mix_gauss_cauchy.sample(10)"
   ]
  },
  {
   "cell_type": "code",
   "execution_count": 8,
   "metadata": {},
   "outputs": [
    {
     "data": {
      "text/plain": "<tf.Tensor: shape=(10,), dtype=float32, numpy=\narray([0.56296194, 0.04526669, 0.00081195, 0.00912498, 0.48882836,\n       0.21551062, 0.3615021 , 0.22900048, 0.481904  , 0.5654731 ],\n      dtype=float32)>"
     },
     "execution_count": 8,
     "metadata": {},
     "output_type": "execute_result"
    }
   ],
   "source": [
    "mix_gauss_cauchy.prob(sample_mixed)"
   ]
  },
  {
   "cell_type": "markdown",
   "metadata": {},
   "source": [
    "### Joint distributions\n",
    "\n",
    "Furthermore, joint distributions of multiple variables are supported."
   ]
  },
  {
   "cell_type": "code",
   "execution_count": 9,
   "metadata": {},
   "outputs": [],
   "source": [
    "joint = tfd.JointDistributionNamed(dict(\n",
    "    c=             tfd.Cauchy(loc=10., scale=1.),\n",
    "    n=             tfd.Normal(loc=0, scale=2.),\n",
    "    m=lambda n, c: tfd.Normal(loc=n, scale=c),\n",
    "))"
   ]
  },
  {
   "cell_type": "code",
   "execution_count": 10,
   "metadata": {},
   "outputs": [
    {
     "data": {
      "text/plain": "{'n': <tf.Tensor: shape=(10,), dtype=float32, numpy=\n array([ 1.2023524 , -2.5354168 ,  1.8461963 , -4.2037864 , -3.4064677 ,\n        -2.000091  ,  1.4253551 , -0.5112927 ,  0.78236884, -0.97251046],\n       dtype=float32)>,\n 'c': <tf.Tensor: shape=(10,), dtype=float32, numpy=\n array([  5.2407813,  10.599838 ,   8.586605 ,  11.1632185,   4.2875338,\n         11.737058 ,   9.83008  ,   7.2829266, -21.12375  ,  21.575275 ],\n       dtype=float32)>,\n 'm': <tf.Tensor: shape=(10,), dtype=float32, numpy=\n array([ 2.0575674,  6.33679  , -6.255143 ,  8.886772 ,  2.7386997,\n        -6.191878 , -1.7884248, -0.8992961, -0.9361281,  2.1742077],\n       dtype=float32)>}"
     },
     "execution_count": 10,
     "metadata": {},
     "output_type": "execute_result"
    }
   ],
   "source": [
    "sample_joint = joint.sample(10)\n",
    "sample_joint"
   ]
  },
  {
   "cell_type": "code",
   "execution_count": 11,
   "metadata": {},
   "outputs": [
    {
     "data": {
      "text/plain": "<tf.Tensor: shape=(10,), dtype=float32, numpy=\narray([1.6832477e-04, 5.5431761e-04, 4.1181527e-04, 5.3243475e-05,\n       1.4745441e-05, 3.0568580e-04, 1.8417061e-03, 4.0100829e-04,\n                 nan, 7.6459173e-06], dtype=float32)>"
     },
     "execution_count": 11,
     "metadata": {},
     "output_type": "execute_result"
    }
   ],
   "source": [
    "joint.prob(sample_joint)"
   ]
  },
  {
   "cell_type": "markdown",
   "metadata": {},
   "source": [
    "### How TFP compares to zfit\n",
    "\n",
    "TensorFlow-Probability offers a great choice of distributions to build a model. The flexibility in terms of vectorization and parametrization is larger than in zfit. However, they only provide models with analytically known CDFs and lack any numerical normalization or sampling methods. This excludes any more sophisticated model, convolutions and more.\n",
    "\n",
    "Internally, zfit simply wraps TFP distributions for certain implementations, such as the `Gauss`. There is also a standard wrapper, `WrapDistribution`, that allows to easily wrap any TFP distribution and use it in zfit."
   ]
  }
 ],
 "metadata": {
  "kernelspec": {
   "display_name": "Python 3",
   "language": "python",
   "name": "python3"
  },
  "language_info": {
   "codemirror_mode": {
    "name": "ipython",
    "version": 3
   },
   "file_extension": ".py",
   "mimetype": "text/x-python",
   "name": "python",
   "nbconvert_exporter": "python",
   "pygments_lexer": "ipython3",
   "version": "3.8.3"
  }
 },
 "nbformat": 4,
 "nbformat_minor": 4
}
