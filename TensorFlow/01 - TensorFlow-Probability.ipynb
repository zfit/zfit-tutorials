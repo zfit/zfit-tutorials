{
 "cells": [
  {
   "cell_type": "markdown",
   "metadata": {},
   "source": [
    "## Tutorial 2: Statistics\n",
    "\n",
    "While TensorFlow offers some support for statistical inference, TensorFlow-Probability is very strong at this and provides MCMC methods, probability distributions and more."
   ]
  },
  {
   "cell_type": "code",
   "execution_count": 1,
   "metadata": {},
   "outputs": [],
   "source": [
    "import zfit\n",
    "from zfit import z\n",
    "import numpy as np\n",
    "import matplotlib.pyplot as plt\n",
    "import tensorflow as tf"
   ]
  },
  {
   "cell_type": "markdown",
   "metadata": {},
   "source": [
    "## Distributions\n",
    "\n",
    "There is a whole collection of different distributions to be found in TFP. They have a minimal and well designed interface, which is similar to the SciPy distributions."
   ]
  },
  {
   "cell_type": "code",
   "execution_count": 2,
   "metadata": {},
   "outputs": [],
   "source": [
    "tfd = tfp.distributions"
   ]
  },
  {
   "cell_type": "code",
   "execution_count": 3,
   "metadata": {},
   "outputs": [],
   "source": [
    "cauchy = tfd.Cauchy(loc=1., scale=10.)"
   ]
  },
  {
   "cell_type": "code",
   "execution_count": 4,
   "metadata": {},
   "outputs": [],
   "source": [
    "sample = cauchy.sample(10)"
   ]
  },
  {
   "cell_type": "code",
   "execution_count": 5,
   "metadata": {},
   "outputs": [
    {
     "data": {
      "text/plain": [
       "<tf.Tensor: shape=(10,), dtype=float32, numpy=\n",
       "array([0.02881326, 0.02045262, 0.00568203, 0.00745806, 0.02504767,\n",
       "       0.02334153, 0.01715136, 0.02477342, 0.01758285, 0.03176593],\n",
       "      dtype=float32)>"
      ]
     },
     "execution_count": 5,
     "metadata": {},
     "output_type": "execute_result"
    }
   ],
   "source": [
    "cauchy.prob(sample)"
   ]
  },
  {
   "cell_type": "markdown",
   "metadata": {},
   "source": [
    "### Mixtures of PDFs\n",
    "\n",
    "TensorFlow-Probability also supports creating mixtures of different distributions."
   ]
  },
  {
   "cell_type": "code",
   "execution_count": 6,
   "metadata": {},
   "outputs": [],
   "source": [
    "mix = 0.3\n",
    "mix_gauss_cauchy = tfd.Mixture(\n",
    "  cat=tfd.Categorical(probs=[mix, 1.-mix]),\n",
    "  components=[\n",
    "    cauchy,\n",
    "    tfd.Normal(loc=+1., scale=0.5),\n",
    "])"
   ]
  },
  {
   "cell_type": "code",
   "execution_count": 7,
   "metadata": {},
   "outputs": [],
   "source": [
    "sample_mixed = mix_gauss_cauchy.sample(10)"
   ]
  },
  {
   "cell_type": "code",
   "execution_count": 8,
   "metadata": {},
   "outputs": [
    {
     "data": {
      "text/plain": [
       "<tf.Tensor: shape=(10,), dtype=float32, numpy=\n",
       "array([0.4268287 , 0.00808947, 0.40308884, 0.3533951 , 0.50831145,\n",
       "       0.00361311, 0.21846075, 0.00726999, 0.492639  , 0.00376655],\n",
       "      dtype=float32)>"
      ]
     },
     "execution_count": 8,
     "metadata": {},
     "output_type": "execute_result"
    }
   ],
   "source": [
    "mix_gauss_cauchy.prob(sample_mixed)"
   ]
  },
  {
   "cell_type": "markdown",
   "metadata": {},
   "source": [
    "### Joint distributions\n",
    "\n",
    "Furthermore, joint distributions of multiple variables are supported."
   ]
  },
  {
   "cell_type": "code",
   "execution_count": 9,
   "metadata": {},
   "outputs": [],
   "source": [
    "joint = tfd.JointDistributionNamed(dict(\n",
    "    c=             tfd.Cauchy(loc=10., scale=1.),\n",
    "    n=             tfd.Normal(loc=0, scale=2.),\n",
    "    m=lambda n, c: tfd.Normal(loc=n, scale=c),\n",
    "))"
   ]
  },
  {
   "cell_type": "code",
   "execution_count": 10,
   "metadata": {},
   "outputs": [
    {
     "data": {
      "text/plain": [
       "{'n': <tf.Tensor: shape=(10,), dtype=float32, numpy=\n",
       " array([-0.22471611, -2.605682  ,  0.07820922, -0.31202337, -0.26899937,\n",
       "        -4.469181  ,  0.5473684 ,  1.0505059 , -2.472432  , -1.3669764 ],\n",
       "       dtype=float32)>,\n",
       " 'c': <tf.Tensor: shape=(10,), dtype=float32, numpy=\n",
       " array([ 9.745735 , 10.026542 ,  6.842549 , 10.113817 ,  8.2216215,\n",
       "        10.33216  , 10.035208 ,  8.993729 , 11.222084 ,  8.983006 ],\n",
       "       dtype=float32)>,\n",
       " 'm': <tf.Tensor: shape=(10,), dtype=float32, numpy=\n",
       " array([-22.037973  , -17.36492   ,   7.328728  ,  -4.3564305 ,\n",
       "          8.403266  ,  -7.5173616 ,   6.8670096 ,  -5.600155  ,\n",
       "         16.180342  ,  -0.70785797], dtype=float32)>}"
      ]
     },
     "execution_count": 10,
     "metadata": {},
     "output_type": "execute_result"
    }
   ],
   "source": [
    "sample_joint = joint.sample(10)\n",
    "sample_joint"
   ]
  },
  {
   "cell_type": "code",
   "execution_count": 11,
   "metadata": {},
   "outputs": [
    {
     "data": {
      "text/plain": [
       "<tf.Tensor: shape=(10,), dtype=float32, numpy=\n",
       "array([0.00019817, 0.00036566, 0.00019235, 0.00225489, 0.00042052,\n",
       "       0.0001741 , 0.00199156, 0.00092746, 0.00010592, 0.00109445],\n",
       "      dtype=float32)>"
      ]
     },
     "execution_count": 11,
     "metadata": {},
     "output_type": "execute_result"
    }
   ],
   "source": [
    "joint.prob(sample_joint)"
   ]
  },
  {
   "cell_type": "markdown",
   "metadata": {},
   "source": [
    "### How TFP compares to zfit\n",
    "\n",
    "TensorFlow-Probability offers a great choice of distributions to build a model. The flexibility in terms of vectorization and parametrization is larger than in zfit. However, they only provide models with analytically known CDFs and lack any numerical normalization or sampling methods. This excludes any more sophisticated model, convolutions and more.\n",
    "\n",
    "Internally, zfit simply wraps TFP distributions for certain implementations, such as the `Gauss`. There is also a standard wrapper, `WrapDistribution`, that allows to easily wrap any TFP distribution and use it in zfit."
   ]
  }
 ],
 "metadata": {
  "kernelspec": {
   "display_name": "Python 3",
   "language": "python",
   "name": "python3"
  },
  "language_info": {
   "codemirror_mode": {
    "name": "ipython",
    "version": 3
   },
   "file_extension": ".py",
   "mimetype": "text/x-python",
   "name": "python",
   "nbconvert_exporter": "python",
   "pygments_lexer": "ipython3",
   "version": "3.8.3"
  }
 },
 "nbformat": 4,
 "nbformat_minor": 4
}
