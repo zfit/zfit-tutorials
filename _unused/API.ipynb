{
 "cells": [
  {
   "cell_type": "markdown",
   "metadata": {
    "inputHidden": false,
    "outputHidden": false
   },
   "source": [
    "# The zfit API"
   ]
  },
  {
   "cell_type": "markdown",
   "metadata": {
    "inputHidden": false,
    "outputHidden": false
   },
   "source": [
    "Currently, the functionality of the zfit package is two-fold: design a high-level API to manage model building, fitting and generation, and implement this API using the `tensorflow` backend.\n",
    "\n",
    "The final goal is to be able to, given a PDF model `pdf`, a dataset `data`, and a list of `params` to minimize, perform minimization tasks such as\n",
    "\n",
    "```python\n",
    "import zfit\n",
    "from zfit.core.minimizer import MinuitMinimizer\n",
    "\n",
    "nll = zfit.UnbinnedNLL(pdf, data, fit_range=(-10, 10))\n",
    "minimizer = MinuitMinimizer(nll)\n",
    "minimizer.minimize(params)\n",
    "minimizer.hesse(params)\n",
    "minimizer.error(params)\n",
    "result = minimizer.get_state()\n",
    "```\n",
    "\n",
    "and generation in a very simple way\n",
    "\n",
    "```python\n",
    "sample = pdf.sample(n_draws=int(1e7), limits=(-10, 10))\n",
    "```"
   ]
  },
  {
   "cell_type": "markdown",
   "metadata": {},
   "source": [
    "The main concepts in the API are\n",
    "- Parameters\n",
    "- PDFs (and scalar functions, which are basically unnormalized pdfs)\n",
    "- Loss functions\n",
    "- Minimizers\n",
    "  \n",
    "In the following, we informally outline the basics of each of these objects, but we will not go into some of the more nitty-gritty API details.\n"
   ]
  },
  {
   "cell_type": "markdown",
   "metadata": {},
   "source": [
    "## Parameters\n",
    "\n",
    "Parameters are named quantities to be optimized in the minimization problems we are trying to solve.\n",
    "Classes implementing parameters contain the value of the parameter, its limits, whether it's fixed or not, and eventually symmetric and asymmetric errors.\n",
    "\n",
    "\n",
    "A *Parameter* initialization **MUST** contain its name and its initial value, and **MAY** include its lower and upper limits.\n",
    "\n",
    "One can access the parameter information through the following properties (names are self explanatory):\n",
    "  - The parameter name is accessed through `name`.\n",
    "  - Its initial value is `init_value` and its current value is given by `value`.\n",
    "  - Uncertainties are given by `error`, `upper_error` and `lower_error`. An error is raised if one tries to access them without having performed a minimization first.\n",
    "  \n",
    "Additionally, the parameter can be fixed/unfixed setting the `floating` property to either True or False."
   ]
  },
  {
   "cell_type": "markdown",
   "metadata": {},
   "source": [
    "## PDFs\n",
    "\n",
    "PDF objects are normalized distributions, typically as a function of several parameters.\n",
    "A very important concept is the *normalization range*, which is mandatory in most operations involving PDFs.\n",
    "\n",
    "*Note*: details on how to compose and create your own PDFs, implement integrals, etc, belong to the implementation and will be discussed later.\n",
    "\n",
    "PDF objects **MUST** be initialized **preferably** as keyword arguments with either *Parameters* or a simple constant and **MAY** also have a name. For example:\n",
    "\n",
    "```python\n",
    "gauss = zfit.pdf.Gauss(mu=mu, sigma=sigma, name=\"My Gaussian\")\n",
    "```\n",
    "\n",
    "or simply a fixed pdf\n",
    "\n",
    "```python\n",
    "gauss_fix = zfit.pdf.Gauss(mu=1., sigma=4.)\n",
    "```\n",
    "\n",
    "The main methods of the PDF are:\n",
    "\n",
    "- Getting the probability through the `prob` method, which **MUST** be called with a data array `x` and a normalization range `norm_range` as inputs. For example:\n",
    "\n",
    "    ```python\n",
    "    # Get the probabilities of some random generated events\n",
    "    probs = gauss.prob(x=np.random.random(10), norm_range=(-30., 30))\n",
    "    ```\n",
    "\n",
    "- Getting the value of its integral in some given `limits` with the `integrate` method. While the `norm_range` **MUST** be given here, it **MAY** also be requested that this integral is calculated over the unnormalized PDF by setting it to `False`:\n",
    "\n",
    "    ```python\n",
    "    # Calculate the integral between -5 and 3 over the PDF normalized between -30 and 30\n",
    "    integral_norm = gauss.integrate(limits=(-5, 3), norm_range=(-30., 30))\n",
    "    # Calculate the unnormalized integral \n",
    "    integral_unnorm = gauss.integrate(limits=(-5, 3), norm_range=False)\n",
    "    ```\n",
    "    \n",
    "- Getting the gradient through the **gradient** method, which **MUST** get the data arra `x` and the normalization range `norm_range` as inputs (which, as always, can be set to `False` and therefore no normalization is done). Additionally, the list of parameters with respect to which the integral is performed **MAY** be given through the `params` argument:\n",
    "\n",
    "    ```python\n",
    "    gradient = gauss.gradient(x=np.random.random(10), norm_range=(-30, 30), params=['mu'])\n",
    "    ```\n",
    "\n",
    "- Sampling from the PDF is done through the `sample` method, which **MUST** include the number of events `n_draws` as well as the limits from which to draw (`limits`):\n",
    "\n",
    "    ```python\n",
    "    # Draw 1000 samples within (-10, 10)\n",
    "    sample = gauss.sample(n_draws=1000, limits=(-10, 10))\n",
    "    ```\n",
    "    \n",
    "Additionally, extended PDFs, which will result in anything using a `norm_range` to not return the probability but the number probability (the function will be normalized to this yield instead of 1 inside the `norm_range`), can be created through the `set_yield` method, which **MUST** get a parameter as input:\n",
    "\n",
    "```python\n",
    "yield1 = Parameter(\"yield1\", 100, 0, 1000)\n",
    "gauss.set_yield(yield1)\n",
    "# This integral yields approx 100\n",
    "integral_extended = gauss.integrate(limits=(-10, 10), norm_range=(-10, 10))\n",
    "```\n",
    "    \n",
    "The `is_extended` property can be then used to check whether a PDF is extended or not.\n",
    "\n",
    "Finally, there **MUST** be the option to *temporarily* set the norm_range of a pdf with a context manager in order to perform several operations and make code more readable.\n",
    "\n",
    "```python\n",
    "with pdf.temp_norm_range((-30, 30)):\n",
    "    pdf.prob(data)  # norm_range is now set\n",
    "    pdf.integrate(limits=(-5, 3))\n",
    "```\n"
   ]
  },
  {
   "cell_type": "markdown",
   "metadata": {},
   "source": [
    "## Loss functions\n",
    "\n",
    "Loss functions can then be build using `pdf.prob`, following a common interface, in which the model, the dataset and the fit range (which internally sets `norm_range` in the PDF and makes sure data only within that range are used) **MUST** be given, and where parameter constraints in form of a dictionary `{param: constraint}` **MAY** be given. \n",
    "\n",
    "As an example for unbinned NLL, one would write\n",
    "\n",
    "```python\n",
    "my_loss = zfit.UnbinnedNLL(gauss,\n",
    "                           data,\n",
    "                           fit_range=(-10, 10),\n",
    "                           constraints={mu: zfit.pdf.Gauss(mu=1., sigma=0.4})\n",
    "```\n",
    "\n",
    "Additional constraints **MAY** be passed to the loss object using the `add_constraint(constraints)` method.\n",
    "\n",
    "To build loss functions for simultaneous fits, the addition operation, either through the `my_loss.add` method or through the `+` operator, can be used (the particular combination that is performed depends on the type of loss function). The same result can be achieved by passing a list of PDFs on instantiation, along with the same number of datasets and fit ranges.\n",
    "\n",
    "Finally, the value of the loss function is evaluated using the `eval()` method.\n",
    "\n",
    "```python\n",
    "simultaneous_loss = my_loss1 + my_loss2\n",
    "loss_value = simultaneous_loss.eval()\n",
    "```"
   ]
  },
  {
   "cell_type": "markdown",
   "metadata": {},
   "source": [
    "## Minimizers\n",
    "\n",
    "Minimizer objects are key to provide a coherent fitting API.\n",
    "They are tied to a loss function and they keep an internal state that can be queried at any moment.\n",
    "\n",
    "In their initialization, the loss function **MUST** be given. Additionally, the `params` to minimize, the `tolerance`, its `name`, as well as any other arguments needed to configure a particular algorithm **MAY** be given.\n",
    "\n",
    "The internal state of the Minimizer is stored in a `MinimizerState` object, which provides access to the Estimated Distance to the Minimum, the value at the minimum and its status through the `edm`, `fmin` and `status` properties, respectively.\n",
    "Additionally, the parameters of the minmizer can be accessed through the `get_parameters` method, which accept two optional parameters:\n",
    "\n",
    "- `names`: A list of the parameter names to fetch. If not given, it returns all of them. \n",
    "- `only_floating`: Fetch only floating parameters. Defaults to `True`.\n",
    "\n",
    "Access to all the properties and functions of `MinimizerState` can be done directly from the Minimizer, which would just return a view of its internal state.\n",
    "\n",
    "The API **REQUIRES** to implement the following methods (below, whenever `params` is `None` means all the parameters from the loss function are used):\n",
    "- `minimize(params=None)`, which runs the minimization and returns the internal state.\n",
    "- `step(params=None)`, which performs only one step of the minimization procedure. If not applicable, this returns `NotImplementedError`.\n",
    "- `hesse(params=None)`, which calculates the Hessian and returns the internal state.\n",
    "- `error(params=None)`, which calculates the two-sided error and returns the internal state. This typically complicated function can be configured with `set_error_options`. Additionally, several methods for calculating this error can be implemented in a given minimizer, and the `set_error_method` method can be used to set the one called by `error`.\n",
    "- `get_state(copy=True)`, which returns the internal `MinimizerState`, *ie*, the parameters, their errors, etc. The optional `copy` parameters controls whether a copy of the internal state (which would be the equivalent of a fit result) is returned, or just a view (reference) of it. \n",
    "- `converged`, which is set to `True` if the minimization process has been successful."
   ]
  },
  {
   "cell_type": "markdown",
   "metadata": {},
   "source": [
    "## Wrap up\n",
    "\n",
    "With the API outlined above, a full fit procedure can be wrapped in a simple function:\n",
    "\n",
    "```python\n",
    "def minimize_unbinned_nll(pdf, data, fit_range, constraints=None):\n",
    "    nll = zfit.UnbinnedNLL(pdf=pdf,\n",
    "                           data=data,\n",
    "                           fit_range=fit_range,\n",
    "                           constraints=constraints)\n",
    "    minimizer = MinuitMinimizer(nll)\n",
    "    minimizer.minimize()\n",
    "    minimizer.hesse()\n",
    "    minimizer.error()\n",
    "    return minimizer.get_state()\n",
    "```"
   ]
  }
 ],
 "metadata": {
  "kernel_info": {
   "name": "python3"
  },
  "kernelspec": {
   "display_name": "Python 3",
   "language": "python",
   "name": "python3"
  },
  "language_info": {
   "codemirror_mode": {
    "name": "ipython",
    "version": 3
   },
   "file_extension": ".py",
   "mimetype": "text/x-python",
   "name": "python",
   "nbconvert_exporter": "python",
   "pygments_lexer": "ipython3",
   "version": "3.6.6"
  },
  "nteract": {
   "version": "0.12.3"
  }
 },
 "nbformat": 4,
 "nbformat_minor": 4
}
