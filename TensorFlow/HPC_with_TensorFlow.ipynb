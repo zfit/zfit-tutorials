{
 "cells": [
  {
   "cell_type": "markdown",
   "metadata": {},
   "source": [
    "# HPC in Python with TensorFlow"
   ]
  },
  {
   "cell_type": "code",
   "execution_count": null,
   "metadata": {},
   "outputs": [],
   "source": [
    "try:\n",
    "    import google.colab\n",
    "except ImportError:\n",
    "    pass\n",
    "else:\n",
    "    !pip install zfit numba numpy tensorflow_probability"
   ]
  },
  {
   "cell_type": "code",
   "execution_count": null,
   "metadata": {},
   "outputs": [],
   "source": [
    "import tensorflow as tf"
   ]
  },
  {
   "cell_type": "markdown",
   "metadata": {},
   "source": [
    "Depending on the CPU used and the TensorFlow binaries, what we will see (not in the Jupyter Notebook) are a bunch of messages, including the following:\n",
    "`tensorflow/core/platform/cpu_feature_guard.cc:143] Your CPU supports instructions that this TensorFlow binary was not compiled to use: SSE4.1 SSE4.2 AVX AVX2 FMA`\n",
    "\n",
    "What could they mean?\n",
    "\n",
    "AVX stands for Advanced Vector Extensions and are instruction that the CPU can perform. They are specializations on vector operations (remember? SIMD, CPU inststruction set, etc.)\n",
    "\n",
    "Why do they appear?\n",
    "\n",
    "The code that we are using was not compiled with this flag on. This means, TensorFlow assumes that the CPU does not support this instructions and instead uses non-optimized ones. The reason is that this allows the binary (=compiled code) to also be run on a CPU that does not support then. While we use only some speed.\n",
    "(yes, technically TensorFlow can be faster when compiled natively on your computer, but then it takes time and effort)"
   ]
  },
  {
   "cell_type": "code",
   "execution_count": null,
   "metadata": {},
   "outputs": [],
   "source": [
    "import numba\n",
    "import numpy as np\n",
    "import tensorflow_probability as tfp\n",
    "import zfit\n",
    "from zfit import z"
   ]
  },
  {
   "cell_type": "markdown",
   "metadata": {},
   "source": [
    "Let's start with a simple comparison of Numpy, an AOT compiled library, versus pure Python"
   ]
  },
  {
   "cell_type": "code",
   "execution_count": null,
   "metadata": {},
   "outputs": [],
   "source": [
    "size1 = 100000\n",
    "list1 = [np.random.uniform() for _ in range(size1)]\n",
    "list2 = [np.random.uniform() for _ in range(size1)]\n",
    "list_zeros = [0] * size1\n",
    "\n",
    "ar1 = np.array(list1)\n",
    "ar2 = np.random.uniform(size=size1)  # way more efficient!\n",
    "ar_zeros = np.zeros_like(ar1) # quite useful function the *_like -> like the object\n",
    "# we could also create the below, in general better:\n",
    "# ar_empty = np.empty(shape=size1, dtype=np.float64)"
   ]
  },
  {
   "cell_type": "code",
   "execution_count": null,
   "metadata": {},
   "outputs": [],
   "source": [
    "%%timeit\n",
    "for i in range(size1):\n",
    "    list_zeros[i] = list1[i] + list2[i]"
   ]
  },
  {
   "cell_type": "code",
   "execution_count": null,
   "metadata": {},
   "outputs": [],
   "source": [
    "%%timeit\n",
    "ar1 + ar2"
   ]
  },
  {
   "cell_type": "markdown",
   "metadata": {},
   "source": [
    "( _playground_ : we can also try assignements here or simliar)"
   ]
  },
  {
   "cell_type": "markdown",
   "metadata": {},
   "source": [
    "### Fast and slow\n",
    "\n",
    "Before we go deeper into the topic, we can draw two conclusions:\n",
    "- slow Python is not \"slow\": it is still blazingly fast on an absolute scale, e.g if you need to loop over a few hundred points, it's still nothing. But it can add up!\n",
    "- Numpy is a factor of 300 faster for this case (and: better reabable!)\n",
    "\n",
    "=> there is _no reason_ to ever add (numerical) arrays with a for loop in Python (except for numba jit)"
   ]
  },
  {
   "cell_type": "markdown",
   "metadata": {},
   "source": [
    "As mentioned, TensorFlow is basically Numpy. Let's check that out"
   ]
  },
  {
   "cell_type": "code",
   "execution_count": null,
   "metadata": {},
   "outputs": [],
   "source": [
    "rnd1_np = np.random.uniform(size=10, low=0, high=10)\n",
    "rnd1_np  # adding a return value on the last line without assigning it prints the value"
   ]
  },
  {
   "cell_type": "code",
   "execution_count": null,
   "metadata": {},
   "outputs": [],
   "source": [
    "rnd1 = tf.random.uniform(shape=(10,),  # notice the \"shape\" argument: it's more picky than Numpy\n",
    "                         minval=0,\n",
    "                         maxval=10,\n",
    "                         dtype=tf.float64)\n",
    "rnd2 = tf.random.uniform(shape=(10,),\n",
    "                         minval=0,\n",
    "                         maxval=10,\n",
    "                         dtype=tf.float64)"
   ]
  },
  {
   "cell_type": "code",
   "execution_count": null,
   "metadata": {},
   "outputs": [],
   "source": [
    "rnd1"
   ]
  },
  {
   "cell_type": "markdown",
   "metadata": {},
   "source": [
    "This is in fact a \"numpy array wrapped\" and can explicitly be converted to an array"
   ]
  },
  {
   "cell_type": "code",
   "execution_count": null,
   "metadata": {},
   "outputs": [],
   "source": [
    "rnd1.numpy()"
   ]
  },
  {
   "cell_type": "markdown",
   "metadata": {},
   "source": [
    "Other operations act as we would expect it"
   ]
  },
  {
   "cell_type": "code",
   "execution_count": null,
   "metadata": {},
   "outputs": [],
   "source": [
    "rnd1 + 10"
   ]
  },
  {
   "cell_type": "markdown",
   "metadata": {},
   "source": [
    "... and it converts itself (often) to Numpy when needed."
   ]
  },
  {
   "cell_type": "code",
   "execution_count": null,
   "metadata": {},
   "outputs": [],
   "source": [
    "np.sqrt(rnd1)"
   ]
  },
  {
   "cell_type": "markdown",
   "metadata": {},
   "source": [
    "We can slice it..."
   ]
  },
  {
   "cell_type": "code",
   "execution_count": null,
   "metadata": {},
   "outputs": [],
   "source": [
    "rnd1[1:3]"
   ]
  },
  {
   "cell_type": "markdown",
   "metadata": {},
   "source": [
    "...expand it...."
   ]
  },
  {
   "cell_type": "code",
   "execution_count": null,
   "metadata": {},
   "outputs": [],
   "source": [
    "rnd1[None, :, None]"
   ]
  },
  {
   "cell_type": "markdown",
   "metadata": {},
   "source": [
    "...and broadcast with the known (maybe slightly stricter) rules"
   ]
  },
  {
   "cell_type": "code",
   "execution_count": null,
   "metadata": {},
   "outputs": [],
   "source": [
    "matrix1 = rnd1[None, :] * rnd1[:, None]\n",
    "matrix1"
   ]
  },
  {
   "cell_type": "markdown",
   "metadata": {},
   "source": [
    "## Equivalent operations\n",
    "\n",
    "Many operations that exist in Numpy also exist in TensorFlow, sometimes with a different name.\n",
    "\n",
    "The concept however is exactly the same: we have higher level objects such as Tensors (or arrays) and call operations on it with arguments. This is a \"strong limitation\" (theoretically) of what we can do, however, since we do math, there is only a limited set we need, and in practice this suffices for 98% of the cases.\n",
    "\n",
    "Therefore we won't dive too deep into the possibilities of TensorFlow/Numpy regarding operations but it is suggested to [read the API docs](https://www.tensorflow.org/versions), many are self-explanatory. It can be surprising that there is also some support for more exotic elements such as [RaggedTensors and operations](https://www.tensorflow.org/api_docs/python/tf/ragged?) and [SparseTensors and operations](https://www.tensorflow.org/api_docs/python/tf/sparse?)\n",
    "\n",
    "Mostly, the differences and the terminology will be introduced."
   ]
  },
  {
   "cell_type": "code",
   "execution_count": null,
   "metadata": {},
   "outputs": [],
   "source": [
    "tf.sqrt(rnd1)"
   ]
  },
  {
   "cell_type": "code",
   "execution_count": null,
   "metadata": {},
   "outputs": [],
   "source": [
    "tf.reduce_sum(matrix1, axis=0)  # with the axis argument to specify over which to reduce"
   ]
  },
  {
   "cell_type": "markdown",
   "metadata": {},
   "source": [
    "### DTypes\n",
    "\n",
    "TensorFlow is more picky on dtypes as Numpy and does not automatically cast dtypes. That's why we can often get a dtype error. Solution: make sure you add a `x = tf.cast(x, dtype=tf.float64)` (or whatever dtype we want) to cast it into the right dtype.\n",
    "\n",
    "One noticable difference: TensorFlow uses float32 as the default for all operations. Neural Networks function quite well with that (sometimes even with float16) but for (most) scientific use-cases, we want to use float64. So yes, [currently](https://github.com/tensorflow/tensorflow/issues/26033), we have to define this in (too) many places.\n",
    "\n",
    "_Sidenote_ : Also zfit uses tf.float64 throughout internally. It's an often seen problem that custom shapes will raise a dtype error."
   ]
  },
  {
   "cell_type": "markdown",
   "metadata": {},
   "source": [
    "## What we can't do: assignements\n",
    "\n",
    "The idea of TensorFlow evolves around building a Graph$^{1)}$, the Eager (Numpy-like) execution is more of a \"we get it for free addition\", but does not lead the development ideas. This has one profound implication, namely that we cannot make an _assignement_ to a Tensor, because it is a node in a graph. The logic just does not work (exception: `tf.Variable`$^{2)}). This does not mean that TensorFlow would not perform in-place operations _behind the scenes_ - it very well does if it is save to do so. Since TensorFlow knows the whole graph with all dependencies, this can be figured out.\n",
    "\n",
    "Even if EagerMode, assignements could work (as for Numpy arrays), they are forbidden for consistency (one of the great plus points of TensorFlow).\n",
    "\n",
    "### TensorFlow list\n",
    "\n",
    "an advanced structure that can also be modified is the [`tf.TensorArray`](https://www.tensorflow.org/api_docs/python/tf/TensorArray?), which acts like a list or ArrayList (in other languages). It is however advanced and not usually used, so we won't go into the details here.\n",
    "\n",
    "_1) if you're familiar with TensorFlow 1, this statement would suprise you as pretty obvious; but in TensorFlow 2, this is luckily more hidden.  \n",
    "2) more general, `ResourceHandler`_"
   ]
  },
  {
   "cell_type": "code",
   "execution_count": null,
   "metadata": {},
   "outputs": [],
   "source": [
    "rnd1_np[5] = 42"
   ]
  },
  {
   "cell_type": "code",
   "execution_count": null,
   "metadata": {},
   "outputs": [],
   "source": [
    "try:\n",
    "    rnd1[5] = 42\n",
    "except TypeError as error:\n",
    "    print(error)"
   ]
  },
  {
   "cell_type": "markdown",
   "metadata": {},
   "source": [
    "### Speed comparison\n",
    "\n",
    "Let's do the same calculation as with Numpy. The result should be comparable: both are AOT compiled libraries specialized on numerical, vectorized operations."
   ]
  },
  {
   "cell_type": "code",
   "execution_count": null,
   "metadata": {},
   "outputs": [],
   "source": [
    "rnd1_big = tf.random.uniform(shape=(size1,),  # notice the \"shape\" argument: it's more picky than Numpy\n",
    "                         minval=0,\n",
    "                         maxval=10,\n",
    "                         dtype=tf.float64)\n",
    "rnd2_big = tf.random.uniform(shape=(size1,),\n",
    "                         minval=0,\n",
    "                         maxval=10,\n",
    "                         dtype=tf.float64)"
   ]
  },
  {
   "cell_type": "code",
   "execution_count": null,
   "metadata": {},
   "outputs": [],
   "source": [
    "%%timeit\n",
    "rnd1_big + rnd2_big"
   ]
  },
  {
   "cell_type": "code",
   "execution_count": null,
   "metadata": {},
   "outputs": [],
   "source": [
    "%%timeit  # using numpy, same as before\n",
    "ar1 + ar2"
   ]
  },
  {
   "cell_type": "markdown",
   "metadata": {},
   "source": [
    "Looks like the same as Numpy. Let's compare with smaller arrays"
   ]
  },
  {
   "cell_type": "code",
   "execution_count": null,
   "metadata": {},
   "outputs": [],
   "source": [
    "rnd1_np = rnd1.numpy()\n",
    "rnd2_np = rnd2.numpy()"
   ]
  },
  {
   "cell_type": "code",
   "execution_count": null,
   "metadata": {},
   "outputs": [],
   "source": [
    "rnd1_np"
   ]
  },
  {
   "cell_type": "code",
   "execution_count": null,
   "metadata": {},
   "outputs": [],
   "source": [
    "%%timeit\n",
    "rnd1_np + rnd2_np"
   ]
  },
  {
   "cell_type": "code",
   "execution_count": null,
   "metadata": {},
   "outputs": [],
   "source": [
    "%%timeit\n",
    "rnd1 + rnd2"
   ]
  },
  {
   "cell_type": "markdown",
   "metadata": {},
   "source": [
    "### TensorFlow is slow?\n",
    "\n",
    "We see now a significant difference in the runtime! This is because TensorFlow has a larger overhead than Numpy. As seen before, this is not/barely noticable for larger arrays, however for very small calculations, this is visible.\n",
    "\n",
    "There is more overhead because TensorFlow tries to be \"smarter\" about many things than Numpy and does not simply directly execute the computation.\n",
    "\n",
    "The cost is a slowdown on very small operations but a better scaling and improved performance with larger arrays and more complicated calculations."
   ]
  },
  {
   "cell_type": "code",
   "execution_count": null,
   "metadata": {},
   "outputs": [],
   "source": [
    "# relative speeds may differ, depending on the hardware used.\n",
    "# size_big = 10  # numpy faster\n",
    "size_big = 20000  # sameish\n",
    "# size_big = 100000  # TF faster\n",
    "# size_big = 1000000  # TF faster\n",
    "# size_big = 10000000  # TF faster\n",
    "# size_big = 100000000  # TF faster"
   ]
  },
  {
   "cell_type": "code",
   "execution_count": null,
   "metadata": {},
   "outputs": [],
   "source": [
    "%%timeit\n",
    "tf.random.uniform(shape=(size_big,), dtype=tf.float64) + tf.random.uniform(shape=(size_big,), dtype=tf.float64)"
   ]
  },
  {
   "cell_type": "code",
   "execution_count": null,
   "metadata": {},
   "outputs": [],
   "source": [
    "%%timeit\n",
    "np.random.uniform(size=(size_big,)) + np.random.uniform(size=(size_big,))"
   ]
  },
  {
   "cell_type": "markdown",
   "metadata": {},
   "source": [
    "## TensorFlow kernels\n",
    "\n",
    "In general, TensorFlow is preciser in what input arguments are required compared to Numpy and does less automatic dtype casting and asks more explicit for shapes. For example, integers don't work in the logarithm. However, this error message illustrates very well the kernel dispatch system of TensorFlow, so lets do it!"
   ]
  },
  {
   "cell_type": "code",
   "execution_count": null,
   "metadata": {},
   "outputs": [],
   "source": [
    "try:\n",
    "    tf.math.log(5)\n",
    "except (tf.errors.NotFoundError, tf.errors.InvalidArgumentError) as error: # TF 2.4 error, TF 2.5 error\n",
    "    print(error)"
   ]
  },
  {
   "cell_type": "markdown",
   "metadata": {},
   "source": [
    "What we see here: it searches the registered kernels and does not find any that supports this operation. We find different classifications:\n",
    "- GPU: normal GPU kernel\n",
    "- CPU: normal CPU kernel\n",
    "- XLA: [Accelerated Linear Algebra](https://www.tensorflow.org/xla) is a high-level compiler that can fuse operations, which would result in single calls to a fused kernel."
   ]
  },
  {
   "cell_type": "markdown",
   "metadata": {},
   "source": [
    "## tf.function\n",
    "\n",
    "Let's see the JIT in action. Therefore, we use the example from the slides and start modifying it."
   ]
  },
  {
   "cell_type": "code",
   "execution_count": null,
   "metadata": {},
   "outputs": [],
   "source": [
    "def add_log(x, y):\n",
    "    print('running Python')\n",
    "    tf.print(\"running TensorFlow\")\n",
    "    x_sq = tf.math.log(x)\n",
    "    y_sq = tf.math.log(y)\n",
    "    return x_sq + y_sq"
   ]
  },
  {
   "cell_type": "markdown",
   "metadata": {},
   "source": [
    "As seen before, we can use it like Python. To make sure that we know when the actual Python is executed, we inserted a print and a `tf.print`, the latter is a TensorFlow operation and therefore expected to be called everytime we compute something."
   ]
  },
  {
   "cell_type": "code",
   "execution_count": null,
   "metadata": {},
   "outputs": [],
   "source": [
    "add_log(4., 5.)"
   ]
  },
  {
   "cell_type": "code",
   "execution_count": null,
   "metadata": {},
   "outputs": [],
   "source": [
    "add_log(42., 52.)"
   ]
  },
  {
   "cell_type": "markdown",
   "metadata": {},
   "source": [
    "As we see, both the Python and TensorFlow operation execute. Now we can do the same with a decorator. Note that so far we entered pure Python numbers, not Tensors. Since we ran in eager mode, this did not matter so far."
   ]
  },
  {
   "cell_type": "code",
   "execution_count": null,
   "metadata": {},
   "outputs": [],
   "source": [
    "@tf.function(autograph=False)\n",
    "def add_log_tf(x, y):\n",
    "    print('running Python')\n",
    "    tf.print(\"running TensorFlow\")\n",
    "    x_sq = tf.math.log(x)\n",
    "    y_sq = tf.math.log(y)\n",
    "    return x_sq + y_sq"
   ]
  },
  {
   "cell_type": "code",
   "execution_count": null,
   "metadata": {},
   "outputs": [],
   "source": [
    "add_log_tf(1., 2.)"
   ]
  },
  {
   "cell_type": "code",
   "execution_count": null,
   "metadata": {},
   "outputs": [],
   "source": [
    "add_log_tf(11., 21.)  # again with different numbers"
   ]
  },
  {
   "cell_type": "markdown",
   "metadata": {},
   "source": [
    "As we see, Python is still run: this happens because 11. is not equal to 1., TensorFlow does not convert those to Tensors. Lets use it in the right way, with Tensors"
   ]
  },
  {
   "cell_type": "code",
   "execution_count": null,
   "metadata": {},
   "outputs": [],
   "source": [
    "add_log_tf(tf.constant(1.), tf.constant(2.))  # first compilation"
   ]
  },
  {
   "cell_type": "code",
   "execution_count": null,
   "metadata": {},
   "outputs": [],
   "source": [
    "add_log_tf(tf.constant(11.), tf.constant(22.))"
   ]
  },
  {
   "cell_type": "markdown",
   "metadata": {},
   "source": [
    "Now only the TensorFlow operations get executed! Everything else became static. We can illustrate this more extremely here"
   ]
  },
  {
   "cell_type": "code",
   "execution_count": null,
   "metadata": {},
   "outputs": [],
   "source": [
    "@tf.function(autograph=False)\n",
    "def add_rnd(x):\n",
    "    print('running Python')\n",
    "    tf.print(\"running TensorFlow\")\n",
    "    rnd_np = np.random.uniform()\n",
    "    rnd_tf = tf.random.uniform(shape=())\n",
    "    return x * rnd_np, x * rnd_tf"
   ]
  },
  {
   "cell_type": "code",
   "execution_count": null,
   "metadata": {},
   "outputs": [],
   "source": [
    "add_rnd(tf.constant(1.))"
   ]
  },
  {
   "cell_type": "markdown",
   "metadata": {},
   "source": [
    "The first time, the numpy code was executed as well, no difference so far. However, running it a second time, only the TensorFlow parts can change"
   ]
  },
  {
   "cell_type": "code",
   "execution_count": null,
   "metadata": {},
   "outputs": [],
   "source": [
    "add_rnd(tf.constant(1.))"
   ]
  },
  {
   "cell_type": "code",
   "execution_count": null,
   "metadata": {},
   "outputs": [],
   "source": [
    "add_rnd(tf.constant(2.))"
   ]
  },
  {
   "cell_type": "markdown",
   "metadata": {},
   "source": [
    "We see now clearly: TensorFlow executes the function but _only cares about the TensorFlow operations_ , everything else is regarded as static. This can be a large pitfall! If we would execute this function _without_ the decorator, we would get a different result, since Numpy is also sampling a new random variable every time.\n",
    "\n",
    "### Large functions\n",
    "\n",
    "That having said, we can build graphs that require thousands of lines of Python code to stick them together correctly. Function calls in function calls etc are all possible."
   ]
  },
  {
   "cell_type": "markdown",
   "metadata": {},
   "source": [
    "### Shapes\n",
    "\n",
    "Tensors have a shape, similar to Numpy arrays. But Tensors have two kind of shapes, a static and a dynamic shape. The static shape is what can be inferred _before_ executing the computation while the dynamic shape is only inferred during the execution of the code. The latter typically arises with random variables and masking or cuts.\n",
    "\n",
    "We can access the static shape with `Tensor.shape`"
   ]
  },
  {
   "cell_type": "markdown",
   "metadata": {},
   "source": [
    "If the shape is known inside a graph, this will be the same. If the shape is unknown, the unknown axis will be None."
   ]
  },
  {
   "cell_type": "code",
   "execution_count": null,
   "metadata": {},
   "outputs": [],
   "source": [
    "@tf.function(autograph=False)\n",
    "def func_shape(x):\n",
    "    print(f\"static shape: {x.shape}\")  # static shape\n",
    "    tf.print('dynamic shape ',tf.shape(x))  # dynamic shape\n",
    "    x = x[x>3.5]\n",
    "    print(f\"static shape cuts applied: {x.shape}\")  # static shape\n",
    "    tf.print('dynamic shape cuts applied',tf.shape(x))  # dynamic shape"
   ]
  },
  {
   "cell_type": "code",
   "execution_count": null,
   "metadata": {},
   "outputs": [],
   "source": [
    "func_shape(rnd1)"
   ]
  },
  {
   "cell_type": "markdown",
   "metadata": {},
   "source": [
    "We can access the axes by indexing"
   ]
  },
  {
   "cell_type": "code",
   "execution_count": null,
   "metadata": {},
   "outputs": [],
   "source": [
    "rnd3 = rnd1[None, :] * rnd1[:, None]\n",
    "rnd3"
   ]
  },
  {
   "cell_type": "code",
   "execution_count": null,
   "metadata": {},
   "outputs": [],
   "source": [
    "tf.shape(rnd3)"
   ]
  },
  {
   "cell_type": "code",
   "execution_count": null,
   "metadata": {},
   "outputs": [],
   "source": [
    "rnd3.shape[1]"
   ]
  },
  {
   "cell_type": "markdown",
   "metadata": {},
   "source": [
    "## Variables\n",
    "\n",
    "TensorFlow offers the possibility to have statefull objects inside a compiled graph (which e.g. is not possible with Numba). The most commonly used one is the `tf.Variable`. Technically, they are automatically captured on the function compilation and belong to it."
   ]
  },
  {
   "cell_type": "code",
   "execution_count": null,
   "metadata": {},
   "outputs": [],
   "source": [
    "var1 = tf.Variable(1.)"
   ]
  },
  {
   "cell_type": "code",
   "execution_count": null,
   "metadata": {},
   "outputs": [],
   "source": [
    "@tf.function(autograph=False)\n",
    "def scale_by_var(x):\n",
    "    print('running Python')\n",
    "    tf.print(\"running TensorFlow\")\n",
    "    return x * var1"
   ]
  },
  {
   "cell_type": "code",
   "execution_count": null,
   "metadata": {},
   "outputs": [],
   "source": [
    "scale_by_var(tf.constant(1.))"
   ]
  },
  {
   "cell_type": "code",
   "execution_count": null,
   "metadata": {},
   "outputs": [],
   "source": [
    "scale_by_var(tf.constant(2.))"
   ]
  },
  {
   "cell_type": "code",
   "execution_count": null,
   "metadata": {},
   "outputs": [],
   "source": [
    "var1.assign(42.)\n",
    "scale_by_var(tf.constant(1.))"
   ]
  },
  {
   "cell_type": "markdown",
   "metadata": {},
   "source": [
    "As we see, the output changed. This is of course especially useful in the context of model fitting libraries, be it likelihoods or neural networks."
   ]
  },
  {
   "cell_type": "code",
   "execution_count": null,
   "metadata": {},
   "outputs": [],
   "source": [
    "def add_rnd(x):\n",
    "    print('running Python')\n",
    "    tf.print(\"running TensorFlow\")\n",
    "    rnd_np = np.random.uniform()\n",
    "    rnd_tf = tf.random.uniform(shape=())\n",
    "    return x * rnd_np, x * rnd_tf"
   ]
  },
  {
   "cell_type": "code",
   "execution_count": null,
   "metadata": {},
   "outputs": [],
   "source": [
    "add_rnd(tf.constant(1.))"
   ]
  },
  {
   "cell_type": "code",
   "execution_count": null,
   "metadata": {},
   "outputs": [],
   "source": [
    "add_rnd(tf.constant(2.))"
   ]
  },
  {
   "cell_type": "markdown",
   "metadata": {},
   "source": [
    "This means that we can use Numpy fully compatible in eager mode, but not when decorated."
   ]
  },
  {
   "cell_type": "code",
   "execution_count": null,
   "metadata": {},
   "outputs": [],
   "source": [
    "def try_np_sqrt(x):\n",
    "    return np.sqrt(x)"
   ]
  },
  {
   "cell_type": "code",
   "execution_count": null,
   "metadata": {},
   "outputs": [],
   "source": [
    "try_np_sqrt(tf.constant(5.))"
   ]
  },
  {
   "cell_type": "code",
   "execution_count": null,
   "metadata": {},
   "outputs": [],
   "source": [
    "try_np_sqrt_tf = tf.function(try_np_sqrt, autograph=False)  # equivalent to decorator"
   ]
  },
  {
   "cell_type": "code",
   "execution_count": null,
   "metadata": {},
   "outputs": [],
   "source": [
    "try:\n",
    "    try_np_sqrt_tf(tf.constant(5.))\n",
    "except NotImplementedError as error:\n",
    "    print(error)"
   ]
  },
  {
   "cell_type": "markdown",
   "metadata": {},
   "source": [
    "As we see, Numpy complains in the graph mode, given that it cannot handle the Symbolic Tensor."
   ]
  },
  {
   "cell_type": "markdown",
   "metadata": {},
   "source": [
    "Having the `tf.function` decorator means that we can't use any Python dynamicity. What fails when decorated but works nicely if not:"
   ]
  },
  {
   "cell_type": "code",
   "execution_count": null,
   "metadata": {},
   "outputs": [],
   "source": [
    "def greater_python(x, y):\n",
    "    if x > y:\n",
    "        return True\n",
    "    else:\n",
    "        return False"
   ]
  },
  {
   "cell_type": "code",
   "execution_count": null,
   "metadata": {},
   "outputs": [],
   "source": [
    "greater_python(tf.constant(1.), tf.constant(2.))"
   ]
  },
  {
   "cell_type": "markdown",
   "metadata": {},
   "source": [
    "This works again, and will fail with the graph decorator."
   ]
  },
  {
   "cell_type": "code",
   "execution_count": null,
   "metadata": {},
   "outputs": [],
   "source": [
    "greater_python_tf = tf.function(greater_python, autograph=False)"
   ]
  },
  {
   "cell_type": "code",
   "execution_count": null,
   "metadata": {},
   "outputs": [],
   "source": [
    "try:\n",
    "    greater_python_tf(tf.constant(1.), tf.constant(2.))\n",
    "except Exception as error:\n",
    "    print(error)"
   ]
  },
  {
   "cell_type": "markdown",
   "metadata": {},
   "source": [
    "The error message hints at something: while this does not work now - Python does not yet now the value of the Tensors so it can't decide whether it will evaluate to True or False - there is the possibility of \"autograph\": it automatically converts (a subset) of Python to TensorFlow: while loops, for loops through Tensors and conditionals. However, this is usually less effective and more errorprone than using explicitly the `tf.*` functions. Lets try it!"
   ]
  },
  {
   "cell_type": "code",
   "execution_count": null,
   "metadata": {},
   "outputs": [],
   "source": [
    "greater_python_tf_autograph = tf.function(greater_python, autograph=True)"
   ]
  },
  {
   "cell_type": "code",
   "execution_count": null,
   "metadata": {},
   "outputs": [],
   "source": [
    "greater_python_tf_autograph(tf.constant(1.), tf.constant(2.))"
   ]
  },
  {
   "cell_type": "markdown",
   "metadata": {},
   "source": [
    "This now works neatless! But we're never sure.\n",
    "\n",
    "To do it explicitly, we can do that as well."
   ]
  },
  {
   "cell_type": "code",
   "execution_count": null,
   "metadata": {},
   "outputs": [],
   "source": [
    "code = tf.autograph.to_code(greater_python)\n",
    "print(code)"
   ]
  },
  {
   "cell_type": "markdown",
   "metadata": {},
   "source": [
    "## Performance\n",
    "\n",
    "In the end, this is what matters. And a comparison would be nice. Let's do that and see how Numpy and TensorFlow compare."
   ]
  },
  {
   "cell_type": "code",
   "execution_count": null,
   "metadata": {},
   "outputs": [],
   "source": [
    "nevents = 10000000\n",
    "data_tf = tf.random.uniform(shape=(nevents,), dtype=tf.float64)\n",
    "data_np = np.random.uniform(size=(nevents,))"
   ]
  },
  {
   "cell_type": "code",
   "execution_count": null,
   "metadata": {},
   "outputs": [],
   "source": [
    "def calc_np(x):\n",
    "    x_init = x\n",
    "    i = 42.\n",
    "    x = np.sqrt(np.abs(x_init * (i + 1.)))\n",
    "    x = np.cos(x - 0.3)\n",
    "    x = np.power(x, i + 1)\n",
    "    x = np.sinh(x + 0.4)\n",
    "    x = x ** 2\n",
    "    x = x / np.mean(x)\n",
    "    x = np.abs(x)\n",
    "    logx = np.log(x)\n",
    "    x = np.mean(logx)\n",
    "    \n",
    "    x1 = np.sqrt(np.abs(x_init * (i + 1.)))\n",
    "    x1 = np.cos(x1 - 0.3)\n",
    "    x1 = np.power(x1, i + 1)\n",
    "    x1 = np.sinh(x1 + 0.4)\n",
    "    x1 = x1 ** 2\n",
    "    x1 = x1 / np.mean(x1)\n",
    "    x1 = np.abs(x1)\n",
    "    logx = np.log(x1)\n",
    "    x1 = np.mean(logx)\n",
    "    \n",
    "    x2 = np.sqrt(np.abs(x_init * (i + 1.)))\n",
    "    x2 = np.cos(x2 - 0.3)\n",
    "    x2 = np.power(x2, i + 1)\n",
    "    x2 = np.sinh(x2 + 0.4)\n",
    "    x2 = x2 ** 2\n",
    "    x2 = x2 / np.mean(x2)\n",
    "    x2 = np.abs(x2)\n",
    "    logx = np.log(x2)\n",
    "    x2 = np.mean(logx)\n",
    "    return x + x1 + x2\n",
    "\n",
    "calc_np_numba = numba.jit(nopython=True, parallel=True)(calc_np)"
   ]
  },
  {
   "cell_type": "code",
   "execution_count": null,
   "metadata": {},
   "outputs": [],
   "source": [
    "def calc_tf(x):\n",
    "    x_init = x\n",
    "    i = 42.\n",
    "    x = tf.sqrt(tf.abs(x_init * (tf.cast(i, dtype=tf.float64) + 1.)))\n",
    "    x = tf.cos(x - 0.3)\n",
    "    x = tf.pow(x, tf.cast(i + 1, tf.float64))\n",
    "    x = tf.sinh(x + 0.4)\n",
    "    x = x ** 2\n",
    "    x = x / tf.reduce_mean(x)\n",
    "    x = tf.abs(x)\n",
    "    x = tf.reduce_mean(tf.math.log(x))\n",
    "    \n",
    "    x1 = tf.sqrt(tf.abs(x_init * (tf.cast(i, dtype=tf.float64) + 1.)))\n",
    "    x1 = tf.cos(x1 - 0.3)\n",
    "    x1 = tf.pow(x1, tf.cast(i + 1, tf.float64))\n",
    "    x1 = tf.sinh(x1 + 0.4)\n",
    "    x1 = x1 ** 2\n",
    "    x1 = x1 / tf.reduce_mean(x1)\n",
    "    x1 = tf.abs(x1)\n",
    "    \n",
    "    x2 = tf.sqrt(tf.abs(x_init * (tf.cast(i, dtype=tf.float64) + 1.)))\n",
    "    x2 = tf.cos(x2 - 0.3)\n",
    "    x2 = tf.pow(x2, tf.cast(i + 1, tf.float64))\n",
    "    x2 = tf.sinh(x2 + 0.4)\n",
    "    x2 = x2 ** 2\n",
    "    x2 = x2 / tf.reduce_mean(x2)\n",
    "    x2 = tf.abs(x2)\n",
    "    \n",
    "    return x + x1 + x2\n",
    "\n",
    "calc_tf_func = tf.function(calc_tf, autograph=False)"
   ]
  },
  {
   "cell_type": "code",
   "execution_count": null,
   "metadata": {},
   "outputs": [],
   "source": [
    "%%timeit -n1 -r1  # compile time, just for curiosity\n",
    "calc_tf_func(data_tf)"
   ]
  },
  {
   "cell_type": "code",
   "execution_count": null,
   "metadata": {},
   "outputs": [],
   "source": [
    "%%timeit -n1 -r1  # compile time, just for curiosity\n",
    "calc_np_numba(data_np)"
   ]
  },
  {
   "cell_type": "code",
   "execution_count": null,
   "metadata": {},
   "outputs": [],
   "source": [
    "%timeit calc_np(data_np)  # not compiled"
   ]
  },
  {
   "cell_type": "code",
   "execution_count": null,
   "metadata": {},
   "outputs": [],
   "source": [
    "%timeit calc_tf(data_tf)  # not compiled"
   ]
  },
  {
   "cell_type": "code",
   "execution_count": null,
   "metadata": {},
   "outputs": [],
   "source": [
    "%%timeit -n1 -r7\n",
    "calc_np_numba(data_np)"
   ]
  },
  {
   "cell_type": "code",
   "execution_count": null,
   "metadata": {},
   "outputs": [],
   "source": [
    "%%timeit -n1 -r7\n",
    "calc_tf_func(data_tf)"
   ]
  },
  {
   "cell_type": "markdown",
   "metadata": {},
   "source": [
    "We can now play around with this numbers. Depending on the size (we can go up to 10 mio) and parallelizability of the problem, the numbers differ..\n",
    "\n",
    "In general:\n",
    "- Numpy is faster for small numbers\n",
    "- TensorFlow is faster for larger arrays and well parallelizable computations. Due to the larger overhead in dispatching in eager mode, it is significantly slower for very small (1-10) sample sizes.\n",
    "\n",
    "=> there is no free lunch\n",
    "\n",
    "Note: this has not run on a GPU, which would automatically happen for TensorFlow."
   ]
  },
  {
   "cell_type": "code",
   "execution_count": null,
   "metadata": {},
   "outputs": [],
   "source": [
    "def calc_tf2(x, n):\n",
    "    sum_init = tf.zeros_like(x)\n",
    "    for i in range(1, n + 1):\n",
    "        x = tf.sqrt(tf.abs(x * (tf.cast(i, dtype=tf.float64) + 1.)))\n",
    "        x = tf.cos(x - 0.3)\n",
    "        x = tf.pow(x, tf.cast(i + 1, tf.float64))\n",
    "        x = tf.sinh(x + 0.4)\n",
    "        x = x ** 2\n",
    "        x = x / tf.reduce_mean(x, axis=None)\n",
    "        x = tf.abs(x)\n",
    "        x = x - tf.reduce_mean(tf.math.log(x, name=\"Jonas_log\"), name=\"Jonas_mean\")  # name for ops, see later ;)\n",
    "        sum_init += x\n",
    "    return sum_init\n",
    "\n",
    "calc_tf_func2 = tf.function(calc_tf2, autograph=False)\n",
    "\n",
    "@numba.njit(parallel=True)  # njit is equal to jit(nopython=True), meaning \"compile everything or raise error\"\n",
    "def calc_numba2(x, n):\n",
    "    sum_init = np.zeros_like(x)\n",
    "    for i in range(1, n + 1):\n",
    "        x = np.sqrt(np.abs(x * (i + 1.)))\n",
    "        x = np.cos(x - 0.3)\n",
    "        x = np.power(x, i + 1)\n",
    "        x = np.sinh(x + 0.4)\n",
    "        x = x ** 2\n",
    "        x = x / np.mean(x)\n",
    "        x = np.abs(x)\n",
    "        x = x - np.mean(np.log(x))\n",
    "        sum_init += x\n",
    "    return sum_init"
   ]
  },
  {
   "cell_type": "code",
   "execution_count": null,
   "metadata": {},
   "outputs": [],
   "source": [
    "%%timeit -n1 -r1  #compile\n",
    "calc_numba2(rnd1_big.numpy(), 1)"
   ]
  },
  {
   "cell_type": "code",
   "execution_count": null,
   "metadata": {},
   "outputs": [],
   "source": [
    "calc_numba2(rnd1_big.numpy(), 1)"
   ]
  },
  {
   "cell_type": "code",
   "execution_count": null,
   "metadata": {},
   "outputs": [],
   "source": [
    "%%timeit -n1 -r1  #compile\n",
    "calc_tf_func2(rnd1_big, 1)"
   ]
  },
  {
   "cell_type": "code",
   "execution_count": null,
   "metadata": {},
   "outputs": [],
   "source": [
    "calc_tf_func2(rnd1_big, 1)"
   ]
  },
  {
   "cell_type": "code",
   "execution_count": null,
   "metadata": {},
   "outputs": [],
   "source": [
    "%%timeit\n",
    "calc_numba2(rnd1_big.numpy(), 1)"
   ]
  },
  {
   "cell_type": "code",
   "execution_count": null,
   "metadata": {},
   "outputs": [],
   "source": [
    "%%timeit\n",
    "calc_tf_func2(rnd1_big, 1)"
   ]
  },
  {
   "cell_type": "code",
   "execution_count": null,
   "metadata": {},
   "outputs": [],
   "source": [
    "calc_tf_func2(rnd1_big, 10)"
   ]
  },
  {
   "cell_type": "code",
   "execution_count": null,
   "metadata": {},
   "outputs": [],
   "source": [
    "calc_numba2(rnd1_big.numpy(), 10)"
   ]
  },
  {
   "cell_type": "code",
   "execution_count": null,
   "metadata": {},
   "outputs": [],
   "source": [
    "%%timeit\n",
    "calc_numba2(rnd1_big.numpy(), 10)"
   ]
  },
  {
   "cell_type": "code",
   "execution_count": null,
   "metadata": {},
   "outputs": [],
   "source": [
    "%%timeit\n",
    "calc_tf_func2(rnd1_big, 10)"
   ]
  },
  {
   "cell_type": "markdown",
   "metadata": {},
   "source": [
    "## Control flow\n",
    "\n",
    "While TensorFlow is independent of the Python control flow, it has its own functions for that, mainly:\n",
    "- while_loop(): a while loop taking a body and condition function\n",
    "- cond(): if-like\n",
    "- case and switch_case: if/elif statements\n",
    "- tf.where"
   ]
  },
  {
   "cell_type": "code",
   "execution_count": null,
   "metadata": {},
   "outputs": [],
   "source": [
    "def true_fn():\n",
    "    return 1.\n",
    "\n",
    "def false_fn():\n",
    "    return 0.\n",
    "\n",
    "value = tf.cond(tf.greater(111., 42.), true_fn=true_fn, false_fn=false_fn)"
   ]
  },
  {
   "cell_type": "code",
   "execution_count": null,
   "metadata": {},
   "outputs": [],
   "source": [
    "value"
   ]
  },
  {
   "cell_type": "markdown",
   "metadata": {},
   "source": [
    "### While loops\n",
    "\n",
    "We can create while loops in order to have some kind of repetitive task"
   ]
  },
  {
   "cell_type": "code",
   "execution_count": null,
   "metadata": {},
   "outputs": [],
   "source": [
    "def cond(x, y):\n",
    "    return x > y\n",
    "\n",
    "def body(x, y):\n",
    "    return x / 2, y + 1\n",
    "\n",
    "x, y = tf.while_loop(cond=cond,\n",
    "                     body=body,\n",
    "                     loop_vars=[100., 1.])"
   ]
  },
  {
   "cell_type": "code",
   "execution_count": null,
   "metadata": {},
   "outputs": [],
   "source": [
    "x, y"
   ]
  },
  {
   "cell_type": "markdown",
   "metadata": {},
   "source": [
    "### map a function\n",
    "\n",
    "We can also map a function on each element. While this is not very efficient, it allows for high flexibility."
   ]
  },
  {
   "cell_type": "code",
   "execution_count": null,
   "metadata": {},
   "outputs": [],
   "source": [
    "%%timeit -n1 -r1\n",
    "tf.map_fn(tf.math.sin, rnd1_big)"
   ]
  },
  {
   "cell_type": "code",
   "execution_count": null,
   "metadata": {},
   "outputs": [],
   "source": [
    "%%timeit -n1 -r1\n",
    "tf.vectorized_map(tf.math.sin, rnd1_big)  # can speedup things sometimes"
   ]
  },
  {
   "cell_type": "code",
   "execution_count": null,
   "metadata": {},
   "outputs": [],
   "source": [
    "@tf.function(autograph=False)\n",
    "def do_map(func, tensor):\n",
    "    return tf.map_fn(func, tensor)\n",
    "\n",
    "do_map(tf.math.sin, rnd1_big)"
   ]
  },
  {
   "cell_type": "code",
   "execution_count": null,
   "metadata": {},
   "outputs": [],
   "source": [
    "@tf.function(autograph=False)\n",
    "def do_map_vec(func, tensor):\n",
    "    return tf.vectorized_map(func, tensor)\n",
    "\n",
    "do_map_vec(tf.math.sin, rnd1_big)"
   ]
  },
  {
   "cell_type": "code",
   "execution_count": null,
   "metadata": {},
   "outputs": [],
   "source": [
    "%%timeit\n",
    "do_map(tf.math.sin, rnd1_big)"
   ]
  },
  {
   "cell_type": "code",
   "execution_count": null,
   "metadata": {},
   "outputs": [],
   "source": [
    "%%timeit\n",
    "do_map_vec(tf.math.sin, rnd1_big)"
   ]
  },
  {
   "cell_type": "code",
   "execution_count": null,
   "metadata": {},
   "outputs": [],
   "source": [
    "%%timeit\n",
    "tf.math.sin(rnd1_big)"
   ]
  },
  {
   "cell_type": "markdown",
   "metadata": {},
   "source": [
    "As we can see, the generic mapping is surely not optimal. However, it works \"always\". `vectorized_map` on the other hand has a huge speedup and performs nearly as well as using the native function! However, while this works nicely for this case, it's applications are limited and depend heavily on the use-case; more complicated examples can easily result in a longer runtime and a huge memory consumption. Caution is therefore advised when using this function."
   ]
  },
  {
   "cell_type": "markdown",
   "metadata": {},
   "source": [
    "## Gradients\n",
    "\n",
    "TensorFlow allows us to calculate the automatic gradients."
   ]
  },
  {
   "cell_type": "code",
   "execution_count": null,
   "metadata": {},
   "outputs": [],
   "source": [
    "var2 = tf.Variable(2.)"
   ]
  },
  {
   "cell_type": "code",
   "execution_count": null,
   "metadata": {},
   "outputs": [],
   "source": [
    "with tf.GradientTape() as tape:\n",
    "    tape.watch(var2)  # actually watches all variables already by default\n",
    "    y = var2 ** 3\n",
    "y"
   ]
  },
  {
   "cell_type": "code",
   "execution_count": null,
   "metadata": {},
   "outputs": [],
   "source": [
    "grad = tape.gradient(y, var2)\n",
    "grad"
   ]
  },
  {
   "cell_type": "markdown",
   "metadata": {},
   "source": [
    "## Tasks to try out\n",
    "\n",
    "Following are a few ideas to check whether you understand things\n",
    "\n",
    " - can you get the second derivative? play around ;)\n",
    " - write a shape that you know as a function\n",
    " - create the MC integral of it over a certain range"
   ]
  },
  {
   "cell_type": "markdown",
   "metadata": {},
   "source": [
    "This allows to do many things with gradients and e.g. solve differential equations."
   ]
  },
  {
   "cell_type": "markdown",
   "metadata": {},
   "source": [
    "\n"
   ]
  },
  {
   "cell_type": "markdown",
   "metadata": {},
   "source": [
    "## Bonus: the graph\n",
    "\n",
    "We talked about the graph back and forth, but _where is it_ ?\n",
    "\n",
    "The graph can be retained from a function that was already traced."
   ]
  },
  {
   "cell_type": "code",
   "execution_count": null,
   "metadata": {},
   "outputs": [],
   "source": [
    "concrete_func = calc_tf_func2.get_concrete_function(rnd1, 2)\n",
    "concrete_func"
   ]
  },
  {
   "cell_type": "code",
   "execution_count": null,
   "metadata": {},
   "outputs": [],
   "source": [
    "graph = concrete_func.graph\n",
    "graph"
   ]
  },
  {
   "cell_type": "code",
   "execution_count": null,
   "metadata": {},
   "outputs": [],
   "source": [
    "ops = graph.get_operations()\n",
    "ops"
   ]
  },
  {
   "cell_type": "code",
   "execution_count": null,
   "metadata": {},
   "outputs": [],
   "source": [
    "log_op = ops[-6]\n",
    "log_op"
   ]
  },
  {
   "cell_type": "code",
   "execution_count": null,
   "metadata": {},
   "outputs": [],
   "source": [
    "log_op.outputs"
   ]
  },
  {
   "cell_type": "code",
   "execution_count": null,
   "metadata": {},
   "outputs": [],
   "source": [
    "op_inputs_mean = ops[-4].inputs\n",
    "op_inputs_mean"
   ]
  },
  {
   "cell_type": "code",
   "execution_count": null,
   "metadata": {},
   "outputs": [],
   "source": [
    "log_op.outputs[0] is op_inputs_mean[0]"
   ]
  },
  {
   "cell_type": "markdown",
   "metadata": {},
   "source": [
    "The output of the log operation is the input to the mean operation! We can just walk along the graph here. TensorFlow Graphs are no magic, they are simple object that store their input, their output, their operation. That's it!"
   ]
  }
 ],
 "metadata": {
  "kernelspec": {
   "display_name": "Python 3",
   "language": "python",
   "name": "python3"
  },
  "language_info": {
   "codemirror_mode": {
    "name": "ipython",
    "version": 3
   },
   "file_extension": ".py",
   "mimetype": "text/x-python",
   "name": "python",
   "nbconvert_exporter": "python",
   "pygments_lexer": "ipython3",
   "version": "3.8.10"
  }
 },
 "nbformat": 4,
 "nbformat_minor": 4
}
