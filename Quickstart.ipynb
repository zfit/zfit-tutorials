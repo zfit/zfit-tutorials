{
 "cells": [
  {
   "cell_type": "markdown",
   "metadata": {
    "inputHidden": false,
    "outputHidden": false
   },
   "source": [
    "# zfit — A simple introduction\n",
    "\n",
    "In this quick tutorial, we'll show the basic ideas on what you can do with `zfit`, without going into much detail or performing advanced tasks.\n",
    "\n",
    "First, we will perform the basic imports that we will use along most of the tutorials, and we'll check the `tensorflow` version.\n",
    "\n"
   ]
  },
  {
   "cell_type": "code",
   "execution_count": 1,
   "metadata": {
    "pycharm": {
     "is_executing": false
    }
   },
   "outputs": [
    {
     "name": "stdout",
     "text": [
      "TensorFlow version: 2.1.0\n"
     ],
     "output_type": "stream"
    },
    {
     "name": "stderr",
     "text": [
      "/home/jonas/anaconda3/envs/ztutorial37/lib/python3.7/site-packages/ipykernel_launcher.py:4: UserWarning: zfit has moved from TensorFlow 1.x to 2.x, which has some profound\n",
      "implications behind the scenes of zfit and minor ones on the user side.\n",
      "Be sure to read the upgrade guide (can be found in the README at the top)\n",
      "to have a seamless transition. If this is currently not doable you can\n",
      "downgrade zfit to <0.4.\n",
      "Feel free to contact us in case of problems in order to fix them ASAP.\n",
      "  after removing the cwd from sys.path.\n"
     ],
     "output_type": "stream"
    }
   ],
   "source": [
    "import numpy as np\n",
    "import tensorflow as tf\n",
    "\n",
    "import zfit\n",
    "# Wrapper for some tensorflow functionality\n",
    "from zfit import z\n",
    "print(\"TensorFlow version:\", tf.__version__)"
   ]
  },
  {
   "cell_type": "markdown",
   "metadata": {
    "inputHidden": false,
    "outputHidden": false
   },
   "source": [
    "## Create observables\n",
    "\n",
    "The observable space in which PDFs are defined is created with the `Space` class"
   ]
  },
  {
   "cell_type": "code",
   "execution_count": 2,
   "metadata": {
    "inputHidden": false,
    "outputHidden": false,
    "pycharm": {
     "is_executing": false
    }
   },
   "outputs": [],
   "source": [
    "obs = zfit.Space('x', limits=(-10, 10))"
   ]
  },
  {
   "cell_type": "markdown",
   "metadata": {
    "inputHidden": false,
    "outputHidden": false
   },
   "source": [
    "## Create data\n",
    "\n",
    "We create some data using `numpy`. Other constructors, e.g. for `ROOT` files are also available."
   ]
  },
  {
   "cell_type": "code",
   "execution_count": 3,
   "metadata": {
    "inputHidden": false,
    "outputHidden": false,
    "pycharm": {
     "is_executing": false
    }
   },
   "outputs": [],
   "source": [
    "mu_true = 0\n",
    "sigma_true = 1\n",
    "\n",
    "data_np = np.random.normal(mu_true, sigma_true, size=10000)\n",
    "data = zfit.data.Data.from_numpy(obs=obs, array=data_np)"
   ]
  },
  {
   "cell_type": "markdown",
   "metadata": {
    "inputHidden": false,
    "outputHidden": false
   },
   "source": [
    "## Create a PDF to fit\n",
    "\n",
    "Let's create a Gaussian PDF so we can fit the dataset. To do this, first we create the fit parameters, which follow a convention similar to `RooFit`:\n",
    "\n",
    "```\n",
    "zfit.Parameter(name, initial_value, lower_limit (optional), upper_limit (optional), other options)\n",
    "```"
   ]
  },
  {
   "cell_type": "code",
   "execution_count": 4,
   "metadata": {
    "pycharm": {
     "is_executing": false
    }
   },
   "outputs": [],
   "source": [
    "mu = zfit.Parameter(\"mu\", 2.4, -1., 5., step_size=0.001)  # step_size is not mandatory but can be helpful\n",
    "sigma = zfit.Parameter(\"sigma\", 1.3, 0, 5., step_size=0.001)  # it should be around the estimated uncertainty"
   ]
  },
  {
   "cell_type": "markdown",
   "metadata": {
    "inputHidden": false,
    "outputHidden": false
   },
   "source": [
    "Now we instantiate a Gaussian from the zfit PDF library (more on how to create your own PDFs later)"
   ]
  },
  {
   "cell_type": "code",
   "execution_count": 5,
   "metadata": {
    "pycharm": {
     "is_executing": false
    }
   },
   "outputs": [],
   "source": [
    "gauss = zfit.pdf.Gauss(obs=obs, mu=mu, sigma=sigma)"
   ]
  },
  {
   "cell_type": "markdown",
   "metadata": {
    "inputHidden": false,
    "outputHidden": false
   },
   "source": [
    "This pdf contains several useful methods, such as calculating a probability, calculating its integral, sampling etc.\n",
    "\n",
    "**Note**: Several objects that are returned from methods, like `integrate`, return `tf.Tensor`, which are wrapped Numpy arrays.\n",
    "They can directly be used as such or explicitly converted to by calling:\n",
    "\n",
    "```python\n",
    "zfit.run(TensorFlow_object)\n",
    "```"
   ]
  },
  {
   "cell_type": "code",
   "execution_count": 6,
   "metadata": {
    "pycharm": {
     "is_executing": false
    }
   },
   "outputs": [
    {
     "name": "stdout",
     "text": [
      "x values: [-1, 0, 1]\n",
      "result:   [0.01003756 0.05582994 0.17184119]\n"
     ],
     "output_type": "stream"
    }
   ],
   "source": [
    "# Let's get some probabilities.\n",
    "consts = [-1, 0, 1]\n",
    "probs = gauss.pdf(z.constant(consts))\n",
    "# And now execute the tensorflow graph\n",
    "result = zfit.run(probs)\n",
    "print(\"x values: {}\\nresult:   {}\".format(consts, result))"
   ]
  },
  {
   "cell_type": "markdown",
   "metadata": {
    "inputHidden": false,
    "outputHidden": false
   },
   "source": [
    "## Fitting\n",
    "\n",
    "To fit, we need to take three steps: create the negative $\\log\\mathcal{L}$, instantiate a minimizer and then minimize the likelihood. "
   ]
  },
  {
   "cell_type": "code",
   "execution_count": 7,
   "metadata": {
    "inputHidden": false,
    "outputHidden": false,
    "pycharm": {
     "is_executing": false
    }
   },
   "outputs": [
    {
     "name": "stdout",
     "text": [
      "------------------------------------------------------------------\n",
      "| FCN = 1.409E+04               |      Ncalls=64 (64 total)      |\n",
      "| EDM = 1.17E-05 (Goal: 5E-05)  |            up = 0.5            |\n",
      "------------------------------------------------------------------\n",
      "|  Valid Min.   | Valid Param.  | Above EDM | Reached call limit |\n",
      "------------------------------------------------------------------\n",
      "|     True      |     True      |   False   |       False        |\n",
      "------------------------------------------------------------------\n",
      "| Hesse failed  |   Has cov.    | Accurate  | Pos. def. | Forced |\n",
      "------------------------------------------------------------------\n",
      "|     False     |     True      |   True    |   True    | False  |\n",
      "------------------------------------------------------------------\n",
      "mu=-0.00871371353676742\n",
      "sigma=0.9904143431656631\n"
     ],
     "output_type": "stream"
    }
   ],
   "source": [
    "# Create the negative log likelihood\n",
    "\n",
    "nll = zfit.loss.UnbinnedNLL(model=gauss, data=data)  # loss\n",
    "\n",
    "# Load and instantiate a minimizer\n",
    "minimizer = zfit.minimize.Minuit()\n",
    "minimum = minimizer.minimize(loss=nll)\n",
    "\n",
    "# Get the fitted values, again by run the variable graphs\n",
    "params = minimum.params\n",
    "\n",
    "print(\"mu={}\".format(params[mu]['value']))\n",
    "print(\"sigma={}\".format(params[sigma]['value']))"
   ]
  },
  {
   "cell_type": "markdown",
   "metadata": {
    "inputHidden": false,
    "outputHidden": false
   },
   "source": [
    "And we can plot the result to see how it went."
   ]
  },
  {
   "cell_type": "code",
   "execution_count": 8,
   "metadata": {
    "inputHidden": false,
    "outputHidden": false,
    "pycharm": {
     "is_executing": false
    }
   },
   "outputs": [],
   "source": [
    "%matplotlib inline  "
   ]
  },
  {
   "cell_type": "code",
   "execution_count": 9,
   "metadata": {
    "inputHidden": false,
    "outputHidden": false,
    "pycharm": {
     "is_executing": false
    }
   },
   "outputs": [
    {
     "data": {
      "text/plain": "<Figure size 432x288 with 1 Axes>",
      "image/png": "[encoded data removed]"
     },
     "metadata": {
      "needs_background": "light"
     },
     "output_type": "display_data"
    }
   ],
   "source": [
    "import matplotlib.pyplot as plt\n",
    "n_bins = 50\n",
    "range_ = (-5,5)\n",
    "_ = plt.hist(data_np, bins=n_bins, range=range_)\n",
    "x = np.linspace(*range_, num=1000)\n",
    "with gauss.set_norm_range(range_):\n",
    "    pdf = zfit.run(gauss.pdf(x))\n",
    "_ = plt.plot(x, data_np.shape[0] / n_bins * (range_[1] - range_[0]) * pdf)"
   ]
  },
  {
   "cell_type": "markdown",
   "metadata": {
    "inputHidden": false,
    "outputHidden": false
   },
   "source": [
    "Here, we can see the power of the context managers used to change the normalisation range."
   ]
  },
  {
   "cell_type": "code",
   "execution_count": 10,
   "metadata": {
    "inputHidden": false,
    "outputHidden": false,
    "pycharm": {
     "is_executing": false
    }
   },
   "outputs": [
    {
     "name": "stdout",
     "text": [
      "[0.45534155]\n",
      "[0.99754569]\n",
      "[1.]\n"
     ],
     "output_type": "stream"
    }
   ],
   "source": [
    "with gauss.set_norm_range((-1e6, 1e6)):  # play around with different norm ranges\n",
    "# with gauss.set_norm_range((-100, 100)):\n",
    "    print(zfit.run(gauss.integrate((-0.6, 0.6))))\n",
    "    print(zfit.run(gauss.integrate((-3, 3))))\n",
    "    print(zfit.run(gauss.integrate((-100, 100))))"
   ]
  },
  {
   "cell_type": "markdown",
   "metadata": {},
   "source": [
    "*(remember the orders of magnitude: sigma of our Gaussian is 1, so 100 is far far away)*"
   ]
  },
  {
   "cell_type": "markdown",
   "metadata": {
    "inputHidden": false,
    "outputHidden": false
   },
   "source": [
    "The `FitResult` that we obtained contains information about the minimization and can now be used to calculate the errors"
   ]
  },
  {
   "cell_type": "code",
   "execution_count": 11,
   "metadata": {
    "pycharm": {
     "is_executing": false
    }
   },
   "outputs": [
    {
     "name": "stdout",
     "text": [
      "Function minimum: 14093.09335866744\n",
      "Converged: True\n",
      "Full minimizer information: {'n_eval': 64, 'n_iter': 64, 'original': FMin(fval=14093.09335866744, edm=1.1728434474693402e-05, tolerance=1.0, nfcn=64, ncalls=64, up=0.5, is_valid=True, has_valid_parameters=True, has_accurate_covar=True, has_posdef_covar=True, has_made_posdef_covar=False, hesse_failed=False, has_covariance=True, is_above_max_edm=False, has_reached_call_limit=False)}\n"
     ],
     "output_type": "stream"
    }
   ],
   "source": [
    "print(\"Function minimum:\", minimum.fmin)\n",
    "print(\"Converged:\", minimum.converged)\n",
    "print(\"Full minimizer information:\", minimum.info)"
   ]
  },
  {
   "cell_type": "code",
   "execution_count": 12,
   "metadata": {
    "pycharm": {
     "is_executing": false
    }
   },
   "outputs": [],
   "source": [
    "errors = minimum.error()"
   ]
  },
  {
   "cell_type": "code",
   "execution_count": 13,
   "metadata": {
    "pycharm": {
     "is_executing": false
    }
   },
   "outputs": [
    {
     "name": "stdout",
     "text": [
      "-------------------------------------------------\n",
      "|       mu        |            Valid            |\n",
      "-------------------------------------------------\n",
      "|      Error      |    -0.010    |     0.010    |\n",
      "|      Valid      |     True     |     True     |\n",
      "|    At Limit     |    False     |    False     |\n",
      "|     Max FCN     |    False     |    False     |\n",
      "|     New Min     |    False     |    False     |\n",
      "-------------------------------------------------\n"
     ],
     "output_type": "stream"
    }
   ],
   "source": [
    "print(errors[mu])"
   ]
  },
  {
   "cell_type": "code",
   "execution_count": 13,
   "metadata": {
    "pycharm": {
     "is_executing": false
    }
   },
   "outputs": [],
   "source": []
  }
 ],
 "metadata": {
  "kernel_info": {
   "name": "zfit"
  },
  "kernelspec": {
   "display_name": "Python 3",
   "language": "python",
   "name": "python3"
  },
  "language_info": {
   "codemirror_mode": {
    "name": "ipython",
    "version": 3
   },
   "file_extension": ".py",
   "mimetype": "text/x-python",
   "name": "python",
   "nbconvert_exporter": "python",
   "pygments_lexer": "ipython3",
   "version": "3.7.3"
  },
  "nteract": {
   "version": "0.12.3"
  },
  "pycharm": {
   "stem_cell": {
    "cell_type": "raw",
    "source": [],
    "metadata": {
     "collapsed": false
    }
   }
  }
 },
 "nbformat": 4,
 "nbformat_minor": 4
}