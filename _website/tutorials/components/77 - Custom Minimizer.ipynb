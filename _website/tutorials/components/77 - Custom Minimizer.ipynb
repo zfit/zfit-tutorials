{
 "cells": [
  {
   "cell_type": "markdown",
   "id": "0",
   "metadata": {},
   "source": [
    "# Building your own minimizer"
   ]
  },
  {
   "cell_type": "code",
   "execution_count": null,
   "id": "1",
   "metadata": {},
   "outputs": [],
   "source": [
    "from __future__ import annotations\n",
    "\n",
    "from typing import Sequence\n",
    "\n",
    "import zfit\n",
    "from zfit.minimizers.interface import ZfitMinimizer"
   ]
  },
  {
   "cell_type": "code",
   "execution_count": null,
   "id": "2",
   "metadata": {},
   "outputs": [],
   "source": [
    "zfit.run.experimental_disable_param_update(True)  # does not update parameters automatically after minimization"
   ]
  },
  {
   "cell_type": "code",
   "execution_count": null,
   "id": "3",
   "metadata": {},
   "outputs": [],
   "source": [
    "class ChainedMinimizer(zfit.minimize.BaseMinimizer):\n",
    "    def __init__(self, minimizers: ZfitMinimizer | Sequence[ZfitMinimizer], tol=None, verbosity=0, name=None):\n",
    "        if isinstance(minimizers, ZfitMinimizer):\n",
    "            minimizers = [minimizers]\n",
    "\n",
    "        self.minimizers = minimizers\n",
    "        lasttol = minimizers[-1].tol\n",
    "        if tol is None:\n",
    "            tol = lasttol\n",
    "        elif abs(tol - lasttol) > 1e-6:\n",
    "            raise ValueError(\"The tolerance of the chained minimizer must be the same as the last minimizer.\")\n",
    "        super().__init__(tol=tol, verbosity=verbosity, name=name)\n",
    "\n",
    "    @zfit.minimize.minimize_supports(init=True)\n",
    "    def _minimize(self, loss, params, init):\n",
    "        result = init\n",
    "        for minimizer in self.minimizers:\n",
    "            result = minimizer.minimize(loss, params=params, init=result)\n",
    "            if self.verbosity > 7:\n",
    "                print(f\"Minimizer {minimizer} finished with result \\n{result}\")\n",
    "        return result"
   ]
  },
  {
   "cell_type": "code",
   "execution_count": null,
   "id": "4",
   "metadata": {},
   "outputs": [],
   "source": [
    "minimizer1 = zfit.minimize.Minuit(tol=10., mode=0)\n",
    "minimizer2 = zfit.minimize.ScipyTrustConstrV1(tol=1e-3)"
   ]
  },
  {
   "cell_type": "code",
   "execution_count": null,
   "id": "5",
   "metadata": {},
   "outputs": [],
   "source": [
    "minimizer = ChainedMinimizer([minimizer1, minimizer2], verbosity=8)"
   ]
  },
  {
   "cell_type": "markdown",
   "id": "6",
   "metadata": {},
   "source": [
    "Create a simple loss and minimize it with the chained minimizer."
   ]
  },
  {
   "cell_type": "code",
   "execution_count": null,
   "id": "7",
   "metadata": {},
   "outputs": [],
   "source": [
    "obs = zfit.Space('obs1', -10, 10)\n",
    "mu = zfit.Parameter('mu', 1., -1, 5)\n",
    "sigma = zfit.Parameter('sigma', 1., 0, 10)\n",
    "sigyield = zfit.Parameter('sigyield', 1000, 0, 10000)\n",
    "gauss = zfit.pdf.Gauss(obs=obs, mu=mu, sigma=sigma, extended=sigyield)\n",
    "\n",
    "lamb = zfit.Parameter('lambda', -0.1, -1, -0.01)\n",
    "bkgyield = zfit.Parameter('bkgyield', 1000, 0, 10000)\n",
    "exponential = zfit.pdf.Exponential(obs=obs, lambda_=lamb, extended=bkgyield)\n",
    "\n",
    "model = zfit.pdf.SumPDF([gauss, exponential])\n",
    "\n",
    "data = model.sample(n=5000, params={mu: 0.5, sigma: 1.2, lamb: -0.05, sigyield: 3000, bkgyield: 2000})\n",
    "\n",
    "loss = zfit.loss.ExtendedUnbinnedNLL(model=model, data=data)"
   ]
  },
  {
   "cell_type": "code",
   "execution_count": null,
   "id": "8",
   "metadata": {},
   "outputs": [],
   "source": [
    "# result = minimizer.minimize(loss=loss)"
   ]
  },
  {
   "cell_type": "markdown",
   "id": "9",
   "metadata": {},
   "source": [
    "# Implementing a custom algorithm"
   ]
  },
  {
   "cell_type": "code",
   "execution_count": null,
   "id": "10",
   "metadata": {},
   "outputs": [],
   "source": [
    "\n",
    "import zfit.z.numpy as znp\n",
    "from zfit.result import FitResult\n",
    "\n",
    "\n",
    "class GradientDescentMinimizer(zfit.minimize.BaseMinimizer):\n",
    "    def __init__(self, scaling, tol=None, verbosity=0, strategy=None, criterion=None, maxiter=None, name=None):\n",
    "        super().__init__(\n",
    "            name=name,\n",
    "            strategy=strategy,\n",
    "            tol=tol,\n",
    "            verbosity=verbosity,\n",
    "            criterion=criterion,\n",
    "            maxiter=maxiter\n",
    "        )\n",
    "        self.scaling = scaling\n",
    "\n",
    "    @zfit.minimize.minimize_supports(init=False)  # we could allow the previous result as additional information\n",
    "    def _minimize(self, loss, params, init):\n",
    "        criterion = self.create_criterion(loss, params)  # this is to be checked for convergence\n",
    "        evaluator = self.create_evaluator(loss, params)  # takes into account the strategy, callbacks, maxiter, and so on. A wrapper around the loss\n",
    "        paramvals = znp.asarray(params)\n",
    "        i = 1\n",
    "        while True:\n",
    "            value, gradients = evaluator.value_gradient(paramvals)\n",
    "            result = FitResult(loss=loss, params={p: v for p, v in zip(params, paramvals)}, minimizer=self, valid=False, converged=False, edm=None, fminopt=None,\n",
    "                               approx={'gradient': gradients}, criterion=criterion,\n",
    "                               )\n",
    "            if criterion.converged(result=result):\n",
    "                result = FitResult(loss=loss, params={p: v for p, v in zip(params, paramvals)}, minimizer=self, valid=True, converged=True, edm=None,\n",
    "                                   fminopt=None, approx={'gradient': gradients}, criterion=criterion)\n",
    "                if self.verbosity > 5:\n",
    "                    print(f\"Converged with value {value}, criterion {criterion.last_value}\")\n",
    "                break\n",
    "            if self.verbosity > 9:\n",
    "                print(f\"Criterion: {criterion.last_value} Loss value: {value}, gradients: {gradients}\")\n",
    "            paramvals -= self.scaling * gradients / i ** 0.1\n",
    "        return result"
   ]
  },
  {
   "cell_type": "code",
   "execution_count": null,
   "id": "11",
   "metadata": {},
   "outputs": [],
   "source": [
    "gsdminimizer = GradientDescentMinimizer(scaling=0.0001, tol=0.3, verbosity=10, maxiter=10)  # limit maxiter, as it won't converge"
   ]
  },
  {
   "cell_type": "code",
   "execution_count": null,
   "id": "12",
   "metadata": {},
   "outputs": [],
   "source": [
    "loss.hessian(loss.get_params())"
   ]
  },
  {
   "cell_type": "code",
   "execution_count": null,
   "id": "13",
   "metadata": {},
   "outputs": [],
   "source": [
    "gsdresult = gsdminimizer.minimize(loss=loss)"
   ]
  },
  {
   "cell_type": "code",
   "execution_count": null,
   "id": "14",
   "metadata": {},
   "outputs": [],
   "source": []
  }
 ],
 "metadata": {
  "kernelspec": {
   "display_name": "Python 3 (ipykernel)",
   "language": "python",
   "name": "python3"
  },
  "language_info": {
   "codemirror_mode": {
    "name": "ipython",
    "version": 3
   },
   "file_extension": ".py",
   "mimetype": "text/x-python",
   "name": "python",
   "nbconvert_exporter": "python",
   "pygments_lexer": "ipython3",
   "version": "3.10.13"
  }
 },
 "nbformat": 4,
 "nbformat_minor": 5
}
