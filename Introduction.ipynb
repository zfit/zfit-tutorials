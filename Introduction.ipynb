{
 "cells": [
  {
   "cell_type": "markdown",
   "metadata": {},
   "source": [
    "# Introduction to zfit\n",
    "\n",
    "In this notebook, we will have a walk through the main components of zfit and their features. Especially the extensive model building part will be discussed separately.\n",
    "zfit consists of 5 mostly independent parts. Other libraries can rely on this parts to do plotting or statistical inference, such as hepstats does. Therefore we will discuss two libraries in this tutorial: zfit to build models, data and a loss, minimize it and get a fit result and hepstats, to use the loss we built here and do inference.\n",
    "\n",
    "<img src=\"_static/zfit_workflow.png\" style=\"max-width:70%\">\n"
   ]
  },
  {
   "cell_type": "markdown",
   "metadata": {},
   "source": [
    "## Data\n",
    "\n",
    "This component in general plays a minor role in zfit: it is mostly to provide a unified interface for data.\n",
    "\n",
    "Preprocessing is therefore not part of zfit and should be done beforehand. Python offers many great possibilities to do so (e.g. Pandas).\n",
    "\n",
    "zfit `Data` can load data from various sources, most notably from Numpy, Pandas DataFrame, TensorFlow Tensor and ROOT (using uproot). It is also possible, for convenience, to convert it directly `to_pandas`. The constructors are named `from_numpy`, `from_root` etc."
   ]
  },
  {
   "cell_type": "code",
   "execution_count": 1,
   "metadata": {},
   "outputs": [],
   "source": [
    "import zfit\n",
    "from zfit import z\n",
    "import tensorflow as tf\n",
    "import numpy as np\n",
    "import matplotlib.pyplot as plt"
   ]
  },
  {
   "cell_type": "markdown",
   "metadata": {},
   "source": [
    "A `Data` needs not only the data itself but also the observables: the human readable string identifiers of the axes (corresponding to \"columns\" of a Pandas DataFrame). It is convenient to define the `Space` not only with the observable but also with a limit: this can directly be re-used as the normalization range in the PDF.\n",
    "\n",
    "First, let's define our observables"
   ]
  },
  {
   "cell_type": "code",
   "execution_count": 2,
   "metadata": {},
   "outputs": [],
   "source": [
    "obs = zfit.Space('obs1', (-5, 10))"
   ]
  },
  {
   "cell_type": "markdown",
   "metadata": {},
   "source": [
    "This `Space` has limits. Next to the effect of handling the observables, we can also play with the limits: multiple `Spaces` can be added to provide disconnected ranges. More importantly, `Space` offers functionality:\n",
    "- limit1d: return the lower and upper limit in the 1 dimensional case (raises an error otherwise)\n",
    "- rect_limits: return the n dimensional limits\n",
    "- area(): calculate the area (e.g. distance between upper and lower)\n",
    "- inside(): return a boolean Tensor corresponding to whether the value is _inside_ the `Space`\n",
    "- filter(): filter the input values to only return the one inside"
   ]
  },
  {
   "cell_type": "code",
   "execution_count": 3,
   "metadata": {},
   "outputs": [],
   "source": [
    "size_normal = 10000\n",
    "data_normal_np = np.random.normal(size=size_normal, scale=2)\n",
    "\n",
    "data_normal = zfit.Data.from_numpy(obs=obs, array=data_normal_np)"
   ]
  },
  {
   "cell_type": "markdown",
   "metadata": {},
   "source": [
    "The main functionality is\n",
    "- nevents: attribute that returns the number of events in the object\n",
    "- data_range: a `Space` that defines the limits of the data; if outside, the data will be cut\n",
    "- n_obs: defines the number of dimensions in the dataset\n",
    "- with_obs: returns a subset of the dataset with only the given obs\n",
    "- weights: event based weights\n",
    "\n",
    "Furthermore, `value` returns a Tensor with shape `(nevents, n_obs)`.\n",
    "\n",
    "To retrieve values, in general `z.unstack_x(data)` should be used; this returns a single Tensor with shape (nevents) or a list of tensors if `n_obs` is larger then 1."
   ]
  },
  {
   "cell_type": "code",
   "execution_count": 4,
   "metadata": {},
   "outputs": [
    {
     "name": "stdout",
     "output_type": "stream",
     "text": [
      "We have 9950 events in our dataset with the minimum of -4.979805501079585\n"
     ]
    }
   ],
   "source": [
    "print(f\"We have {data_normal.nevents} events in our dataset with the minimum of {np.min(data_normal.unstack_x())}\")  # remember! The obs cut out some of the data"
   ]
  },
  {
   "cell_type": "code",
   "execution_count": 5,
   "metadata": {},
   "outputs": [
    {
     "data": {
      "text/plain": [
       "1"
      ]
     },
     "execution_count": 5,
     "metadata": {},
     "output_type": "execute_result"
    }
   ],
   "source": [
    "data_normal.n_obs"
   ]
  },
  {
   "cell_type": "markdown",
   "metadata": {},
   "source": [
    "## Model\n",
    "\n",
    "Building models is by far the largest part of zfit. We will therefore cover an essential part, the possibility to build custom models, in an extra chapter. Let's start out with the idea that you define your parameters and your observable space; the latter is the expected input data.\n",
    "\n",
    "There are two types of models in zfit:\n",
    "- functions, which are rather simple and \"underdeveloped\"; their usage is often not required.\n",
    "- PDF that are function which are normalized (over a specified range); this is the main model and is what we gonna use throughout the tutorials.\n",
    "\n",
    "A PDF is defined by\n",
    "\n",
    "\\begin{align}\n",
    "\\mathrm{PDF}_{f(x)}(x; \\theta) = \\frac{f(x; \\theta)}{\\int_{a}^{b} f(x; \\theta)}\n",
    "\\end{align}\n",
    "\n",
    "where a and b define the normalization range (`norm_range`), over which (by inserting into the above definition) the integral of the PDF is unity.\n",
    "\n",
    "zfit has a modular approach to things and this is also true for models. While the normalization itself (e.g. what are parameters, what is normalized data) will already be pre-defined in the model, models are composed of functions that are transparently called inside. For example, a Gaussian would usually be implemented by writing a Python function `def gauss(x, mu, sigma)`, which does not care about the normalization and then be wrapped in a PDF, where the normalization and what is a parameter is defined.\n",
    "\n",
    "In principle, we can go far by using simply functions (e.g. [TensorFlowAnalysis/AmpliTF](https://github.com/apoluekt/AmpliTF) by Anton Poluektov uses this approach quite successfully for Amplitude Analysis), but this design has limitations for a more general fitting library such as zfit (or even [TensorWaves](https://github.com/ComPWA/tensorwaves), being built on top of AmpliTF).\n",
    "The main thing is to keep track of the different ordering of the data and parameters, especially the dependencies. \n",
    "\n",
    "\n",
    "Let's create a simple Gaussian PDF. We already defined the `Space` for the data before, now we only need the parameters. This are a different object than a `Space`.\n",
    "\n",
    "### Parameter\n",
    "A `Parameter` (there are different kinds actually, more on that later) takes the following arguments as input:\n",
    "`Parameter(human readable name, initial value[, lower limit, upper limit])` where the limits are recommended but not mandatory. Furthermore, `step_size` can be given (which is useful to be around the given uncertainty, e.g. for large yields or small values it can help a lot to set this). Also, a `floating` argument is supported, indicating whether the parameter is allowed to float in the fit or not (just omitting the limits does _not_ make a parameter constant).\n",
    "\n",
    "Parameters have a unique name. This is served as the identifier for e.g. fit results. However, a parameter _cannot_ be retrieved by its string identifier (its name) but the object itself should be used. In places where a parameter maps to something, the object itself is needed, not its name."
   ]
  },
  {
   "cell_type": "code",
   "execution_count": 6,
   "metadata": {},
   "outputs": [],
   "source": [
    "mu = zfit.Parameter('mu', 1, -3, 3, step_size=0.2)\n",
    "sigma_num = zfit.Parameter('sigma42', 1, 0.1, 10, floating=False)"
   ]
  },
  {
   "cell_type": "markdown",
   "metadata": {},
   "source": [
    "These attributes can be changed:"
   ]
  },
  {
   "cell_type": "code",
   "execution_count": 7,
   "metadata": {},
   "outputs": [
    {
     "name": "stdout",
     "output_type": "stream",
     "text": [
      "sigma is float: False\n",
      "sigma is float: True\n"
     ]
    }
   ],
   "source": [
    "print(f\"sigma is float: {sigma_num.floating}\")\n",
    "sigma_num.floating = True\n",
    "print(f\"sigma is float: {sigma_num.floating}\")"
   ]
  },
  {
   "cell_type": "markdown",
   "metadata": {},
   "source": [
    "*PITFALL NOTEBOOKS: since the parameters have a unique name, a second parameter with the same name cannot be created; the behavior is undefined and therefore it raises an error.\n",
    "While this does not pose a problem in a normal Python script, it does in a Jupyter-like notebook, since it is an often practice to \"rerun\" a cell as an attempt to \"reset\" things. Bear in mind that this does not make sense, from a logic point of view. The parameter already exists. Best practice: write a small wrapper, do not rerun the parameter creation cell or simply rerun the notebook (restart kernel & run all). For further details, have a look at the discussion and arguments [here](https://github.com/zfit/zfit/issues/186)*"
   ]
  },
  {
   "cell_type": "markdown",
   "metadata": {},
   "source": [
    "Now we have everything to create a Gaussian PDF:"
   ]
  },
  {
   "cell_type": "code",
   "execution_count": 8,
   "metadata": {},
   "outputs": [],
   "source": [
    "gauss = zfit.pdf.Gauss(obs=obs, mu=mu, sigma=sigma_num)"
   ]
  },
  {
   "cell_type": "markdown",
   "metadata": {},
   "source": [
    "Since this holds all the parameters and the observables are well defined, we can retrieve them"
   ]
  },
  {
   "cell_type": "code",
   "execution_count": 9,
   "metadata": {},
   "outputs": [
    {
     "data": {
      "text/plain": [
       "1"
      ]
     },
     "execution_count": 9,
     "metadata": {},
     "output_type": "execute_result"
    }
   ],
   "source": [
    "gauss.n_obs  # dimensions"
   ]
  },
  {
   "cell_type": "code",
   "execution_count": 10,
   "metadata": {},
   "outputs": [
    {
     "data": {
      "text/plain": [
       "('obs1',)"
      ]
     },
     "execution_count": 10,
     "metadata": {},
     "output_type": "execute_result"
    }
   ],
   "source": [
    "gauss.obs"
   ]
  },
  {
   "cell_type": "code",
   "execution_count": 11,
   "metadata": {},
   "outputs": [
    {
     "data": {
      "text/plain": [
       "<zfit Space obs=('obs1',), axes=(0,), limits=(array([[-5.]]), array([[10.]]))>"
      ]
     },
     "execution_count": 11,
     "metadata": {},
     "output_type": "execute_result"
    }
   ],
   "source": [
    "gauss.space"
   ]
  },
  {
   "cell_type": "code",
   "execution_count": 12,
   "metadata": {},
   "outputs": [
    {
     "data": {
      "text/plain": [
       "<zfit Space obs=('obs1',), axes=(0,), limits=(array([[-5.]]), array([[10.]]))>"
      ]
     },
     "execution_count": 12,
     "metadata": {},
     "output_type": "execute_result"
    }
   ],
   "source": [
    "gauss.norm_range"
   ]
  },
  {
   "cell_type": "markdown",
   "metadata": {},
   "source": [
    "As we've seen, the `obs` we defined is the `space` of Gauss: this acts as the default limits whenever needed (e.g. for sampling). `gauss` also has a `norm_range`, which equals by default as well to the `obs` given, however, we can explicitly change that with `set_norm_range`."
   ]
  },
  {
   "cell_type": "markdown",
   "metadata": {},
   "source": [
    "We can also access the parameters of the PDF in two ways, depending on our intention: \n",
    "either by _name_ (the parameterization name, e.g. `mu` and `sigma`, as defined in the `Gauss`), which is useful if we are interested in the parameter that _describes_ the shape"
   ]
  },
  {
   "cell_type": "code",
   "execution_count": 13,
   "metadata": {},
   "outputs": [
    {
     "data": {
      "text/plain": [
       "OrderedDict([('mu', <zfit.Parameter 'mu' floating=True value=1>),\n",
       "             ('sigma', <zfit.Parameter 'sigma42' floating=True value=1>)])"
      ]
     },
     "execution_count": 13,
     "metadata": {},
     "output_type": "execute_result"
    }
   ],
   "source": [
    "gauss.params"
   ]
  },
  {
   "cell_type": "markdown",
   "metadata": {},
   "source": [
    "or to retrieve all the parameters that the PDF depends on. As this now may sounds trivial, we will see later that models can depend on other models (e.g. sums) and parameters on other parameters. There is one function that automatically retrieves _all_ dependencies, `get_params`. It takes three arguments to filter:\n",
    "- floating: whether to filter only floating parameters, only non-floating or don't discriminate\n",
    "- is_yield: if it is a yield, or not a yield, or both\n",
    "- extract_independent: whether to recursively collect all parameters. This, and the explanation for why independent, can be found later on in the `Simultaneous` tutorial.\n",
    "\n",
    "Usually, the default is exactly what we want if we look for _all free parameters that this PDF depends on_."
   ]
  },
  {
   "cell_type": "code",
   "execution_count": 14,
   "metadata": {},
   "outputs": [
    {
     "data": {
      "text/plain": [
       "OrderedSet([<zfit.Parameter 'mu' floating=True value=1>, <zfit.Parameter 'sigma42' floating=True value=1>])"
      ]
     },
     "execution_count": 14,
     "metadata": {},
     "output_type": "execute_result"
    }
   ],
   "source": [
    "gauss.get_params()"
   ]
  },
  {
   "cell_type": "markdown",
   "metadata": {},
   "source": [
    "The difference will also be clear if we e.g. use the same parameter twice:"
   ]
  },
  {
   "cell_type": "code",
   "execution_count": 15,
   "metadata": {},
   "outputs": [
    {
     "name": "stdout",
     "output_type": "stream",
     "text": [
      "params=OrderedDict([('mu', <zfit.Parameter 'mu' floating=True value=1>), ('sigma', <zfit.Parameter 'mu' floating=True value=1>)])\n",
      "get_params=OrderedSet([<zfit.Parameter 'mu' floating=True value=1>])\n"
     ]
    }
   ],
   "source": [
    "gauss_only_mu = zfit.pdf.Gauss(obs=obs, mu=mu, sigma=mu)\n",
    "print(f\"params={gauss_only_mu.params}\")\n",
    "print(f\"get_params={gauss_only_mu.get_params()}\")"
   ]
  },
  {
   "cell_type": "markdown",
   "metadata": {},
   "source": [
    "## Functionality\n",
    "\n",
    "PDFs provide a few useful methods. The main features of a zfit PDF are:\n",
    "\n",
    "- `pdf`: the normalized value of the PDF. It takes an argument `norm_range` that can be set to `False`, in which case we retrieve the unnormalized value\n",
    "- `integrate`: given a certain range, the PDF is integrated. As `pdf`, it takes a `norm_range` argument that integrates over the unnormalized `pdf` if set to `False`\n",
    "- `sample`: samples from the pdf and returns a `Data` object"
   ]
  },
  {
   "cell_type": "code",
   "execution_count": 16,
   "metadata": {},
   "outputs": [
    {
     "data": {
      "text/plain": [
       "<tf.Tensor: shape=(1,), dtype=float64, numpy=array([0.95449974])>"
      ]
     },
     "execution_count": 16,
     "metadata": {},
     "output_type": "execute_result"
    }
   ],
   "source": [
    "integral = gauss.integrate(limits=(-1, 3))  # corresponds to 2 sigma integral\n",
    "integral"
   ]
  },
  {
   "cell_type": "markdown",
   "metadata": {},
   "source": [
    "### Tensors\n",
    "\n",
    "As we see, many zfit functions return Tensors. This is however no magical thing! If we're outside of models, than we can always safely convert them to a numpy array by calling `zfit.run(...)` on it (or any structure containing potentially multiple Tensors). However, this may not even be required often! They can be added just like numpy arrays and interact well with Python and Numpy:"
   ]
  },
  {
   "cell_type": "code",
   "execution_count": 17,
   "metadata": {},
   "outputs": [
    {
     "data": {
      "text/plain": [
       "array([0.97698502])"
      ]
     },
     "execution_count": 17,
     "metadata": {},
     "output_type": "execute_result"
    }
   ],
   "source": [
    "np.sqrt(integral)"
   ]
  },
  {
   "cell_type": "markdown",
   "metadata": {},
   "source": [
    "They also have shapes, dtypes, can be slices etc. So do not convert them except you need it. More on this can be seen in the talk later on about zfit and TensorFlow 2.0."
   ]
  },
  {
   "cell_type": "code",
   "execution_count": 18,
   "metadata": {},
   "outputs": [
    {
     "data": {
      "text/plain": [
       "<zfit.core.data.SampleData at 0x7f1790089d00>"
      ]
     },
     "execution_count": 18,
     "metadata": {},
     "output_type": "execute_result"
    }
   ],
   "source": [
    "sample = gauss.sample(n=1000)  # default space taken as limits\n",
    "sample"
   ]
  },
  {
   "cell_type": "code",
   "execution_count": 19,
   "metadata": {},
   "outputs": [
    {
     "data": {
      "text/plain": [
       "<tf.Tensor: shape=(10,), dtype=float64, numpy=\n",
       "array([-0.09952247,  1.49016828,  2.12148953,  0.39491123,  1.08061772,\n",
       "        0.49297195,  0.57305784,  1.98737622,  1.46084697,  0.30197322])>"
      ]
     },
     "execution_count": 19,
     "metadata": {},
     "output_type": "execute_result"
    }
   ],
   "source": [
    "sample.unstack_x()[:10]"
   ]
  },
  {
   "cell_type": "code",
   "execution_count": 20,
   "metadata": {},
   "outputs": [
    {
     "data": {
      "text/plain": [
       "1"
      ]
     },
     "execution_count": 20,
     "metadata": {},
     "output_type": "execute_result"
    }
   ],
   "source": [
    "sample.n_obs"
   ]
  },
  {
   "cell_type": "code",
   "execution_count": 21,
   "metadata": {},
   "outputs": [
    {
     "data": {
      "text/plain": [
       "('obs1',)"
      ]
     },
     "execution_count": 21,
     "metadata": {},
     "output_type": "execute_result"
    }
   ],
   "source": [
    "sample.obs"
   ]
  },
  {
   "cell_type": "markdown",
   "metadata": {},
   "source": [
    "We see that sample returns also a zfit `Data` object with the same space as it was sampled in. This can directly be used e.g."
   ]
  },
  {
   "cell_type": "code",
   "execution_count": 22,
   "metadata": {},
   "outputs": [
    {
     "data": {
      "text/plain": [
       "<tf.Tensor: shape=(10,), dtype=float64, numpy=\n",
       "array([0.21796662, 0.35378319, 0.21271375, 0.33220443, 0.39764798,\n",
       "       0.35082167, 0.36419045, 0.24502515, 0.35875036, 0.31268492])>"
      ]
     },
     "execution_count": 22,
     "metadata": {},
     "output_type": "execute_result"
    }
   ],
   "source": [
    "probs = gauss.pdf(sample)\n",
    "probs[:10]"
   ]
  },
  {
   "cell_type": "markdown",
   "metadata": {},
   "source": [
    "**NOTE**: In case you want to do this repeatedly (e.g. for toy studies), there is a way more efficient way (see later on)"
   ]
  },
  {
   "cell_type": "markdown",
   "metadata": {},
   "source": [
    "## Plotting\n",
    "\n",
    "so far, we have a dataset and a PDF. Before we go for fitting, we can make a plot. This functionality is not _directly_ provided in zfit (but can be added to [zfit-physics](https://github.com/zfit/zfit-physics)). It is however simple enough to do it:"
   ]
  },
  {
   "cell_type": "code",
   "execution_count": 23,
   "metadata": {},
   "outputs": [],
   "source": [
    "def plot_model(model, data, scale=1, plot_data=True):  # we will use scale later on\n",
    "\n",
    "    nbins = 50\n",
    "\n",
    "    lower, upper = data.data_range.limit1d\n",
    "    x = tf.linspace(lower, upper, num=1000)  # np.linspace also works\n",
    "    y = model.pdf(x) * size_normal / nbins * data.data_range.area()\n",
    "    y *= scale\n",
    "    plt.plot(x, y)\n",
    "    data_plot = zfit.run(z.unstack_x(data))  # we could also use the `to_pandas` method\n",
    "    if plot_data:\n",
    "        plt.hist(data_plot, bins=nbins)"
   ]
  },
  {
   "cell_type": "code",
   "execution_count": 24,
   "metadata": {},
   "outputs": [
    {
     "name": "stderr",
     "output_type": "stream",
     "text": [
      "<ipython-input-23-b4bf64178f28>:5: UserWarning: The function <function Space.limit1d at 0x7f179f348040> may does not return the actual area/limits but rather the rectangular limits. <zfit Space obs=('obs1',), axes=(0,), limits=(array([[-5.]]), array([[10.]]))> can also have functional limits that are arbitrarily defined and lay inside the rect_limits. To test if a value is inside, use `inside` or `filter`.\n",
      "  lower, upper = data.data_range.limit1d\n",
      "<ipython-input-23-b4bf64178f28>:7: UserWarning: The function <function Space.area at 0x7f179f346dc0> may does not return the actual area/limits but rather the rectangular limits. <zfit Space obs=('obs1',), axes=(0,), limits=(array([[-5.]]), array([[10.]]))> can also have functional limits that are arbitrarily defined and lay inside the rect_limits. To test if a value is inside, use `inside` or `filter`.\n",
      "  y = model.pdf(x) * size_normal / nbins * data.data_range.area()\n"
     ]
    },
    {
     "data": {
      "image/png": "[encoded data removed]",
      "text/plain": [
       "<Figure size 432x288 with 1 Axes>"
      ]
     },
     "metadata": {
      "needs_background": "light"
     },
     "output_type": "display_data"
    }
   ],
   "source": [
    "plot_model(gauss, data_normal)"
   ]
  },
  {
   "cell_type": "markdown",
   "metadata": {},
   "source": [
    "We can of course do better (and will see that later on, continuously improve the plots), but this is quite simple and gives us the full power of matplotlib."
   ]
  },
  {
   "cell_type": "markdown",
   "metadata": {},
   "source": [
    "### Different models\n",
    "\n",
    "zfit offers a selection of predefined models (and extends with models from zfit-physics that contain physics specific models such as ARGUS shaped models)."
   ]
  },
  {
   "cell_type": "code",
   "execution_count": 25,
   "metadata": {},
   "outputs": [
    {
     "name": "stdout",
     "output_type": "stream",
     "text": [
      "['BasePDF', 'BaseFunctor', 'Exponential', 'CrystalBall', 'DoubleCB', 'Gauss', 'Uniform', 'TruncatedGauss', 'WrapDistribution', 'Cauchy', 'Chebyshev', 'Legendre', 'Chebyshev2', 'Hermite', 'Laguerre', 'RecursivePolynomial', 'ProductPDF', 'SumPDF', 'GaussianKDE1DimV1', 'ZPDF', 'SimplePDF', 'SimpleFunctorPDF']\n"
     ]
    }
   ],
   "source": [
    "print(zfit.pdf.__all__)"
   ]
  },
  {
   "cell_type": "markdown",
   "metadata": {},
   "source": [
    "To create a more realistic model, we can build some components for a mass fit with a\n",
    "- signal component: CrystalBall\n",
    "- combinatorial background: Exponential\n",
    "- partial reconstructed background on the left: Kernel Density Estimation"
   ]
  },
  {
   "cell_type": "code",
   "execution_count": 27,
   "metadata": {},
   "outputs": [],
   "source": [
    "mass_obs = zfit.Space('mass', (0, 1000))"
   ]
  },
  {
   "cell_type": "code",
   "execution_count": 28,
   "metadata": {},
   "outputs": [],
   "source": [
    "# Signal component\n",
    "\n",
    "mu_sig = zfit.Parameter('mu_sig', 400, 100, 600)\n",
    "sigma_sig = zfit.Parameter('sigma_sig', 50, 1, 100)\n",
    "alpha_sig = zfit.Parameter('alpha_sig', 300, 100, 400)\n",
    "n_sig = zfit.Parameter('n sig', 4, 0.1, 30)\n",
    "signal = zfit.pdf.CrystalBall(obs=mass_obs, mu=mu_sig, sigma=sigma_sig, alpha=alpha_sig, n=n_sig)"
   ]
  },
  {
   "cell_type": "code",
   "execution_count": 29,
   "metadata": {},
   "outputs": [],
   "source": [
    "# combinatorial background\n",
    "\n",
    "lam = zfit.Parameter('lambda', -0.01, -0.05, -0.001)\n",
    "comb_bkg = zfit.pdf.Exponential(lam, obs=mass_obs)"
   ]
  },
  {
   "cell_type": "code",
   "execution_count": 30,
   "metadata": {},
   "outputs": [],
   "source": [
    "part_reco_data = np.random.normal(loc=200, scale=150, size=700)\n",
    "part_reco_data = zfit.Data.from_numpy(obs=mass_obs, array=part_reco_data)  # we don't need to do this but now we're sure it's inside the limits\n",
    "\n",
    "part_reco = zfit.pdf.GaussianKDE1DimV1(obs=mass_obs, data=part_reco_data, bandwidth='adaptive')"
   ]
  },
  {
   "cell_type": "markdown",
   "metadata": {},
   "source": [
    "## Composing models\n",
    "\n",
    "We can also compose multiple models together. Here we'll stick to one dimensional models, the extension to multiple dimensions is explained in the \"custom models tutorial\".\n",
    "\n",
    "Here we will use a `SumPDF`. This takes pdfs and fractions. If we provide n pdfs and:\n",
    "- n - 1 fracs: the nth fraction will be 1 - sum(fracs)\n",
    "- n fracs: no normalization attempt is done by `SumPDf`. If the fracs are not implicitly normalized, this can lead to bad fitting\n",
    "  behavior if there is a degree of freedom too much\n",
    "  \n"
   ]
  },
  {
   "cell_type": "code",
   "execution_count": 31,
   "metadata": {},
   "outputs": [],
   "source": [
    "sig_frac = zfit.Parameter('sig_frac', 0.3, 0, 1)\n",
    "comb_bkg_frac = zfit.Parameter('comb_bkg_frac', 0.25, 0, 1)\n",
    "model = zfit.pdf.SumPDF([signal, comb_bkg, part_reco], [sig_frac, comb_bkg_frac])"
   ]
  },
  {
   "cell_type": "markdown",
   "metadata": {},
   "source": [
    "In order to have a corresponding data sample, we can just create one. Since we want to fit to this dataset later on, we will create it with slightly different values. Therefore, we can use the ability of a parameter to be set temporarily to a certain value with"
   ]
  },
  {
   "cell_type": "code",
   "execution_count": 32,
   "metadata": {},
   "outputs": [
    {
     "name": "stdout",
     "output_type": "stream",
     "text": [
      "before: <zfit.Parameter 'sig_frac' floating=True value=0.3>\n",
      "new value: <zfit.Parameter 'sig_frac' floating=True value=0.25>\n",
      "after 'with': <zfit.Parameter 'sig_frac' floating=True value=0.3>\n"
     ]
    }
   ],
   "source": [
    "print(f\"before: {sig_frac}\")\n",
    "with sig_frac.set_value(0.25):\n",
    "    print(f\"new value: {sig_frac}\")\n",
    "print(f\"after 'with': {sig_frac}\")"
   ]
  },
  {
   "cell_type": "markdown",
   "metadata": {},
   "source": [
    "While this is useful, it does not fully scale up. We can use the `zfit.param.set_values` helper therefore.\n",
    "(_Sidenote: instead of a list of values, we can also use a `FitResult`, the given parameters then take the value from the result_)"
   ]
  },
  {
   "cell_type": "code",
   "execution_count": 33,
   "metadata": {},
   "outputs": [],
   "source": [
    "with zfit.param.set_values([mu_sig, sigma_sig, sig_frac, comb_bkg_frac, lam], [370, 34, 0.18, 0.15, -0.006]):\n",
    "    data = model.sample(n=10000)"
   ]
  },
  {
   "cell_type": "code",
   "execution_count": 34,
   "metadata": {},
   "outputs": [
    {
     "data": {
      "image/png": "[encoded data removed]",
      "text/plain": [
       "<Figure size 432x288 with 1 Axes>"
      ]
     },
     "metadata": {
      "needs_background": "light"
     },
     "output_type": "display_data"
    }
   ],
   "source": [
    "plot_model(model, data);"
   ]
  },
  {
   "cell_type": "markdown",
   "metadata": {},
   "source": [
    "Plotting the components is not difficult now: we can either just plot the pdfs separately (as we still can access them) or in a generalized manner by accessing the `pdfs` attribute:"
   ]
  },
  {
   "cell_type": "code",
   "execution_count": 35,
   "metadata": {},
   "outputs": [],
   "source": [
    "def plot_comp_model(model, data):\n",
    "    for mod, frac in zip(model.pdfs, model.params.values()):\n",
    "        plot_model(mod, data, scale=frac, plot_data=False)\n",
    "    plot_model(model, data)"
   ]
  },
  {
   "cell_type": "code",
   "execution_count": 36,
   "metadata": {},
   "outputs": [
    {
     "data": {
      "image/png": "[encoded data removed]",
      "text/plain": [
       "<Figure size 432x288 with 1 Axes>"
      ]
     },
     "metadata": {
      "needs_background": "light"
     },
     "output_type": "display_data"
    }
   ],
   "source": [
    "plot_comp_model(model, data)"
   ]
  },
  {
   "cell_type": "markdown",
   "metadata": {},
   "source": [
    "Now we can add legends etc. Btw, did you notice that actually, the `frac` params are zfit `Parameters`? But we just used them as if they were Python scalars and it works."
   ]
  },
  {
   "cell_type": "code",
   "execution_count": 37,
   "metadata": {},
   "outputs": [
    {
     "name": "stdout",
     "output_type": "stream",
     "text": [
      "OrderedDict([('frac_0', <zfit.Parameter 'sig_frac' floating=True value=0.3>), ('frac_1', <zfit.Parameter 'comb_bkg_frac' floating=True value=0.25>), ('frac_2', <zfit.ComposedParameter 'Composed_autoparam_2' params=OrderedDict([('param_0', <zfit.Parameter 'sig_frac' floating=True value=0.3>), ('param_1', <zfit.Parameter 'comb_bkg_frac' floating=True value=0.25>)]) value=0.45>)])\n"
     ]
    }
   ],
   "source": [
    "print(model.params)"
   ]
  },
  {
   "cell_type": "markdown",
   "metadata": {},
   "source": [
    "### Extended PDFs\n",
    "\n",
    "So far, we have only looked at normalized PDFs that do contain information about the shape but not about the _absolute_ scale. We can make a PDF extended by adding a yield to it.\n",
    "\n",
    "The behavior of the new, extended PDF does **NOT change**, any methods we called before will act the same. Only exception, some may require an argument _less_ now. All the methods we used so far will return the same values. What changes is that the flag `model.is_extended` now returns `True`. Furthermore, we have now a few more methods that we can use which would have raised an error before:\n",
    "- `get_yield`: return the yield parameter (notice that the yield is _not_ added to the shape parameters `params`)\n",
    "- `ext_{pdf,integrate}`: these methods return the same as the versions used before, however, multiplied by the yield\n",
    "- `sample` is still the same, but does not _require_ the argument `n` anymore. By default, this will now equal to a _poissonian sampled_ n around the yield.\n",
    "\n",
    "The `SumPDF` now does not strictly need `fracs` anymore: if _all_ input PDFs are extended, the sum will be as well and use the (normalized) yields as fracs\n",
    "\n",
    "The preferred way to create an extended PDf is to use `PDF.create_extended(yield)`. However, since this relies on copying the PDF (which may does not work for different reasons), there is also a `set_yield(yield)` method that sets the yield in-place. This won't lead to ambiguities, as everything is supposed to work the same."
   ]
  },
  {
   "cell_type": "code",
   "execution_count": 38,
   "metadata": {},
   "outputs": [],
   "source": [
    "yield_model = zfit.Parameter('yield_model', 10000, 0, 20000, step_size=10)\n",
    "model_ext = model.create_extended(yield_model)"
   ]
  },
  {
   "cell_type": "markdown",
   "metadata": {},
   "source": [
    "alternatively, we can create the models as extended and sum them up"
   ]
  },
  {
   "cell_type": "code",
   "execution_count": 39,
   "metadata": {},
   "outputs": [],
   "source": [
    "sig_yield = zfit.Parameter('sig_yield', 2000, 0, 10000, step_size=1)\n",
    "sig_ext = signal.create_extended(sig_yield)\n",
    "\n",
    "comb_bkg_yield = zfit.Parameter('comb_bkg_yield', 6000, 0, 10000, step_size=1)\n",
    "comb_bkg_ext = comb_bkg.create_extended(comb_bkg_yield)\n",
    "\n",
    "part_reco_yield = zfit.Parameter('part_reco_yield', 2000, 0, 10000, step_size=1)\n",
    "part_reco.set_yield(part_reco_yield)  # unfortunately, `create_extended` does not work here. But no problem, it won't change anyting.\n",
    "part_reco_ext = part_reco"
   ]
  },
  {
   "cell_type": "code",
   "execution_count": 40,
   "metadata": {},
   "outputs": [],
   "source": [
    "model_ext_sum = zfit.pdf.SumPDF([sig_ext, comb_bkg_ext, part_reco_ext])"
   ]
  },
  {
   "cell_type": "markdown",
   "metadata": {},
   "source": [
    "# Loss\n",
    "\n",
    "A loss combines the model and the data, for example to build a likelihood. Furthermore, it can contain constraints, additions to the likelihood. Currently, if the `Data` has weights, these are automatically taken into account."
   ]
  },
  {
   "cell_type": "code",
   "execution_count": 41,
   "metadata": {},
   "outputs": [],
   "source": [
    "nll_gauss = zfit.loss.UnbinnedNLL(gauss, data_normal)"
   ]
  },
  {
   "cell_type": "markdown",
   "metadata": {},
   "source": [
    "The loss has several attributes to be transparent to higher level libraries. We can calculate the value of it using `value`."
   ]
  },
  {
   "cell_type": "code",
   "execution_count": 42,
   "metadata": {},
   "outputs": [
    {
     "data": {
      "text/plain": [
       "<tf.Tensor: shape=(), dtype=float64, numpy=32625.929833399066>"
      ]
     },
     "execution_count": 42,
     "metadata": {},
     "output_type": "execute_result"
    }
   ],
   "source": [
    "nll_gauss.value()"
   ]
  },
  {
   "cell_type": "markdown",
   "metadata": {},
   "source": [
    "Notice that due to graph building, this will take significantly longer on the first run. Rerun the cell above and it will be way faster.\n",
    "\n"
   ]
  },
  {
   "cell_type": "markdown",
   "metadata": {},
   "source": [
    "Furthermore, the loss also provides a possibility to calculate the gradients or, often used, the value and the gradients."
   ]
  },
  {
   "cell_type": "markdown",
   "metadata": {},
   "source": [
    "We can access the data and models (and possible constraints)"
   ]
  },
  {
   "cell_type": "code",
   "execution_count": 43,
   "metadata": {},
   "outputs": [
    {
     "data": {
      "text/plain": [
       "[<zfit.Gauss  params=[mu, sigma42] dtype=float64>0]"
      ]
     },
     "execution_count": 43,
     "metadata": {},
     "output_type": "execute_result"
    }
   ],
   "source": [
    "nll_gauss.model"
   ]
  },
  {
   "cell_type": "code",
   "execution_count": 44,
   "metadata": {},
   "outputs": [
    {
     "data": {
      "text/plain": [
       "[<zfit.core.data.Data at 0x7f17900ed820>]"
      ]
     },
     "execution_count": 44,
     "metadata": {},
     "output_type": "execute_result"
    }
   ],
   "source": [
    "nll_gauss.data"
   ]
  },
  {
   "cell_type": "code",
   "execution_count": 45,
   "metadata": {},
   "outputs": [
    {
     "data": {
      "text/plain": [
       "[]"
      ]
     },
     "execution_count": 45,
     "metadata": {},
     "output_type": "execute_result"
    }
   ],
   "source": [
    "nll_gauss.constraints"
   ]
  },
  {
   "cell_type": "markdown",
   "metadata": {},
   "source": [
    "Similar to the models, we can also get the parameters via `get_params`."
   ]
  },
  {
   "cell_type": "code",
   "execution_count": 46,
   "metadata": {},
   "outputs": [
    {
     "data": {
      "text/plain": [
       "OrderedSet([<zfit.Parameter 'mu' floating=True value=1>, <zfit.Parameter 'sigma42' floating=True value=1>])"
      ]
     },
     "execution_count": 46,
     "metadata": {},
     "output_type": "execute_result"
    }
   ],
   "source": [
    "nll_gauss.get_params()"
   ]
  },
  {
   "cell_type": "markdown",
   "metadata": {},
   "source": [
    "### Extended loss\n",
    "\n",
    "More interestingly, we can now build a loss for our composite sum model using the sampled data. Since we created an extended model, we can now also create an extended likelihood, taking into account a Poisson term to match the yield to the number of events."
   ]
  },
  {
   "cell_type": "code",
   "execution_count": 47,
   "metadata": {},
   "outputs": [],
   "source": [
    "nll = zfit.loss.ExtendedUnbinnedNLL(model_ext_sum, data)"
   ]
  },
  {
   "cell_type": "code",
   "execution_count": 49,
   "metadata": {},
   "outputs": [
    {
     "data": {
      "text/plain": [
       "OrderedSet([<zfit.Parameter 'sig_yield' floating=True value=2000>, <zfit.Parameter 'comb_bkg_yield' floating=True value=6000>, <zfit.Parameter 'part_reco_yield' floating=True value=2000>, <zfit.Parameter 'alpha_sig' floating=True value=300>, <zfit.Parameter 'mu_sig' floating=True value=400>, <zfit.Parameter 'n sig' floating=True value=4>, <zfit.Parameter 'sigma_sig' floating=True value=50>, <zfit.Parameter 'lambda' floating=True value=-0.01>])"
      ]
     },
     "execution_count": 49,
     "metadata": {},
     "output_type": "execute_result"
    }
   ],
   "source": [
    "nll.get_params()"
   ]
  },
  {
   "cell_type": "markdown",
   "metadata": {},
   "source": [
    "# Minimization\n",
    "\n",
    "While a loss is interesting, we usually want to minimize it. Therefore we can use the minimizers in zfit, most notably `Minuit`, a wrapper around the [iminuit minimizer](https://github.com/scikit-hep/iminuit).\n",
    "\n",
    "The philosophy is to create a minimizer instance that is mostly _stateless_, e.g. does not remember the position (there are considerations to make it possible to have a state, in case you feel interested, [contact us](https://github.com/zfit/zfit#contact))\n",
    "\n",
    "Given that iminuit provides us with a very reliable and stable minimizer, it is usually recommended to use this. Others are implemented as well and could easily be wrapped, however, the convergence is usually not as stable.\n",
    "\n",
    "Minuit has a few options:\n",
    "- `tolerance`: the Estimated Distance to Minimum (EDM) criteria for convergence (default 1e-3)\n",
    "- `verbosity`: between 0 and 10, 5 is normal, 7 is verbose, 10 is maximum\n",
    "- `use_minuit_grad`: if True, uses the Minuit numerical gradient instead of the TensorFlow gradient. This is usually more stable for smaller fits; furthermore the TensorFlow gradient _can_ (experience based) sometimes be wrong."
   ]
  },
  {
   "cell_type": "code",
   "execution_count": 50,
   "metadata": {},
   "outputs": [],
   "source": [
    "minimizer = zfit.minimize.Minuit(use_minuit_grad=True)"
   ]
  },
  {
   "cell_type": "markdown",
   "metadata": {},
   "source": [
    "For the minimization, we can call `minimize`, which takes a\n",
    "- loss as we created above\n",
    "- optionally: the parameters to minimize\n",
    "\n",
    "By default, `minimize` uses all the free floating parameters (obtained with `get_params`). We can also explicitly specify which ones to use by giving them (or better, objects that depend on them) to `minimize`; note however that non-floating parameters, even if given explicitly to `minimize` won 't be minimized."
   ]
  },
  {
   "cell_type": "markdown",
   "metadata": {},
   "source": [
    "## Pre-fit parts of the PDF\n",
    "\n",
    "Before we want to fit the whole PDF however, it can be useful to pre-fit it. A way can be to fix the combinatorial background by fitting the exponential to the right tail.\n",
    "\n",
    "Therefore we create a new data object with an additional cut and furthermore, set the normalization range of the background pdf to the range we are interested in."
   ]
  },
  {
   "cell_type": "code",
   "execution_count": 51,
   "metadata": {},
   "outputs": [
    {
     "name": "stdout",
     "output_type": "stream",
     "text": [
      "------------------------------------------------------------------\n",
      "| FCN = 328                     |      Ncalls=19 (19 total)      |\n",
      "| EDM = 9.18e-10 (Goal: 0.001)  |            up = 0.5            |\n",
      "------------------------------------------------------------------\n",
      "|  Valid Min.   | Valid Param.  | Above EDM | Reached call limit |\n",
      "------------------------------------------------------------------\n",
      "|     True      |     True      |   False   |       False        |\n",
      "------------------------------------------------------------------\n",
      "| Hesse failed  |   Has cov.    | Accurate  | Pos. def. | Forced |\n",
      "------------------------------------------------------------------\n",
      "|     False     |     True      |   True    |   True    | False  |\n",
      "------------------------------------------------------------------\n"
     ]
    }
   ],
   "source": [
    "values = z.unstack_x(data)\n",
    "obs_right_tail = zfit.Space('mass', (700, 1000))\n",
    "data_tail = zfit.Data.from_tensor(obs=obs_right_tail, tensor=values)\n",
    "with comb_bkg.set_norm_range(obs_right_tail):\n",
    "    nll_tail = zfit.loss.UnbinnedNLL(comb_bkg, data_tail)\n",
    "    minimizer.minimize(nll_tail)"
   ]
  },
  {
   "cell_type": "markdown",
   "metadata": {},
   "source": [
    "Since we now fit the lambda parameter of the exponential, we can fix it."
   ]
  },
  {
   "cell_type": "code",
   "execution_count": 52,
   "metadata": {},
   "outputs": [
    {
     "data": {
      "text/plain": [
       "<zfit.Parameter 'lambda' floating=False value=-0.008587>"
      ]
     },
     "execution_count": 52,
     "metadata": {},
     "output_type": "execute_result"
    }
   ],
   "source": [
    "lam.floating = False\n",
    "lam"
   ]
  },
  {
   "cell_type": "code",
   "execution_count": 53,
   "metadata": {},
   "outputs": [
    {
     "name": "stdout",
     "output_type": "stream",
     "text": [
      "------------------------------------------------------------------\n",
      "| FCN = -1.93e+04               |     Ncalls=185 (185 total)     |\n",
      "| EDM = 6.35e-06 (Goal: 0.001)  |            up = 0.5            |\n",
      "------------------------------------------------------------------\n",
      "|  Valid Min.   | Valid Param.  | Above EDM | Reached call limit |\n",
      "------------------------------------------------------------------\n",
      "|     True      |     True      |   False   |       False        |\n",
      "------------------------------------------------------------------\n",
      "| Hesse failed  |   Has cov.    | Accurate  | Pos. def. | Forced |\n",
      "------------------------------------------------------------------\n",
      "|     False     |     True      |   True    |   True    | False  |\n",
      "------------------------------------------------------------------\n"
     ]
    }
   ],
   "source": [
    "result = minimizer.minimize(nll)"
   ]
  },
  {
   "cell_type": "code",
   "execution_count": 54,
   "metadata": {},
   "outputs": [
    {
     "data": {
      "image/png": "[encoded data removed]",
      "text/plain": [
       "<Figure size 432x288 with 1 Axes>"
      ]
     },
     "metadata": {
      "needs_background": "light"
     },
     "output_type": "display_data"
    }
   ],
   "source": [
    "plot_comp_model(model_ext_sum, data)"
   ]
  },
  {
   "cell_type": "markdown",
   "metadata": {},
   "source": [
    "# Fit result\n",
    "\n",
    "The result of every minimization is stored in a `FitResult`. This is the last stage of the zfit workflow and serves as the interface to other libraries. Its main purpose is to store the values of the fit, to reference to the objects that have been used and to perform (simple) uncertainty estimation."
   ]
  },
  {
   "cell_type": "code",
   "execution_count": 55,
   "metadata": {},
   "outputs": [
    {
     "name": "stdout",
     "output_type": "stream",
     "text": [
      "FitResult of\n",
      "<ExtendedUnbinnedNLL model=[<zfit.SumPDF  params=[Composed_autoparam_5, Composed_autoparam_6, Composed_autoparam_7] dtype=float64>0] data=[<zfit.core.data.SampleData object at 0x7f176002fdc0>] constraints=[]> \n",
      "with\n",
      "<Minuit strategy=PushbackStrategy tolerance=0.001>\n",
      "\n",
      "╒═════════╤═════════════╤══════════════════╤═════════╤═════════════╕\n",
      "│ valid   │ converged   │ param at limit   │ edm     │ min value   │\n",
      "╞═════════╪═════════════╪══════════════════╪═════════╪═════════════╡\n",
      "│ True    │ True        │ False            │ 6.4e-06 │ -1.93e+04   │\n",
      "╘═════════╧═════════════╧══════════════════╧═════════╧═════════════╛\n",
      "\n",
      "Parameters\n",
      "name               value    at limit\n",
      "---------------  -------  ----------\n",
      "sig_yield           1804       False\n",
      "comb_bkg_yield      1095       False\n",
      "part_reco_yield     7101       False\n",
      "alpha_sig            300       False\n",
      "mu_sig             370.8       False\n",
      "n sig                  4       False\n",
      "sigma_sig          33.87       False\n"
     ]
    }
   ],
   "source": [
    "print(result)"
   ]
  },
  {
   "cell_type": "markdown",
   "metadata": {},
   "source": [
    "This gives an overview over the whole result. Often we're mostly interested in the parameters and their values, which we can access with a `params` attribute."
   ]
  },
  {
   "cell_type": "code",
   "execution_count": 56,
   "metadata": {},
   "outputs": [
    {
     "name": "stdout",
     "output_type": "stream",
     "text": [
      "name               value    at limit\n",
      "---------------  -------  ----------\n",
      "sig_yield           1804       False\n",
      "comb_bkg_yield      1095       False\n",
      "part_reco_yield     7101       False\n",
      "alpha_sig            300       False\n",
      "mu_sig             370.8       False\n",
      "n sig                  4       False\n",
      "sigma_sig          33.87       False\n"
     ]
    }
   ],
   "source": [
    "print(result.params)"
   ]
  },
  {
   "cell_type": "markdown",
   "metadata": {},
   "source": [
    "This is a `dict` which stores any knowledge about the parameters and can be accessed by the parameter (object) itself:"
   ]
  },
  {
   "cell_type": "code",
   "execution_count": 57,
   "metadata": {},
   "outputs": [
    {
     "data": {
      "text/plain": [
       "{'value': 370.7878667059073}"
      ]
     },
     "execution_count": 57,
     "metadata": {},
     "output_type": "execute_result"
    }
   ],
   "source": [
    "result.params[mu_sig]"
   ]
  },
  {
   "cell_type": "markdown",
   "metadata": {},
   "source": [
    "'value' is the value at the minimum. To obtain other information about the minimization process, `result` contains more attributes:\n",
    "- fmin: the function minimum\n",
    "- edm: estimated distance to minimum\n",
    "- info: contains a lot of information, especially the original information returned by a specific minimizer\n",
    "- converged: if the fit converged"
   ]
  },
  {
   "cell_type": "code",
   "execution_count": 58,
   "metadata": {},
   "outputs": [
    {
     "data": {
      "text/plain": [
       "-19300.779346305906"
      ]
     },
     "execution_count": 58,
     "metadata": {},
     "output_type": "execute_result"
    }
   ],
   "source": [
    "result.fmin"
   ]
  },
  {
   "cell_type": "markdown",
   "metadata": {},
   "source": [
    "## Estimating uncertainties\n",
    "\n",
    "The `FitResult` has mainly two methods to estimate the uncertainty:\n",
    "- a profile likelihood method (like MINOS)\n",
    "- Hessian approximation of the likelihood (like HESSE)\n",
    "\n",
    "When using `Minuit`, this uses (currently) it's own implementation. However, zfit has its own implementation, which are likely to become the standard and can be invoked by changing the method name.\n",
    "\n",
    "Hesse is also [on the way to implement](https://github.com/zfit/zfit/pull/244) the [corrections for weights](https://inspirehep.net/literature/1762842).\n",
    "\n",
    "We can explicitly specify which parameters to calculate, by default it does for all."
   ]
  },
  {
   "cell_type": "code",
   "execution_count": 59,
   "metadata": {},
   "outputs": [
    {
     "data": {
      "text/plain": [
       "OrderedDict([(<zfit.Parameter 'sig_yield' floating=True value=1804>,\n",
       "              {'error': 70.15087267737408}),\n",
       "             (<zfit.Parameter 'comb_bkg_yield' floating=True value=1095>,\n",
       "              {'error': 70.35114369167526}),\n",
       "             (<zfit.Parameter 'part_reco_yield' floating=True value=7101>,\n",
       "              {'error': 131.80924912505543}),\n",
       "             (<zfit.Parameter 'alpha_sig' floating=True value=300>,\n",
       "              {'error': 141.4213562373095}),\n",
       "             (<zfit.Parameter 'mu_sig' floating=True value=370.8>,\n",
       "              {'error': 1.3661545484142485}),\n",
       "             (<zfit.Parameter 'n sig' floating=True value=4>,\n",
       "              {'error': 10.069756698215553}),\n",
       "             (<zfit.Parameter 'sigma_sig' floating=True value=33.87>,\n",
       "              {'error': 1.2650183734125646})])"
      ]
     },
     "execution_count": 59,
     "metadata": {},
     "output_type": "execute_result"
    }
   ],
   "source": [
    "result.hesse()"
   ]
  },
  {
   "cell_type": "code",
   "execution_count": 60,
   "metadata": {},
   "outputs": [],
   "source": [
    "# result.hesse(method='hesse_np')"
   ]
  },
  {
   "cell_type": "markdown",
   "metadata": {},
   "source": [
    "We get the result directly returned. This is also added to `result.params` for each parameter and is nicely displayed with an added column"
   ]
  },
  {
   "cell_type": "code",
   "execution_count": 61,
   "metadata": {},
   "outputs": [
    {
     "name": "stdout",
     "output_type": "stream",
     "text": [
      "name               value    minuit_hesse    at limit\n",
      "---------------  -------  --------------  ----------\n",
      "sig_yield           1804     +/-      70       False\n",
      "comb_bkg_yield      1095     +/-      70       False\n",
      "part_reco_yield     7101     +/- 1.3e+02       False\n",
      "alpha_sig            300     +/- 1.4e+02       False\n",
      "mu_sig             370.8     +/-     1.4       False\n",
      "n sig                  4     +/-      10       False\n",
      "sigma_sig          33.87     +/-     1.3       False\n"
     ]
    }
   ],
   "source": [
    "print(result.params)"
   ]
  },
  {
   "cell_type": "code",
   "execution_count": 62,
   "metadata": {},
   "outputs": [
    {
     "name": "stderr",
     "output_type": "stream",
     "text": [
      "/home/jonas/Documents/physics/software/zfit_project/zfit_repo/zfit/minimizers/fitresult.py:360: FutureWarning: 'minuit_minos' will be changed as the default errors method to a custom implementationwith the same functionality. If you want to make sure that 'minuit_minos' will be used in the future, add it explicitly as in `errors(method='minuit_minos')`\n",
      "  warnings.warn(\"'minuit_minos' will be changed as the default errors method to a custom implementation\"\n"
     ]
    }
   ],
   "source": [
    "errors, new_result = result.errors(params=[sig_yield, part_reco_yield, mu_sig])  # just using three for speed reasons"
   ]
  },
  {
   "cell_type": "code",
   "execution_count": 63,
   "metadata": {},
   "outputs": [],
   "source": [
    "# errors, new_result = result.errors(params=[yield_model, sig_frac, mu_sig], method='zfit_error')"
   ]
  },
  {
   "cell_type": "code",
   "execution_count": 64,
   "metadata": {},
   "outputs": [
    {
     "name": "stdout",
     "output_type": "stream",
     "text": [
      "OrderedDict([(<zfit.Parameter 'sig_yield' floating=True value=1804>, MError(name='sig_yield', is_valid=True, lower=-69.66325485797651, upper=70.75759128186598, lower_valid=True, upper_valid=True, at_lower_limit=False, at_upper_limit=False, at_lower_max_fcn=False, at_upper_max_fcn=False, lower_new_min=False, upper_new_min=False, nfcn=138, min=1803.8532804234746)), (<zfit.Parameter 'part_reco_yield' floating=True value=7101>, MError(name='part_reco_yield', is_valid=True, lower=-131.88637854089905, upper=132.34447403753458, lower_valid=True, upper_valid=True, at_lower_limit=False, at_upper_limit=False, at_lower_max_fcn=False, at_upper_max_fcn=False, lower_new_min=False, upper_new_min=False, nfcn=60, min=7101.093509366213)), (<zfit.Parameter 'mu_sig' floating=True value=370.8>, MError(name='mu_sig', is_valid=True, lower=-1.36717243612375, upper=1.356060293846917, lower_valid=True, upper_valid=True, at_lower_limit=False, at_upper_limit=False, at_lower_max_fcn=False, at_upper_max_fcn=False, lower_new_min=False, upper_new_min=False, nfcn=106, min=370.7878667059073))])\n"
     ]
    }
   ],
   "source": [
    "print(errors)"
   ]
  },
  {
   "cell_type": "code",
   "execution_count": 65,
   "metadata": {},
   "outputs": [
    {
     "name": "stdout",
     "output_type": "stream",
     "text": [
      "name               value    minuit_hesse         minuit_minos    at limit\n",
      "---------------  -------  --------------  -------------------  ----------\n",
      "sig_yield           1804     +/-      70  -     70   +     71       False\n",
      "comb_bkg_yield      1095     +/-      70                            False\n",
      "part_reco_yield     7101     +/- 1.3e+02  -1.3e+02   +1.3e+02       False\n",
      "alpha_sig            300     +/- 1.4e+02                            False\n",
      "mu_sig             370.8     +/-     1.4  -    1.4   +    1.4       False\n",
      "n sig                  4     +/-      10                            False\n",
      "sigma_sig          33.87     +/-     1.3                            False\n"
     ]
    }
   ],
   "source": [
    "print(result.params)"
   ]
  },
  {
   "cell_type": "markdown",
   "metadata": {},
   "source": [
    "#### What is 'new_result'?\n",
    "\n",
    "When profiling a likelihood, such as done in the algorithm used in `errors`, a new minimum can be found. If this is the case, this new minimum will be returned, otherwise `new_result` is `None`. Furthermore, the current `result` would be rendered invalid by setting the flag `valid` to `False`. _Note_: this behavior only applies to the zfit internal error estimator."
   ]
  },
  {
   "cell_type": "markdown",
   "metadata": {},
   "source": [
    "### A simple profile\n",
    "\n",
    "There is no default function (yet) for simple profiling plot. However, again, we're in Python and it's simple enough to do that for a parameter. Let's do it for `sig_yield`"
   ]
  },
  {
   "cell_type": "code",
   "execution_count": 66,
   "metadata": {},
   "outputs": [
    {
     "data": {
      "text/plain": [
       "<zfit.util.temporary.TemporarilySet at 0x7f16cc8d7550>"
      ]
     },
     "execution_count": 66,
     "metadata": {},
     "output_type": "execute_result"
    }
   ],
   "source": [
    "x = np.linspace(1600, 2000, num=50)\n",
    "y = []\n",
    "sig_yield.floating = False\n",
    "for val in x:\n",
    "    sig_yield.set_value(val)\n",
    "    y.append(nll.value())\n",
    "\n",
    "sig_yield.floating = True\n",
    "zfit.param.set_values(nll.get_params(), result)"
   ]
  },
  {
   "cell_type": "code",
   "execution_count": 67,
   "metadata": {},
   "outputs": [
    {
     "data": {
      "text/plain": [
       "[<matplotlib.lines.Line2D at 0x7f16cc536a00>]"
      ]
     },
     "execution_count": 67,
     "metadata": {},
     "output_type": "execute_result"
    },
    {
     "data": {
      "image/png": "[encoded data removed]",
      "text/plain": [
       "<Figure size 432x288 with 1 Axes>"
      ]
     },
     "metadata": {
      "needs_background": "light"
     },
     "output_type": "display_data"
    }
   ],
   "source": [
    "plt.plot(x, y)"
   ]
  },
  {
   "cell_type": "markdown",
   "metadata": {},
   "source": [
    "We can also access the covariance matrix of the parameters"
   ]
  },
  {
   "cell_type": "code",
   "execution_count": 68,
   "metadata": {},
   "outputs": [
    {
     "data": {
      "text/plain": [
       "array([[ 4.92114494e+03,  1.14332473e+03, -4.33133015e+03,\n",
       "         0.00000000e+00, -1.99905281e+01,  0.00000000e+00,\n",
       "         4.04511667e+01],\n",
       "       [ 1.14332473e+03,  4.94928342e+03, -5.67290390e+03,\n",
       "         0.00000000e+00, -6.88067541e+00,  0.00000000e+00,\n",
       "         1.48550756e+01],\n",
       "       [-4.33133015e+03, -5.67290390e+03,  1.73736782e+04,\n",
       "         0.00000000e+00,  2.77291911e+01,  0.00000000e+00,\n",
       "        -5.58205907e+01],\n",
       "       [ 0.00000000e+00,  0.00000000e+00,  0.00000000e+00,\n",
       "         2.00000000e+04,  0.00000000e+00,  0.00000000e+00,\n",
       "         0.00000000e+00],\n",
       "       [-1.99905281e+01, -6.88067541e+00,  2.77291911e+01,\n",
       "         0.00000000e+00,  1.86637825e+00,  0.00000000e+00,\n",
       "        -3.46142640e-01],\n",
       "       [ 0.00000000e+00,  0.00000000e+00,  0.00000000e+00,\n",
       "         0.00000000e+00,  0.00000000e+00,  1.01400000e+02,\n",
       "         0.00000000e+00],\n",
       "       [ 4.04511667e+01,  1.48550756e+01, -5.58205907e+01,\n",
       "         0.00000000e+00, -3.46142640e-01,  0.00000000e+00,\n",
       "         1.60027149e+00]])"
      ]
     },
     "execution_count": 68,
     "metadata": {},
     "output_type": "execute_result"
    }
   ],
   "source": [
    "result.covariance()"
   ]
  },
  {
   "cell_type": "markdown",
   "metadata": {},
   "source": [
    "# End of zfit\n",
    "\n",
    "This is where zfit finishes and other libraries take over."
   ]
  },
  {
   "cell_type": "markdown",
   "metadata": {},
   "source": [
    "# Beginning of hepstats"
   ]
  },
  {
   "cell_type": "markdown",
   "metadata": {},
   "source": [
    "`hepstats` is a library containing statistical tools and utilities for high energy physics. In particular you do statistical inferences using the models and likelhoods function constructed in `zfit`.\n",
    "\n",
    "Short example: let's compute for instance a confidence interval at 68 % confidence level on the mean of the gaussian defined above."
   ]
  },
  {
   "cell_type": "code",
   "execution_count": 69,
   "metadata": {},
   "outputs": [],
   "source": [
    "from hepstats.hypotests.parameters import POIarray\n",
    "from hepstats.hypotests.calculators import AsymptoticCalculator\n",
    "from hepstats.hypotests import ConfidenceInterval"
   ]
  },
  {
   "cell_type": "code",
   "execution_count": 70,
   "metadata": {},
   "outputs": [],
   "source": [
    "calculator = AsymptoticCalculator(input=result, minimizer=minimizer)"
   ]
  },
  {
   "cell_type": "code",
   "execution_count": 71,
   "metadata": {},
   "outputs": [],
   "source": [
    "value = result.params[mu_sig][\"value\"]\n",
    "error = result.params[mu_sig][\"minuit_hesse\"][\"error\"]\n",
    "\n",
    "mean_scan = POIarray(mu_sig, np.linspace(value - 1.5*error, value + 1.5*error, 10))"
   ]
  },
  {
   "cell_type": "code",
   "execution_count": 72,
   "metadata": {},
   "outputs": [],
   "source": [
    "ci = ConfidenceInterval(calculator, mean_scan)"
   ]
  },
  {
   "cell_type": "code",
   "execution_count": 73,
   "metadata": {},
   "outputs": [
    {
     "name": "stdout",
     "output_type": "stream",
     "text": [
      "\n",
      "Confidence interval on mu_sig:\n",
      "\t369.42424650773955 < mu_sig < 372.1404588905455 at 68.0% C.L.\n"
     ]
    },
    {
     "data": {
      "text/plain": [
       "{'observed': 370.7878667059073,\n",
       " 'upper': 372.1404588905455,\n",
       " 'lower': 369.42424650773955}"
      ]
     },
     "execution_count": 73,
     "metadata": {},
     "output_type": "execute_result"
    }
   ],
   "source": [
    "ci.interval()"
   ]
  },
  {
   "cell_type": "code",
   "execution_count": 74,
   "metadata": {},
   "outputs": [
    {
     "data": {
      "text/plain": [
       "Text(0.5, 0, 'mean')"
      ]
     },
     "execution_count": 74,
     "metadata": {},
     "output_type": "execute_result"
    },
    {
     "data": {
      "image/png": "[encoded data removed]",
      "text/plain": [
       "<Figure size 432x288 with 1 Axes>"
      ]
     },
     "metadata": {
      "needs_background": "light"
     },
     "output_type": "display_data"
    }
   ],
   "source": [
    "from utils import one_minus_cl_plot\n",
    "\n",
    "ax = one_minus_cl_plot(ci)\n",
    "ax.set_xlabel(\"mean\")"
   ]
  },
  {
   "cell_type": "markdown",
   "metadata": {},
   "source": [
    "There will be more of `hepstats` later."
   ]
  }
 ],
 "metadata": {
  "kernelspec": {
   "display_name": "Python 3",
   "language": "python",
   "name": "python3"
  },
  "language_info": {
   "codemirror_mode": {
    "name": "ipython",
    "version": 3
   },
   "file_extension": ".py",
   "mimetype": "text/x-python",
   "name": "python",
   "nbconvert_exporter": "python",
   "pygments_lexer": "ipython3",
   "version": "3.8.3"
  }
 },
 "nbformat": 4,
 "nbformat_minor": 4
}
