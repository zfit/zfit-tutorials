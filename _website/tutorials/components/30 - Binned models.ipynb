{
 "cells": [
  {
   "cell_type": "markdown",
   "metadata": {
    "pycharm": {
     "name": "#%% md\n"
    }
   },
   "source": [
    "# Binned fits\n",
    "\n",
    "Binned models and data can be created in two ways:\n",
    "- from an unbinned model to a binned model or an unbinned dataset to a binned dataset\n",
    "- directly from a binned object"
   ]
  },
  {
   "cell_type": "code",
   "execution_count": null,
   "metadata": {
    "collapsed": false,
    "jupyter": {
     "outputs_hidden": false
    },
    "pycharm": {
     "name": "#%%\n"
    }
   },
   "outputs": [],
   "source": [
    "import hist as hist\n",
    "import mplhep\n",
    "import numpy as np\n",
    "import zfit"
   ]
  },
  {
   "cell_type": "code",
   "execution_count": null,
   "metadata": {
    "collapsed": false,
    "jupyter": {
     "outputs_hidden": false
    },
    "pycharm": {
     "name": "#%%\n"
    }
   },
   "outputs": [],
   "source": [
    "from matplotlib import pyplot as plt\n",
    "\n",
    "normal_np = np.random.normal(loc=2., scale=3., size=10000)\n",
    "\n",
    "obs = zfit.Space(\"x\", limits=(-10, 10))\n",
    "\n",
    "mu = zfit.Parameter(\"mu\", 1., -4, 6)\n",
    "sigma = zfit.Parameter(\"sigma\", 1., 0.1, 10)\n",
    "model_nobin = zfit.pdf.Gauss(mu, sigma, obs)\n",
    "\n",
    "data_nobin = zfit.Data.from_numpy(obs, normal_np)\n",
    "\n",
    "loss_nobin = zfit.loss.UnbinnedNLL(model_nobin, data_nobin)"
   ]
  },
  {
   "cell_type": "code",
   "execution_count": null,
   "metadata": {
    "collapsed": false,
    "jupyter": {
     "outputs_hidden": false
    },
    "pycharm": {
     "name": "#%%\n"
    }
   },
   "outputs": [],
   "source": [
    "# make binned\n",
    "binning = zfit.binned.Regular(50, -8, 10, name=\"x\")\n",
    "obs_bin = zfit.Space(\"x\", binning=binning)\n",
    "\n",
    "data = data_nobin.to_binned(obs_bin)\n",
    "model = zfit.pdf.BinnedFromUnbinnedPDF(model_nobin, obs_bin)\n",
    "loss = zfit.loss.BinnedNLL(model, data)"
   ]
  },
  {
   "cell_type": "markdown",
   "source": [
    "## Minimization\n",
    "\n",
    "Both loss look the same to a minimizer and from here on, the whole minimization process is the same.\n",
    "\n",
    "The following is the same as in the most simple case."
   ],
   "metadata": {
    "collapsed": false,
    "pycharm": {
     "name": "#%% md\n"
    }
   }
  },
  {
   "cell_type": "code",
   "execution_count": null,
   "outputs": [],
   "source": [
    "minimizer = zfit.minimize.Minuit()\n",
    "result = minimizer.minimize(loss)"
   ],
   "metadata": {
    "collapsed": false,
    "pycharm": {
     "name": "#%%\n"
    }
   }
  },
  {
   "cell_type": "code",
   "execution_count": null,
   "outputs": [],
   "source": [
    "result.hesse()\n",
    "print(result)"
   ],
   "metadata": {
    "collapsed": false,
    "pycharm": {
     "name": "#%%\n"
    }
   }
  },
  {
   "cell_type": "markdown",
   "source": [
    "## Plotting the PDF\n",
    "\n",
    "Since both PDFs are histograms, they can both be converted to histograms and plotted.\n",
    "\n",
    "Using the `to_hist` method of the model and the `BinnedData` respectively, the data can be converted to a histogram."
   ],
   "metadata": {
    "collapsed": false,
    "pycharm": {
     "name": "#%% md\n"
    }
   }
  },
  {
   "cell_type": "code",
   "execution_count": null,
   "outputs": [],
   "source": [
    "model_hist = model.to_hist()\n",
    "\n",
    "plt.figure()\n",
    "mplhep.histplot(model_hist, density=1, label=\"model\")\n",
    "mplhep.histplot(data.to_hist(), density=1, label=\"data\")\n",
    "plt.legend()\n",
    "plt.title(\"After fit\")\n"
   ],
   "metadata": {
    "collapsed": false,
    "pycharm": {
     "name": "#%%\n"
    }
   }
  },
  {
   "cell_type": "markdown",
   "source": [
    "## To and from histograms\n",
    "\n",
    "zfit interoperates with the Scikit-HEP histogram packages [hist](https://hist.readthedocs.io/en/latest/) and\n",
    "[boost-histogram](https://boost-histogram.readthedocs.io/en/latest/), most notably with the `NamedHist`\n",
    " (or `Hist` if axes have a name) class.\n",
    "\n",
    "We can create a `BinnedData` from a `(Named)Hist` and vice versa."
   ],
   "metadata": {
    "collapsed": false
   }
  },
  {
   "cell_type": "code",
   "execution_count": null,
   "outputs": [],
   "source": [
    "h = hist.Hist(hist.axis.Regular(bins=15, start=-8, stop=10, name=\"x\"))\n",
    "h.fill(x=normal_np)\n",
    "mplhep.histplot(h)"
   ],
   "metadata": {
    "collapsed": false,
    "pycharm": {
     "name": "#%%\n"
    }
   }
  },
  {
   "cell_type": "code",
   "execution_count": null,
   "outputs": [],
   "source": [
    "binned_data = zfit.data.BinnedData.from_hist(h)\n",
    "binned_data"
   ],
   "metadata": {
    "collapsed": false,
    "pycharm": {
     "name": "#%%\n"
    }
   }
  },
  {
   "cell_type": "code",
   "source": [
    "# convert back to hist\n",
    "h_back = binned_data.to_hist()\n",
    "\n",
    "plt.figure()\n",
    "mplhep.histplot(h, label=\"original\")\n",
    "mplhep.histplot(h_back, label=\"back\", alpha=0.5)\n",
    "plt.legend()"
   ],
   "metadata": {
    "collapsed": false,
    "pycharm": {
     "name": "#%%\n"
    }
   },
   "execution_count": null,
   "outputs": []
  },
  {
   "cell_type": "markdown",
   "source": [
    "## Model from a histogram\n",
    "\n",
    "With a binned dataset, we can directly create a model from it using"
   ],
   "metadata": {
    "collapsed": false
   }
  },
  {
   "cell_type": "code",
   "execution_count": null,
   "outputs": [],
   "source": [
    "azimov_data = model.to_binneddata()\n",
    "sampled_data = model.sample(1000)"
   ],
   "metadata": {
    "collapsed": false,
    "pycharm": {
     "name": "#%%\n"
    }
   }
  },
  {
   "cell_type": "code",
   "execution_count": null,
   "metadata": {
    "collapsed": false,
    "jupyter": {
     "outputs_hidden": false
    },
    "pycharm": {
     "name": "#%%\n"
    }
   },
   "outputs": [],
   "source": [
    "# The exact histogram from the PDF\n",
    "azimov_data"
   ]
  },
  {
   "cell_type": "code",
   "execution_count": null,
   "metadata": {
    "collapsed": false,
    "jupyter": {
     "outputs_hidden": false
    },
    "pycharm": {
     "name": "#%%\n"
    }
   },
   "outputs": [],
   "source": [
    "# A sample from the histogram\n",
    "sampled_data\n"
   ]
  },
  {
   "cell_type": "code",
   "execution_count": null,
   "outputs": [],
   "source": [],
   "metadata": {
    "collapsed": false,
    "pycharm": {
     "name": "#%%\n"
    }
   }
  },
  {
   "cell_type": "code",
   "execution_count": null,
   "outputs": [],
   "source": [],
   "metadata": {
    "collapsed": false,
    "pycharm": {
     "name": "#%%\n"
    }
   }
  }
 ],
 "metadata": {
  "kernelspec": {
   "display_name": "Python 3",
   "language": "python",
   "name": "python3"
  },
  "language_info": {
   "codemirror_mode": {
    "name": "ipython",
    "version": 3
   },
   "file_extension": ".py",
   "mimetype": "text/x-python",
   "name": "python",
   "nbconvert_exporter": "python",
   "pygments_lexer": "ipython3",
   "version": "3.8.10"
  }
 },
 "nbformat": 4,
 "nbformat_minor": 4
}