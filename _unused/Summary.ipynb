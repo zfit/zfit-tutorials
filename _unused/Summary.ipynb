{
 "cells": [
  {
   "cell_type": "markdown",
   "metadata": {
    "inputHidden": false,
    "outputHidden": false
   },
   "source": [
    "# The zfit package\n",
    "\n",
    "Currently, the functionality of the zfit package is two-fold: design a high-level API to manage model building, fitting and generation, and implement this API using the `tensorflow` backend.\n",
    "\n",
    "The final goal is to be able to, given a PDF model `pdf`, a dataset `data`, and a list of `params` to minimize, perform minimization tasks such as\n",
    "\n",
    "```python\n",
    "from zfit.minimize import Minuit\n",
    "\n",
    "nll = zfit.unbinned_nll(pdf, data, norm_range=(-10, 10))\n",
    "minimizer = Minuit()\n",
    "minimizer.minimize(nll, params)\n",
    "minimizer.hesse(params)\n",
    "minimizer.error(params)\n",
    "result = minimizer.get_state()\n",
    "```\n",
    "\n",
    "and generation in a very simple way\n",
    "\n",
    "```python\n",
    "sample = pdf.sample(n_draws=int(1e7), limits=(-10, 10))\n",
    "```"
   ]
  },
  {
   "cell_type": "markdown",
   "metadata": {},
   "source": [
    "## API\n",
    "\n",
    "The main concepts in the API are\n",
    "  - Parameters\n",
    "  - PDFs (for the time being, let's consider scalar functions as unnormalized PDFs)\n",
    "  - Minimizers\n",
    "\n",
    "In the following, we informally outline the basics of each of these objects, but we will not go into some of the more nitty-gritty API details.\n"
   ]
  },
  {
   "cell_type": "markdown",
   "metadata": {},
   "source": [
    "### Parameters\n",
    "\n",
    "Parameters are named quantities to be optimized in the minimization problems we are trying to solve.\n",
    "Classes implementing parameters contain the value of the parameter, its limits, whether it's fixed or not, and eventually symmetric and asymmetric errors.\n",
    "\n",
    "\n",
    "A *Parameter* initialization **MUST** contain its name and its initial value, and **MAY** include its lower and upper limits.\n",
    "\n",
    "One can access the parameter information through the following properties (names are self explanatory):\n",
    "  - Values are `init_value` are `fitted_value`.\n",
    "  - Name is accessed through `name`.\n",
    "  - Errors are `error`, `upper_error` and `lower_error`, and raise an error if one tries to access them without having performed a minimization first.\n",
    "\n",
    "Additionally, the parameter can be fixed/unfixed setting the `floating` flag to either True or False.\n",
    "\n"
   ]
  },
  {
   "cell_type": "markdown",
   "metadata": {},
   "source": [
    "### PDFs\n",
    "\n",
    "PDF objects are normalized distributions, typically as a function of several parameters.\n",
    "A very important concept is the *normalization range*, which is mandatory in most operations involving PDFs.\n",
    "\n",
    "*Note*: details on how to compose and create your own PDFs, implement integrals, etc, belong to the implementation and will be discussed later.\n",
    "\n",
    "PDF objects **MUST** be initialized giving their named parameters, and **MAY** also have a name. For example:\n",
    "\n",
    "```python\n",
    "gauss = zfit.pdf.Gauss(mu=mu, sigma=sigma, name=\"My Gaussian\")\n",
    "```\n",
    "\n",
    "The main methods of the PDF are then\n",
    "\n",
    "- Getting the probability through the `probs` method, which **MUST** be called with a data array `x` and a normalization range `norm_range` as inputs. For example:\n",
    "\n",
    "    ```\n",
    "    # Get the probabilities of some random generated events\n",
    "    probs = gauss.prob(x=np.random.random(10), norm_range=(-30., 30))\n",
    "    ```\n",
    "- there **MUST** be the option to *temporarely* set the norm_range of a pdf with a contextmanager.**(ALBERT: mention it? ok?)**\n",
    "\n",
    "    ```python\n",
    "    with pdf.temp_norm_range((1, 5)):\n",
    "        pdf.prob(data)  # norm_range is now set\n",
    "     ```\n",
    "\n",
    "- Getting the value of its integral in some given `limits`. While the `norm_range` is also mandatory here, it may be requested that this integral is calculated over the unnormalized PDF by setting it to `False`:\n",
    "\n",
    "    ```python\n",
    "    # Calculate the integral between -5 and 3 over the PDF normalized between -30 and 30\n",
    "    integral_norm = gauss.integrate(limits=(-5, 3), norm_range=(-30., 30))\n",
    "    # Calculate the unnormalized integral\n",
    "    integral_unnorm = gauss.integrate(limits=(-5, 3), norm_range=False)\n",
    "    ```\n",
    "\n",
    "- Sampling from the PDF is done through the `sample` method, which **MUST** include the number of events `n_draws` as well as the limits from which to draw (`limits`):\n",
    "\n",
    "    ```python\n",
    "    # Draw 1000 samples within (-10, 10)\n",
    "    sample = gauss.sample(n_draws=1000, limits=(-10, 10))\n",
    "    ```\n",
    "\n",
    "Additionally, extended PDFs, which will result in anything using a `norm_range` to not return the probability but the number probability (the function will be normalized to this yield instead of 1 inside the `norm_range`), can be created through the `set_yield` method, which **MUST** get a parameter as input:\n",
    "\n",
    "```python\n",
    "yield1 = Parameter(\"yield1\", 100, 0, 1000)\n",
    "gauss.set_yield(yield1)\n",
    "# This integral yields approx 100\n",
    "integral_extended = gauss.integrate(limits=(-10, 10), norm_range=(-10, 10))\n",
    "```\n",
    "\n",
    "The `is_extended` property can be then used to check whether a PDF is extended or not.\n",
    "\n",
    "Loss functions can then be build using `pdf.prob`, following a common interface, in which the model, the dataset and the normalization range **MUST** be given, and where parameter constraints in form of a dictionary `{param: constraint}` **MAY** be given.\n",
    "As an example for unbinned NLL (but it's the same for binned NLL, $\\chi^2$, etc), one would write\n",
    "\n",
    "```python\n",
    "my_loss = zfit.unbinned_nll(gauss,\n",
    "                            data,\n",
    "                            norm_range=(-10, 10),\n",
    "                            constraints={})\n",
    "```"
   ]
  },
  {
   "cell_type": "markdown",
   "metadata": {},
   "source": [
    "### Minimizers\n",
    "\n",
    "Minimizer objects are key to provide a coherent fitting API.\n",
    "They are tied to a loss function and they keep an internal state that can be queried at any moment.\n",
    "\n",
    "In their initialization, the loss function **MUST** be given. Additionally, the `params` to minimize, the `tolerance`, its `name`, as well as any other arguments needed to configure a particular algorithm **MAY** be given.\n",
    "\n",
    "The API **REQUIRES** to implement the following methods:\n",
    "- `minimize(params)`, which returns an `int` with the status.\n",
    "- `step(params)`, which performs only one step of the minimization procedure. If not applicable, this returns `NotImplementedError`.\n",
    "- `hesse(params)`, which calculates the Hessian.\n",
    "- `error(params)`, which calculates the two-sided error. This typically complicated function can be configured with `set_error_options`. Additionally, several methods for calculating this error can be implemented in a given minimizer, and the `set_error_method` method can be used to set the one called by `error`.\n",
    "- `get_state(copy=True)`, which returns the internal state of the minimizer, *ie*, the parameters, their errors, etc. The optional `copy` parameters controls whether a copy of the internal state (which would be the equivalent of a fit result) is returned, or just a view (reference) of it."
   ]
  },
  {
   "cell_type": "markdown",
   "metadata": {},
   "source": [
    "## Implementation\n",
    "\n",
    "zfit implements the above API in pure python based on the `tensorflow` framework.\n",
    "\n",
    "Feature-wise, it adds the capability of building complex models and implementing your own PDFs, some useful functions to make its usage easy, and the possibility of running in a non-eager, advanced mode that allows to take advantage of `tensorflow` graphs.\n",
    "\n",
    "In addition, it aims to implement a large library of distributions wrapping `tensorflow.distributions` plus the addition of specific HEP ones (not only normalized distributions, but also functions such as spin factors or Blatt-Weisskopf barrier factors), and a complete set of minimizers (currently Minuit, `scipy.optimize` and `tensorflow` optimizers).\n",
    "\n",
    "As a general idea, context managers will be also implemented wherever there are repetitive parameters to be used (for example, setting normalization ranges) to allow for cleaner code.\n"
   ]
  },
  {
   "cell_type": "markdown",
   "metadata": {},
   "source": [
    "Now we'll walk through some simple examples to showcase how zfit is implemented and how to use it in a practical way.\n",
    "\n",
    "*Note*: We will run in advanced mode (that is, no eager execution, and thus DAG all `tensorflow` objects are DAGs) to illustrate how `tensorflow` is leveraged behind the scenes.\n",
    "When running in \"normal\" mode, all these complications (such as the use of sessions and delayed execution) will not be there, thus resulting in simpler code. A context manager will be provided to switch to non-eager execution on the fly.\n"
   ]
  },
  {
   "cell_type": "code",
   "execution_count": 1,
   "metadata": {
    "inputHidden": false,
    "outputHidden": false
   },
   "outputs": [
    {
     "name": "stderr",
     "output_type": "stream",
     "text": [
      "/Users/albert/.virtualenvs/zfit-qokI31rn/lib/python3.6/importlib/_bootstrap.py:219: RuntimeWarning: compiletime version 3.5 of module 'tensorflow.python.framework.fast_tensor_util' does not match runtime version 3.6\n",
      "  return f(*args, **kwds)\n"
     ]
    },
    {
     "name": "stdout",
     "output_type": "stream",
     "text": [
      "TensorFlow version: 1.10.1\n",
      "Executing eagerly: False\n"
     ]
    }
   ],
   "source": [
    "import matplotlib.pyplot as plt\n",
    "import numpy as np\n",
    "import tensorflow as tf\n",
    "import zfit\n",
    "\n",
    "print(\"TensorFlow version:\", tf.__version__)\n",
    "print(\"Executing eagerly:\", tf.executing_eagerly())"
   ]
  },
  {
   "cell_type": "markdown",
   "metadata": {},
   "source": [
    "To start off, let's create a few datasets to play with (*note*: no data helpers have been implemented yet, so it's necessary to use tensorflow directly)."
   ]
  },
  {
   "cell_type": "code",
   "execution_count": 2,
   "metadata": {},
   "outputs": [
    {
     "data": {
      "image/png": "[encoded data removed]",
      "text/plain": [
       "<Figure size 432x288 with 1 Axes>"
      ]
     },
     "metadata": {
      "needs_background": "light"
     },
     "output_type": "display_data"
    }
   ],
   "source": [
    "gauss_at_five = np.random.normal(5.1, 1.2, size=10000)\n",
    "gauss_at_ten = np.random.normal(10.4, 2.3, size=5000)\n",
    "exp = np.random.exponential(10, size=8000)\n",
    "_ = plt.hist(np.concatenate([exp,gauss_at_five,gauss_at_ten]),\n",
    "             bins=50,\n",
    "             range=(0, 20))"
   ]
  },
  {
   "cell_type": "code",
   "execution_count": 3,
   "metadata": {
    "inputHidden": false,
    "outputHidden": false
   },
   "outputs": [],
   "source": [
    "ds_gauss_at_five = tf.convert_to_tensor(gauss_at_five)\n",
    "ds_gauss_at_ten = tf.convert_to_tensor(gauss_at_ten)\n",
    "ds_exp = tf.convert_to_tensor(exp)"
   ]
  },
  {
   "cell_type": "markdown",
   "metadata": {
    "inputHidden": false,
    "outputHidden": false
   },
   "source": [
    "Now we can try to fit one of the Gaussians.\n",
    "To do that, we need to create the parameters, instantiate a PDF and run the fitting procedure."
   ]
  },
  {
   "cell_type": "code",
   "execution_count": 4,
   "metadata": {},
   "outputs": [
    {
     "name": "stdout",
     "output_type": "stream",
     "text": [
      "WARNING:tensorflow:From /Users/albert/.virtualenvs/zfit-qokI31rn/lib/python3.6/site-packages/tensorflow_probability/python/monte_carlo.py:161: calling reduce_mean (from tensorflow.python.ops.math_ops) with keep_dims is deprecated and will be removed in a future version.\n",
      "Instructions for updating:\n",
      "keep_dims is deprecated, use keepdims instead\n"
     ]
    }
   ],
   "source": [
    "# This shortcut function will be available in zfit, but here\n",
    "# we use the core one to highlight the use of tensorflow graphs\n",
    "def api_unbinned_nll(pdf, data, norm_range):\n",
    "    return zfit.core.loss.unbinned_nll(pdf.prob(data, norm_range=norm_range))\n",
    "\n",
    "mu1 = zfit.FitParameter(\"mu\", 5.0, 0., 10)\n",
    "sigma1 = zfit.FitParameter(\"sigma\", 1, 0.1, 5.)\n",
    "gauss1 = zfit.pdf.Gauss(mu=mu1, sigma=sigma1)\n",
    "\n",
    "nll1 = api_unbinned_nll(gauss1, ds_gauss_at_five, (0, 20))"
   ]
  },
  {
   "cell_type": "code",
   "execution_count": 5,
   "metadata": {
    "inputHidden": false,
    "outputHidden": false
   },
   "outputs": [
    {
     "name": "stderr",
     "output_type": "stream",
     "text": [
      "/Users/albert/Arxiu/Fisica/LHCb/Projectes/zfit/zfit/zfit/minimizers/minimizer_minuit.py:54: InitialParamWarning: errordef is not given. Default to 1.\n",
      "  **error_limit_kwargs)\n"
     ]
    },
    {
     "data": {
      "text/html": [
       "<hr>"
      ]
     },
     "metadata": {},
     "output_type": "execute_result"
    },
    {
     "data": {
      "text/html": [
       "<table>\n",
       "    <tr>\n",
       "        <td title=\"Minimum value of function\">FCN = 15876.374294859168</td>\n",
       "        <td title=\"Total number of call to FCN so far\">TOTAL NCALL = 65</td>\n",
       "        <td title=\"Number of call in last migrad\">NCALLS = 63</td>\n",
       "    </tr>\n",
       "    <tr>\n",
       "        <td title=\"Estimated distance to minimum\">EDM = 0.016735406494794127</td>\n",
       "        <td title=\"Maximum EDM definition of convergence\">GOAL EDM = 1e-05</td>\n",
       "        <td title=\"Error def. Amount of increase in FCN to be defined as 1 standard deviation\">\n",
       "        UP = 1.0</td>\n",
       "    </tr>\n",
       "</table>\n",
       "<table>\n",
       "    <tr>\n",
       "        <td align=\"center\" title=\"Validity of the migrad call\">Valid</td>\n",
       "        <td align=\"center\" title=\"Validity of parameters\">Valid Param</td>\n",
       "        <td align=\"center\" title=\"Is Covariance matrix accurate?\">Accurate Covar</td>\n",
       "        <td align=\"center\" title=\"Positive definiteness of covariance matrix\">PosDef</td>\n",
       "        <td align=\"center\" title=\"Was covariance matrix made posdef by adding diagonal element\">Made PosDef</td>\n",
       "    </tr>\n",
       "    <tr>\n",
       "        <td align=\"center\" style=\"background-color:#FF7878\">False</td>\n",
       "        <td align=\"center\" style=\"background-color:#92CCA6\">True</td>\n",
       "        <td align=\"center\" style=\"background-color:#92CCA6\">True</td>\n",
       "        <td align=\"center\" style=\"background-color:#92CCA6\">True</td>\n",
       "        <td align=\"center\" style=\"background-color:#92CCA6\">False</td>\n",
       "    </tr>\n",
       "    <tr>\n",
       "        <td align=\"center\" title=\"Was last hesse call fail?\">Hesse Fail</td>\n",
       "        <td align=\"center\" title=\"Validity of covariance\">HasCov</td>\n",
       "        <td align=\"center\" title=\"Is EDM above goal EDM?\">Above EDM</td>\n",
       "        <td align=\"center\"></td>\n",
       "        <td align=\"center\" title=\"Did last migrad call reach max call limit?\">Reach calllim</td>\n",
       "    </tr>\n",
       "    <tr>\n",
       "        <td align=\"center\" style=\"background-color:#92CCA6\">False</td>\n",
       "        <td align=\"center\" style=\"background-color:#92CCA6\">True</td>\n",
       "        <td align=\"center\" style=\"background-color:#FF7878\">True</td>\n",
       "        <td align=\"center\"></td>\n",
       "        <td align=\"center\" style=\"background-color:#92CCA6\">False</td>\n",
       "    </tr>\n",
       "</table>"
      ]
     },
     "metadata": {},
     "output_type": "execute_result"
    },
    {
     "data": {
      "text/html": [
       "<table>\n",
       "    <tr>\n",
       "        <td><a href=\"#\" onclick=\"$('#DaQZszpAyE').toggle()\">+</a></td>\n",
       "        <td title=\"Variable name\">Name</td>\n",
       "        <td title=\"Value of parameter\">Value</td>\n",
       "        <td title=\"Hesse error\">Hesse Error</td>\n",
       "        <td title=\"Minos lower error\">Minos Error-</td>\n",
       "        <td title=\"Minos upper error\">Minos Error+</td>\n",
       "        <td title=\"Lower limit of the parameter\">Limit-</td>\n",
       "        <td title=\"Upper limit of the parameter\">Limit+</td>\n",
       "        <td title=\"Is the parameter fixed in the fit\">Fixed?</td>\n",
       "    </tr>\n",
       "    <tr>\n",
       "        <td>0</td>\n",
       "        <td>Variable:0</td>\n",
       "        <td>5.11246</td>\n",
       "        <td>0.0168953</td>\n",
       "        <td></td>\n",
       "        <td></td>\n",
       "        <td>0</td>\n",
       "        <td>10</td>\n",
       "        <td>No</td>\n",
       "    </tr>\n",
       "    <tr>\n",
       "        <td>1</td>\n",
       "        <td>Variable_1:0</td>\n",
       "        <td>1.18336</td>\n",
       "        <td>0.0121354</td>\n",
       "        <td></td>\n",
       "        <td></td>\n",
       "        <td>0.1</td>\n",
       "        <td>5</td>\n",
       "        <td>No</td>\n",
       "    </tr>\n",
       "</table>\n",
       "<pre id=\"DaQZszpAyE\" style=\"display:none;\">\n",
       "<textarea rows=\"10\" cols=\"50\" onclick=\"this.select()\" readonly>\n",
       "\\begin{tabular}{|c|r|r|r|r|r|r|r|c|}\n",
       "\\hline\n",
       " & Name & Value & Hesse Error & Minos Error- & Minos Error+ & Limit- & Limit+ & Fixed?\\\\\n",
       "\\hline\n",
       "0 & Variable:0 & 5.11246 & 0.0168953 &  &  & 0.0 & 10 & No\\\\\n",
       "\\hline\n",
       "1 & $Variable_{1:0}$ & 1.18336 & 0.0121354 &  &  & 0.10000000149011612 & 5 & No\\\\\n",
       "\\hline\n",
       "\\end{tabular}\n",
       "</textarea>\n",
       "</pre>"
      ]
     },
     "metadata": {},
     "output_type": "execute_result"
    },
    {
     "data": {
      "text/html": [
       "<hr>"
      ]
     },
     "metadata": {},
     "output_type": "execute_result"
    },
    {
     "data": {
      "text/html": [
       "<table>\n",
       "    <tr>\n",
       "        <td><a href=\"#\" onclick=\"$('#PMGYKiulap').toggle()\">+</a></td>\n",
       "        <td title=\"Variable name\">Name</td>\n",
       "        <td title=\"Value of parameter\">Value</td>\n",
       "        <td title=\"Hesse error\">Hesse Error</td>\n",
       "        <td title=\"Minos lower error\">Minos Error-</td>\n",
       "        <td title=\"Minos upper error\">Minos Error+</td>\n",
       "        <td title=\"Lower limit of the parameter\">Limit-</td>\n",
       "        <td title=\"Upper limit of the parameter\">Limit+</td>\n",
       "        <td title=\"Is the parameter fixed in the fit\">Fixed?</td>\n",
       "    </tr>\n",
       "    <tr>\n",
       "        <td>0</td>\n",
       "        <td>Variable:0</td>\n",
       "        <td>5.11246</td>\n",
       "        <td>0.00118433</td>\n",
       "        <td></td>\n",
       "        <td></td>\n",
       "        <td>0</td>\n",
       "        <td>10</td>\n",
       "        <td>No</td>\n",
       "    </tr>\n",
       "    <tr>\n",
       "        <td>1</td>\n",
       "        <td>Variable_1:0</td>\n",
       "        <td>1.18336</td>\n",
       "        <td>2.70514</td>\n",
       "        <td></td>\n",
       "        <td></td>\n",
       "        <td>0.1</td>\n",
       "        <td>5</td>\n",
       "        <td>No</td>\n",
       "    </tr>\n",
       "</table>\n",
       "<pre id=\"PMGYKiulap\" style=\"display:none;\">\n",
       "<textarea rows=\"10\" cols=\"50\" onclick=\"this.select()\" readonly>\n",
       "\\begin{tabular}{|c|r|r|r|r|r|r|r|c|}\n",
       "\\hline\n",
       " & Name & Value & Hesse Error & Minos Error- & Minos Error+ & Limit- & Limit+ & Fixed?\\\\\n",
       "\\hline\n",
       "0 & Variable:0 & 5.11246 & 0.00118433 &  &  & 0.0 & 10 & No\\\\\n",
       "\\hline\n",
       "1 & $Variable_{1:0}$ & 1.18336 & 2.70514 &  &  & 0.10000000149011612 & 5 & No\\\\\n",
       "\\hline\n",
       "\\end{tabular}\n",
       "</textarea>\n",
       "</pre>"
      ]
     },
     "metadata": {},
     "output_type": "execute_result"
    },
    {
     "data": {
      "text/html": [
       "<table>\n",
       "    <tr>\n",
       "        <td><a onclick=\"$('#mFajHEVIZb').toggle()\" href=\"#\">+</a></td> <td>Variable:0</td> <td>Variable_1:0</td>\n",
       "    </tr>\n",
       "    <tr>\n",
       "        <td>Variable:0</td> <td style=\"background-color:rgb(255,117,117)\">1.00</td> <td style=\"background-color:rgb(255,117,117)\">1.00</td>\n",
       "    </tr>\n",
       "    <tr>\n",
       "        <td>Variable_1:0</td> <td style=\"background-color:rgb(255,117,117)\">1.00</td> <td style=\"background-color:rgb(255,117,117)\">1.00</td>\n",
       "    </tr>\n",
       "</table>\n",
       "<pre id=\"mFajHEVIZb\" style=\"display:none;\">\n",
       "<textarea rows=\"13\" cols=\"50\" onclick=\"this.select()\" readonly>\n",
       "%\\usepackage[table]{xcolor} % include this for color\n",
       "%\\usepackage{rotating} % include this for rotate header\n",
       "%\\documentclass[xcolor=table]{beamer} % for beamer\n",
       "\\begin{tabular}{|c|c|c|}\n",
       "\\hline\n",
       "\\rotatebox{90}{} & \\rotatebox{90}{Variable:0} & \\rotatebox{90}{$Variable_{1:0}$}\\\\\n",
       "\\hline\n",
       "Variable:0 & \\cellcolor[RGB]{255,117,117} 1.00 & \\cellcolor[RGB]{255,117,117} 1.00\\\\\n",
       "\\hline\n",
       "$Variable_{1:0}$ & \\cellcolor[RGB]{255,117,117} 1.00 & \\cellcolor[RGB]{255,117,117} 1.00\\\\\n",
       "\\hline\n",
       "\\end{tabular}\n",
       "</textarea>\n",
       "</pre>"
      ]
     },
     "metadata": {},
     "output_type": "execute_result"
    },
    {
     "ename": "RuntimeError",
     "evalue": "Function mimimum is not valid. Make sure migrad converge first",
     "output_type": "error",
     "traceback": [
      "\u001B[0;31m---------------------------------------------------------------------------\u001B[0m",
      "\u001B[0;31mRuntimeError\u001B[0m                              Traceback (most recent call last)",
      "\u001B[0;32m<ipython-input-5-454097630a1d>\u001B[0m in \u001B[0;36m<module>\u001B[0;34m\u001B[0m\n\u001B[1;32m      9\u001B[0m     \u001B[0m_\u001B[0m \u001B[0;34m=\u001B[0m \u001B[0mminimizer\u001B[0m\u001B[0;34m.\u001B[0m\u001B[0mminimize\u001B[0m\u001B[0;34m(\u001B[0m\u001B[0msess\u001B[0m\u001B[0;34m=\u001B[0m\u001B[0msess\u001B[0m\u001B[0;34m)\u001B[0m\u001B[0;34m\u001B[0m\u001B[0m\n\u001B[1;32m     10\u001B[0m     \u001B[0m_\u001B[0m \u001B[0;34m=\u001B[0m \u001B[0mminimizer\u001B[0m\u001B[0;34m.\u001B[0m\u001B[0mhesse\u001B[0m\u001B[0;34m(\u001B[0m\u001B[0msess\u001B[0m\u001B[0;34m=\u001B[0m\u001B[0msess\u001B[0m\u001B[0;34m)\u001B[0m\u001B[0;34m\u001B[0m\u001B[0m\n\u001B[0;32m---> 11\u001B[0;31m     \u001B[0m_\u001B[0m \u001B[0;34m=\u001B[0m \u001B[0mminimizer\u001B[0m\u001B[0;34m.\u001B[0m\u001B[0merror\u001B[0m\u001B[0;34m(\u001B[0m\u001B[0msess\u001B[0m\u001B[0;34m=\u001B[0m\u001B[0msess\u001B[0m\u001B[0;34m)\u001B[0m\u001B[0;34m\u001B[0m\u001B[0m\n\u001B[0m\u001B[1;32m     12\u001B[0m \u001B[0;34m\u001B[0m\u001B[0m\n\u001B[1;32m     13\u001B[0m \u001B[0mstate\u001B[0m \u001B[0;34m=\u001B[0m \u001B[0mminimizer\u001B[0m\u001B[0;34m.\u001B[0m\u001B[0mget_state\u001B[0m\u001B[0;34m(\u001B[0m\u001B[0;34m)\u001B[0m\u001B[0;34m\u001B[0m\u001B[0m\n",
      "\u001B[0;32m~/Arxiu/Fisica/LHCb/Projectes/zfit/zfit/zfit/core/minimizer.py\u001B[0m in \u001B[0;36merror\u001B[0;34m(self, params, sess)\u001B[0m\n\u001B[1;32m    174\u001B[0m         \u001B[0;32mwith\u001B[0m \u001B[0mself\u001B[0m\u001B[0;34m.\u001B[0m\u001B[0m_temp_sess\u001B[0m\u001B[0;34m(\u001B[0m\u001B[0msess\u001B[0m\u001B[0;34m=\u001B[0m\u001B[0msess\u001B[0m\u001B[0;34m)\u001B[0m\u001B[0;34m:\u001B[0m\u001B[0;34m\u001B[0m\u001B[0m\n\u001B[1;32m    175\u001B[0m             \u001B[0merror_method\u001B[0m \u001B[0;34m=\u001B[0m \u001B[0mself\u001B[0m\u001B[0;34m.\u001B[0m\u001B[0m_current_error_method\u001B[0m\u001B[0;34m\u001B[0m\u001B[0m\n\u001B[0;32m--> 176\u001B[0;31m             \u001B[0merrors\u001B[0m \u001B[0;34m=\u001B[0m \u001B[0merror_method\u001B[0m\u001B[0;34m(\u001B[0m\u001B[0mparams\u001B[0m\u001B[0;34m=\u001B[0m\u001B[0mparams\u001B[0m\u001B[0;34m,\u001B[0m \u001B[0;34m**\u001B[0m\u001B[0mself\u001B[0m\u001B[0;34m.\u001B[0m\u001B[0m_current_error_options\u001B[0m\u001B[0;34m)\u001B[0m\u001B[0;34m\u001B[0m\u001B[0m\n\u001B[0m\u001B[1;32m    177\u001B[0m             \u001B[0;32mfor\u001B[0m \u001B[0mparam\u001B[0m \u001B[0;32min\u001B[0m \u001B[0mparams\u001B[0m\u001B[0;34m:\u001B[0m\u001B[0;34m\u001B[0m\u001B[0m\n\u001B[1;32m    178\u001B[0m                 \u001B[0mparam\u001B[0m\u001B[0;34m.\u001B[0m\u001B[0mlower_error\u001B[0m \u001B[0;34m=\u001B[0m \u001B[0merrors\u001B[0m\u001B[0;34m[\u001B[0m\u001B[0mparam\u001B[0m\u001B[0;34m.\u001B[0m\u001B[0mname\u001B[0m\u001B[0;34m]\u001B[0m\u001B[0;34m[\u001B[0m\u001B[0;34m'lower_error'\u001B[0m\u001B[0;34m]\u001B[0m\u001B[0;34m\u001B[0m\u001B[0m\n",
      "\u001B[0;32m~/Arxiu/Fisica/LHCb/Projectes/zfit/zfit/zfit/minimizers/minimizer_minuit.py\u001B[0m in \u001B[0;36m_minuit_minos\u001B[0;34m(self, params, sigma)\u001B[0m\n\u001B[1;32m     69\u001B[0m             \u001B[0mparams\u001B[0m \u001B[0;34m=\u001B[0m \u001B[0mself\u001B[0m\u001B[0;34m.\u001B[0m\u001B[0mget_parameters\u001B[0m\u001B[0;34m(\u001B[0m\u001B[0;34m)\u001B[0m\u001B[0;34m\u001B[0m\u001B[0m\n\u001B[1;32m     70\u001B[0m         \u001B[0mparams_name\u001B[0m \u001B[0;34m=\u001B[0m \u001B[0mself\u001B[0m\u001B[0;34m.\u001B[0m\u001B[0m_extract_parameter_names\u001B[0m\u001B[0;34m(\u001B[0m\u001B[0mparams\u001B[0m\u001B[0;34m=\u001B[0m\u001B[0mparams\u001B[0m\u001B[0;34m)\u001B[0m\u001B[0;34m\u001B[0m\u001B[0m\n\u001B[0;32m---> 71\u001B[0;31m         \u001B[0mresult\u001B[0m \u001B[0;34m=\u001B[0m \u001B[0;34m[\u001B[0m\u001B[0mself\u001B[0m\u001B[0;34m.\u001B[0m\u001B[0m_minuit_minimizer\u001B[0m\u001B[0;34m.\u001B[0m\u001B[0mminos\u001B[0m\u001B[0;34m(\u001B[0m\u001B[0mvar\u001B[0m\u001B[0;34m=\u001B[0m\u001B[0mp_name\u001B[0m\u001B[0;34m)\u001B[0m \u001B[0;32mfor\u001B[0m \u001B[0mp_name\u001B[0m \u001B[0;32min\u001B[0m \u001B[0mparams_name\u001B[0m\u001B[0;34m]\u001B[0m\u001B[0;34m[\u001B[0m\u001B[0;34m-\u001B[0m\u001B[0;36m1\u001B[0m\u001B[0;34m]\u001B[0m  \u001B[0;31m# returns every var\u001B[0m\u001B[0;34m\u001B[0m\u001B[0m\n\u001B[0m\u001B[1;32m     72\u001B[0m         \u001B[0mresult\u001B[0m \u001B[0;34m=\u001B[0m \u001B[0;34m{\u001B[0m\u001B[0mp_name\u001B[0m\u001B[0;34m:\u001B[0m \u001B[0mresult\u001B[0m\u001B[0;34m[\u001B[0m\u001B[0mp_name\u001B[0m\u001B[0;34m]\u001B[0m \u001B[0;32mfor\u001B[0m \u001B[0mp_name\u001B[0m \u001B[0;32min\u001B[0m \u001B[0mparams_name\u001B[0m\u001B[0;34m}\u001B[0m\u001B[0;34m\u001B[0m\u001B[0m\n\u001B[1;32m     73\u001B[0m         \u001B[0;32mfor\u001B[0m \u001B[0merror_dict\u001B[0m \u001B[0;32min\u001B[0m \u001B[0mresult\u001B[0m\u001B[0;34m.\u001B[0m\u001B[0mvalues\u001B[0m\u001B[0;34m(\u001B[0m\u001B[0;34m)\u001B[0m\u001B[0;34m:\u001B[0m\u001B[0;34m\u001B[0m\u001B[0m\n",
      "\u001B[0;32m~/Arxiu/Fisica/LHCb/Projectes/zfit/zfit/zfit/minimizers/minimizer_minuit.py\u001B[0m in \u001B[0;36m<listcomp>\u001B[0;34m(.0)\u001B[0m\n\u001B[1;32m     69\u001B[0m             \u001B[0mparams\u001B[0m \u001B[0;34m=\u001B[0m \u001B[0mself\u001B[0m\u001B[0;34m.\u001B[0m\u001B[0mget_parameters\u001B[0m\u001B[0;34m(\u001B[0m\u001B[0;34m)\u001B[0m\u001B[0;34m\u001B[0m\u001B[0m\n\u001B[1;32m     70\u001B[0m         \u001B[0mparams_name\u001B[0m \u001B[0;34m=\u001B[0m \u001B[0mself\u001B[0m\u001B[0;34m.\u001B[0m\u001B[0m_extract_parameter_names\u001B[0m\u001B[0;34m(\u001B[0m\u001B[0mparams\u001B[0m\u001B[0;34m=\u001B[0m\u001B[0mparams\u001B[0m\u001B[0;34m)\u001B[0m\u001B[0;34m\u001B[0m\u001B[0m\n\u001B[0;32m---> 71\u001B[0;31m         \u001B[0mresult\u001B[0m \u001B[0;34m=\u001B[0m \u001B[0;34m[\u001B[0m\u001B[0mself\u001B[0m\u001B[0;34m.\u001B[0m\u001B[0m_minuit_minimizer\u001B[0m\u001B[0;34m.\u001B[0m\u001B[0mminos\u001B[0m\u001B[0;34m(\u001B[0m\u001B[0mvar\u001B[0m\u001B[0;34m=\u001B[0m\u001B[0mp_name\u001B[0m\u001B[0;34m)\u001B[0m \u001B[0;32mfor\u001B[0m \u001B[0mp_name\u001B[0m \u001B[0;32min\u001B[0m \u001B[0mparams_name\u001B[0m\u001B[0;34m]\u001B[0m\u001B[0;34m[\u001B[0m\u001B[0;34m-\u001B[0m\u001B[0;36m1\u001B[0m\u001B[0;34m]\u001B[0m  \u001B[0;31m# returns every var\u001B[0m\u001B[0;34m\u001B[0m\u001B[0m\n\u001B[0m\u001B[1;32m     72\u001B[0m         \u001B[0mresult\u001B[0m \u001B[0;34m=\u001B[0m \u001B[0;34m{\u001B[0m\u001B[0mp_name\u001B[0m\u001B[0;34m:\u001B[0m \u001B[0mresult\u001B[0m\u001B[0;34m[\u001B[0m\u001B[0mp_name\u001B[0m\u001B[0;34m]\u001B[0m \u001B[0;32mfor\u001B[0m \u001B[0mp_name\u001B[0m \u001B[0;32min\u001B[0m \u001B[0mparams_name\u001B[0m\u001B[0;34m}\u001B[0m\u001B[0;34m\u001B[0m\u001B[0m\n\u001B[1;32m     73\u001B[0m         \u001B[0;32mfor\u001B[0m \u001B[0merror_dict\u001B[0m \u001B[0;32min\u001B[0m \u001B[0mresult\u001B[0m\u001B[0;34m.\u001B[0m\u001B[0mvalues\u001B[0m\u001B[0;34m(\u001B[0m\u001B[0;34m)\u001B[0m\u001B[0;34m:\u001B[0m\u001B[0;34m\u001B[0m\u001B[0m\n",
      "\u001B[0;32miminuit/_libiminuit.pyx\u001B[0m in \u001B[0;36miminuit._libiminuit.Minuit.minos\u001B[0;34m()\u001B[0m\n",
      "\u001B[0;31mRuntimeError\u001B[0m: Function mimimum is not valid. Make sure migrad converge first"
     ]
    }
   ],
   "source": [
    "from zfit.minimize import MinuitMinimizer\n",
    "\n",
    "minimizer = MinuitMinimizer(nll1)\n",
    "# Prepare tensorflow, this will be removed in the future\n",
    "init = tf.global_variables_initializer()\n",
    "\n",
    "with tf.Session() as sess:\n",
    "    sess.run(init)\n",
    "    _ = minimizer.minimize(sess=sess)\n",
    "    _ = minimizer.hesse(sess=sess)\n",
    "    _ = minimizer.error(sess=sess)\n",
    "\n",
    "state = minimizer.get_state()\n",
    "print(state)"
   ]
  },
  {
   "cell_type": "code",
   "execution_count": 6,
   "metadata": {
    "inputHidden": false,
    "outputHidden": false
   },
   "outputs": [
    {
     "ename": "NameError",
     "evalue": "name 'state' is not defined",
     "output_type": "error",
     "traceback": [
      "\u001B[0;31m---------------------------------------------------------------------------\u001B[0m",
      "\u001B[0;31mNameError\u001B[0m                                 Traceback (most recent call last)",
      "\u001B[0;32m<ipython-input-6-be40e32f4970>\u001B[0m in \u001B[0;36m<module>\u001B[0;34m\u001B[0m\n\u001B[0;32m----> 1\u001B[0;31m \u001B[0mstate\u001B[0m\u001B[0;34m.\u001B[0m\u001B[0mget_parameters\u001B[0m\u001B[0;34m(\u001B[0m\u001B[0;34m)\u001B[0m\u001B[0;34m\u001B[0m\u001B[0m\n\u001B[0m",
      "\u001B[0;31mNameError\u001B[0m: name 'state' is not defined"
     ]
    }
   ],
   "source": [
    "state.get_parameters()"
   ]
  },
  {
   "cell_type": "code",
   "execution_count": 7,
   "metadata": {
    "inputHidden": false,
    "outputHidden": false
   },
   "outputs": [
    {
     "data": {
      "image/png": "[encoded data removed]",
      "text/plain": [
       "<Figure size 432x288 with 1 Axes>"
      ]
     },
     "metadata": {
      "needs_background": "light"
     },
     "output_type": "display_data"
    }
   ],
   "source": [
    "n_bins = 50\n",
    "range_ = (0, 20)\n",
    "_ = plt.hist(gauss_at_five, bins=n_bins, range=range_)\n",
    "x = np.linspace(*range_, num=1000)\n",
    "with tf.Session() as sess:\n",
    "    sess.run(init)\n",
    "    pdf = sess.run(gauss1.prob(x, norm_range=range_))\n",
    "_ = plt.plot(x, gauss_at_five.shape[0]/n_bins*20.*pdf)"
   ]
  },
  {
   "cell_type": "code",
   "execution_count": 8,
   "metadata": {
    "inputHidden": false,
    "outputHidden": false
   },
   "outputs": [],
   "source": []
  }
 ],
 "metadata": {
  "kernel_info": {
   "name": "zfit"
  },
  "kernelspec": {
   "display_name": "Python 3",
   "language": "python",
   "name": "python3"
  },
  "language_info": {
   "codemirror_mode": {
    "name": "ipython",
    "version": 3
   },
   "file_extension": ".py",
   "mimetype": "text/x-python",
   "name": "python",
   "nbconvert_exporter": "python",
   "pygments_lexer": "ipython3",
   "version": "3.6.8"
  },
  "nteract": {
   "version": "0.12.3"
  }
 },
 "nbformat": 4,
 "nbformat_minor": 4
}