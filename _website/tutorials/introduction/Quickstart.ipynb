{
 "cells": [
  {
   "cell_type": "code",
   "execution_count": null,
   "metadata": {
    "pycharm": {
     "name": "#%%\n"
    },
    "tags": [
     "hide-cell"
    ]
   },
   "outputs": [],
   "source": [
    "%%capture\n",
    "\n",
    "from IPython import get_ipython\n",
    "\n",
    "install_packages = \"google.colab\" in str(get_ipython())\n",
    "if install_packages:\n",
    "    !pip install zfit"
   ]
  },
  {
   "cell_type": "markdown",
   "metadata": {
    "inputHidden": false,
    "outputHidden": false,
    "pycharm": {
     "name": "#%% md\n"
    }
   },
   "source": [
    "# Quickstart\n",
    "\n",
    "In this quick tutorial, we'll show the basic ideas on what you can do with `zfit`, without going into much detail or performing advanced tasks.\n"
   ]
  },
  {
   "cell_type": "code",
   "execution_count": null,
   "metadata": {
    "pycharm": {
     "name": "#%%\n"
    }
   },
   "outputs": [],
   "source": [
    "import numpy as np\n",
    "import zfit\n",
    "import zfit.z.numpy  # numpy-like backend\n",
    "from zfit import z  # backend"
   ]
  },
  {
   "cell_type": "markdown",
   "metadata": {
    "inputHidden": false,
    "outputHidden": false,
    "pycharm": {
     "name": "#%% md\n"
    }
   },
   "source": [
    "## Create observables\n",
    "\n",
    "The observable space in which PDFs are defined is created with the `Space` class"
   ]
  },
  {
   "cell_type": "code",
   "execution_count": null,
   "metadata": {
    "inputHidden": false,
    "outputHidden": false,
    "pycharm": {
     "name": "#%%\n"
    }
   },
   "outputs": [],
   "source": [
    "obs = zfit.Space('x', -10, 10)"
   ]
  },
  {
   "cell_type": "markdown",
   "metadata": {
    "inputHidden": false,
    "outputHidden": false,
    "pycharm": {
     "name": "#%% md\n"
    }
   },
   "source": [
    "## Create data\n",
    "\n",
    "We create some unbinned data using `numpy`. Other constructors, e.g. for `ROOT` files are also available."
   ]
  },
  {
   "cell_type": "code",
   "execution_count": null,
   "metadata": {
    "inputHidden": false,
    "outputHidden": false,
    "pycharm": {
     "name": "#%%\n"
    }
   },
   "outputs": [],
   "source": [
    "mu_true = 0\n",
    "sigma_true = 1\n",
    "\n",
    "data_np = np.random.normal(mu_true, sigma_true, size=10000)\n",
    "data = zfit.data.Data.from_numpy(obs=obs, array=data_np)"
   ]
  },
  {
   "cell_type": "markdown",
   "metadata": {
    "inputHidden": false,
    "outputHidden": false,
    "pycharm": {
     "name": "#%% md\n"
    }
   },
   "source": [
    "## Create a PDF to fit\n",
    "\n",
    "Let's create a Gaussian PDF so we can fit the dataset. To do this, first we create the fit parameters, which follow a convention similar to `RooFit`:\n",
    "\n",
    "```\n",
    "zfit.Parameter(name, initial_value, lower_limit (optional), upper_limit (optional), other options)\n",
    "```"
   ]
  },
  {
   "cell_type": "code",
   "execution_count": null,
   "metadata": {
    "pycharm": {
     "name": "#%%\n"
    }
   },
   "outputs": [],
   "source": [
    "mu = zfit.Parameter(\"mu\", 2.4, -1., 5., step_size=0.001)  # step_size is not mandatory but can be helpful\n",
    "sigma = zfit.Parameter(\"sigma\", 1.3, 0, 5., step_size=0.001)  # it should be around the estimated uncertainty"
   ]
  },
  {
   "cell_type": "markdown",
   "metadata": {
    "inputHidden": false,
    "outputHidden": false,
    "pycharm": {
     "name": "#%% md\n"
    }
   },
   "source": [
    "Now we instantiate a Gaussian from the zfit PDF library (more on how to create your own PDFs later)"
   ]
  },
  {
   "cell_type": "code",
   "execution_count": null,
   "metadata": {
    "pycharm": {
     "name": "#%%\n"
    }
   },
   "outputs": [],
   "source": [
    "gauss = zfit.pdf.Gauss(obs=obs, mu=mu, sigma=sigma)"
   ]
  },
  {
   "cell_type": "markdown",
   "metadata": {
    "inputHidden": false,
    "outputHidden": false,
    "pycharm": {
     "name": "#%% md\n"
    }
   },
   "source": [
    "This pdf contains several useful methods, such as calculating a probability, calculating its integral, sampling etc."
   ]
  },
  {
   "cell_type": "code",
   "execution_count": null,
   "metadata": {
    "pycharm": {
     "name": "#%%\n"
    }
   },
   "outputs": [],
   "source": [
    "# Let's get some probabilities.\n",
    "consts = [-1, 0, 1]\n",
    "probs = gauss.pdf(consts)\n",
    "print(f\"x values: {consts}\\nresult:   {probs}\")"
   ]
  },
  {
   "cell_type": "markdown",
   "metadata": {
    "inputHidden": false,
    "outputHidden": false,
    "pycharm": {
     "name": "#%% md\n"
    }
   },
   "source": [
    "## Fitting\n",
    "\n",
    "To fit, we need to take three steps: create the negative $\\log\\mathcal{L}$, instantiate a minimizer and then minimize the likelihood."
   ]
  },
  {
   "cell_type": "code",
   "execution_count": null,
   "metadata": {
    "inputHidden": false,
    "outputHidden": false,
    "pycharm": {
     "name": "#%%\n"
    }
   },
   "outputs": [],
   "source": [
    "# Create the negative log likelihood\n",
    "\n",
    "nll = zfit.loss.UnbinnedNLL(model=gauss, data=data)  # loss\n",
    "\n",
    "# Load and instantiate a minimizer\n",
    "minimizer = zfit.minimize.Minuit()\n",
    "minimum = minimizer.minimize(loss=nll)\n",
    "\n",
    "params = minimum.params\n",
    "\n",
    "print(minimum)"
   ]
  },
  {
   "cell_type": "markdown",
   "metadata": {
    "inputHidden": false,
    "outputHidden": false,
    "pycharm": {
     "name": "#%% md\n"
    }
   },
   "source": [
    "And we can plot the result to see how it went."
   ]
  },
  {
   "cell_type": "code",
   "execution_count": null,
   "metadata": {
    "inputHidden": false,
    "outputHidden": false,
    "pycharm": {
     "name": "#%%\n"
    }
   },
   "outputs": [],
   "source": [
    "%matplotlib inline"
   ]
  },
  {
   "cell_type": "code",
   "execution_count": null,
   "metadata": {
    "inputHidden": false,
    "outputHidden": false,
    "pycharm": {
     "name": "#%%\n"
    }
   },
   "outputs": [],
   "source": [
    "import matplotlib.pyplot as plt\n",
    "\n",
    "n_bins = 50\n",
    "range_ = (-5,5)\n",
    "_ = plt.hist(data_np, bins=n_bins, range=range_)\n",
    "x = np.linspace(*range_, num=1000)\n",
    "probs = gauss.pdf(x)\n",
    "_ = plt.plot(x, data_np.shape[0] / n_bins * (range_[1] - range_[0]) * probs)"
   ]
  },
  {
   "cell_type": "markdown",
   "metadata": {
    "inputHidden": false,
    "outputHidden": false,
    "pycharm": {
     "name": "#%% md\n"
    }
   },
   "source": [
    "The `FitResult` that we obtained contains information about the minimization and can now be used to calculate the errors"
   ]
  },
  {
   "cell_type": "code",
   "execution_count": null,
   "metadata": {
    "pycharm": {
     "name": "#%%\n"
    }
   },
   "outputs": [],
   "source": [
    "print(f\"Function minimum: {minimum.fmin}\", minimum.fmin)\n",
    "print(f\"Converged: {minimum.converged} and valid: {minimum.valid}\", )\n",
    "print(minimum)"
   ]
  },
  {
   "cell_type": "code",
   "execution_count": null,
   "metadata": {
    "pycharm": {
     "name": "#%%\n"
    }
   },
   "outputs": [],
   "source": [
    "hesse_errors = minimum.hesse()"
   ]
  },
  {
   "cell_type": "code",
   "execution_count": null,
   "metadata": {
    "pycharm": {
     "name": "#%%\n"
    }
   },
   "outputs": [],
   "source": [
    "print(minimum)"
   ]
  },
  {
   "cell_type": "code",
   "execution_count": null,
   "metadata": {
    "pycharm": {
     "name": "#%%\n"
    }
   },
   "outputs": [],
   "source": []
  }
 ],
 "metadata": {
  "kernel_info": {
   "name": "zfit"
  },
  "kernelspec": {
   "display_name": "Python 3 (ipykernel)",
   "language": "python",
   "name": "python3"
  },
  "language_info": {
   "codemirror_mode": {
    "name": "ipython",
    "version": 3
   },
   "file_extension": ".py",
   "mimetype": "text/x-python",
   "name": "python",
   "nbconvert_exporter": "python",
   "pygments_lexer": "ipython3",
   "version": "3.10.4"
  },
  "nteract": {
   "version": "0.12.3"
  }
 },
 "nbformat": 4,
 "nbformat_minor": 4
}
